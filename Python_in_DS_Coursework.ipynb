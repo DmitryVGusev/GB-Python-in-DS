{
 "cells": [
  {
   "cell_type": "markdown",
   "metadata": {},
   "source": [
    "# Python для DataScience\n",
    "## Курсовая работа"
   ]
  },
  {
   "cell_type": "markdown",
   "metadata": {},
   "source": [
    "В этой курсовой работе мы будем обучать модель, предсказывающую цены на квартиры"
   ]
  },
  {
   "cell_type": "code",
   "execution_count": 143,
   "metadata": {},
   "outputs": [],
   "source": [
    "import pandas as pd\n",
    "import numpy as np\n",
    "\n",
    "from sklearn.model_selection import train_test_split\n",
    "from sklearn.model_selection import GridSearchCV\n",
    "from sklearn.tree import DecisionTreeRegressor\n",
    "from sklearn.ensemble import RandomForestRegressor\n",
    "from sklearn.metrics import r2_score\n",
    "from sklearn.linear_model import Lasso\n",
    "\n",
    "from multiprocessing import Pool\n",
    "\n",
    "import matplotlib.pyplot as plt\n",
    "%matplotlib inline\n",
    "\n",
    "import warnings\n",
    "warnings.filterwarnings('ignore')"
   ]
  },
  {
   "cell_type": "markdown",
   "metadata": {},
   "source": [
    "### Загрузка данных"
   ]
  },
  {
   "cell_type": "markdown",
   "metadata": {},
   "source": [
    "Скачаем датасеты:"
   ]
  },
  {
   "cell_type": "code",
   "execution_count": 144,
   "metadata": {},
   "outputs": [],
   "source": [
    "from urllib import request\n",
    "from os.path import isfile\n",
    "\n",
    "train_url = 'https://uploads.hb.cldmail.ru/asset/1381522/attachment/302b3d11658ce764f4e8655292566e11.csv'\n",
    "test_url = 'https://uploads.hb.cldmail.ru/asset/1381521/attachment/f74867a92dc85932950369d8d31db3b0.csv'\n",
    "\n",
    "train_path = 'train.csv'\n",
    "test_path = 'test.csv'\n",
    "\n",
    "if not isfile(train_path):\n",
    "    request.urlretrieve(train_url, train_path)\n",
    "if not isfile(test_path):\n",
    "    request.urlretrieve(test_url, test_path)"
   ]
  },
  {
   "cell_type": "code",
   "execution_count": 145,
   "metadata": {},
   "outputs": [],
   "source": [
    "data = pd.read_csv(train_path)\n"
   ]
  },
  {
   "cell_type": "markdown",
   "metadata": {},
   "source": [
    "### Очистка данных\n",
    "Давайте проанализируем датасет"
   ]
  },
  {
   "cell_type": "code",
   "execution_count": 146,
   "metadata": {},
   "outputs": [
    {
     "name": "stdout",
     "output_type": "stream",
     "text": [
      "<class 'pandas.core.frame.DataFrame'>\n",
      "RangeIndex: 10000 entries, 0 to 9999\n",
      "Data columns (total 20 columns):\n",
      "Id               10000 non-null int64\n",
      "DistrictId       10000 non-null int64\n",
      "Rooms            10000 non-null float64\n",
      "Square           10000 non-null float64\n",
      "LifeSquare       7887 non-null float64\n",
      "KitchenSquare    10000 non-null float64\n",
      "Floor            10000 non-null int64\n",
      "HouseFloor       10000 non-null float64\n",
      "HouseYear        10000 non-null int64\n",
      "Ecology_1        10000 non-null float64\n",
      "Ecology_2        10000 non-null object\n",
      "Ecology_3        10000 non-null object\n",
      "Social_1         10000 non-null int64\n",
      "Social_2         10000 non-null int64\n",
      "Social_3         10000 non-null int64\n",
      "Healthcare_1     5202 non-null float64\n",
      "Helthcare_2      10000 non-null int64\n",
      "Shops_1          10000 non-null int64\n",
      "Shops_2          10000 non-null object\n",
      "Price            10000 non-null float64\n",
      "dtypes: float64(8), int64(9), object(3)\n",
      "memory usage: 1.5+ MB\n"
     ]
    }
   ],
   "source": [
    "data.info()"
   ]
  },
  {
   "cell_type": "code",
   "execution_count": 147,
   "metadata": {},
   "outputs": [
    {
     "data": {
      "text/html": [
       "<div>\n",
       "<style scoped>\n",
       "    .dataframe tbody tr th:only-of-type {\n",
       "        vertical-align: middle;\n",
       "    }\n",
       "\n",
       "    .dataframe tbody tr th {\n",
       "        vertical-align: top;\n",
       "    }\n",
       "\n",
       "    .dataframe thead th {\n",
       "        text-align: right;\n",
       "    }\n",
       "</style>\n",
       "<table border=\"1\" class=\"dataframe\">\n",
       "  <thead>\n",
       "    <tr style=\"text-align: right;\">\n",
       "      <th></th>\n",
       "      <th>Id</th>\n",
       "      <th>DistrictId</th>\n",
       "      <th>Rooms</th>\n",
       "      <th>Square</th>\n",
       "      <th>LifeSquare</th>\n",
       "      <th>KitchenSquare</th>\n",
       "      <th>Floor</th>\n",
       "      <th>HouseFloor</th>\n",
       "      <th>HouseYear</th>\n",
       "      <th>Ecology_1</th>\n",
       "      <th>Social_1</th>\n",
       "      <th>Social_2</th>\n",
       "      <th>Social_3</th>\n",
       "      <th>Healthcare_1</th>\n",
       "      <th>Helthcare_2</th>\n",
       "      <th>Shops_1</th>\n",
       "      <th>Price</th>\n",
       "    </tr>\n",
       "  </thead>\n",
       "  <tbody>\n",
       "    <tr>\n",
       "      <th>count</th>\n",
       "      <td>10000.00000</td>\n",
       "      <td>10000.000000</td>\n",
       "      <td>10000.000000</td>\n",
       "      <td>10000.000000</td>\n",
       "      <td>7887.000000</td>\n",
       "      <td>10000.000000</td>\n",
       "      <td>10000.000000</td>\n",
       "      <td>10000.000000</td>\n",
       "      <td>1.000000e+04</td>\n",
       "      <td>10000.000000</td>\n",
       "      <td>10000.000000</td>\n",
       "      <td>10000.000000</td>\n",
       "      <td>10000.000000</td>\n",
       "      <td>5202.000000</td>\n",
       "      <td>10000.000000</td>\n",
       "      <td>10000.000000</td>\n",
       "      <td>10000.000000</td>\n",
       "    </tr>\n",
       "    <tr>\n",
       "      <th>mean</th>\n",
       "      <td>8383.40770</td>\n",
       "      <td>50.400800</td>\n",
       "      <td>1.890500</td>\n",
       "      <td>56.315775</td>\n",
       "      <td>37.199645</td>\n",
       "      <td>6.273300</td>\n",
       "      <td>8.526700</td>\n",
       "      <td>12.609400</td>\n",
       "      <td>3.990166e+03</td>\n",
       "      <td>0.118858</td>\n",
       "      <td>24.687000</td>\n",
       "      <td>5352.157400</td>\n",
       "      <td>8.039200</td>\n",
       "      <td>1142.904460</td>\n",
       "      <td>1.319500</td>\n",
       "      <td>4.231300</td>\n",
       "      <td>214138.857399</td>\n",
       "    </tr>\n",
       "    <tr>\n",
       "      <th>std</th>\n",
       "      <td>4859.01902</td>\n",
       "      <td>43.587592</td>\n",
       "      <td>0.839512</td>\n",
       "      <td>21.058732</td>\n",
       "      <td>86.241209</td>\n",
       "      <td>28.560917</td>\n",
       "      <td>5.241148</td>\n",
       "      <td>6.775974</td>\n",
       "      <td>2.005003e+05</td>\n",
       "      <td>0.119025</td>\n",
       "      <td>17.532614</td>\n",
       "      <td>4006.799803</td>\n",
       "      <td>23.831875</td>\n",
       "      <td>1021.517264</td>\n",
       "      <td>1.493601</td>\n",
       "      <td>4.806341</td>\n",
       "      <td>92872.293865</td>\n",
       "    </tr>\n",
       "    <tr>\n",
       "      <th>min</th>\n",
       "      <td>0.00000</td>\n",
       "      <td>0.000000</td>\n",
       "      <td>0.000000</td>\n",
       "      <td>1.136859</td>\n",
       "      <td>0.370619</td>\n",
       "      <td>0.000000</td>\n",
       "      <td>1.000000</td>\n",
       "      <td>0.000000</td>\n",
       "      <td>1.910000e+03</td>\n",
       "      <td>0.000000</td>\n",
       "      <td>0.000000</td>\n",
       "      <td>168.000000</td>\n",
       "      <td>0.000000</td>\n",
       "      <td>0.000000</td>\n",
       "      <td>0.000000</td>\n",
       "      <td>0.000000</td>\n",
       "      <td>59174.778028</td>\n",
       "    </tr>\n",
       "    <tr>\n",
       "      <th>25%</th>\n",
       "      <td>4169.50000</td>\n",
       "      <td>20.000000</td>\n",
       "      <td>1.000000</td>\n",
       "      <td>41.774881</td>\n",
       "      <td>22.769832</td>\n",
       "      <td>1.000000</td>\n",
       "      <td>4.000000</td>\n",
       "      <td>9.000000</td>\n",
       "      <td>1.974000e+03</td>\n",
       "      <td>0.017647</td>\n",
       "      <td>6.000000</td>\n",
       "      <td>1564.000000</td>\n",
       "      <td>0.000000</td>\n",
       "      <td>350.000000</td>\n",
       "      <td>0.000000</td>\n",
       "      <td>1.000000</td>\n",
       "      <td>153872.633942</td>\n",
       "    </tr>\n",
       "    <tr>\n",
       "      <th>50%</th>\n",
       "      <td>8394.50000</td>\n",
       "      <td>36.000000</td>\n",
       "      <td>2.000000</td>\n",
       "      <td>52.513310</td>\n",
       "      <td>32.781260</td>\n",
       "      <td>6.000000</td>\n",
       "      <td>7.000000</td>\n",
       "      <td>13.000000</td>\n",
       "      <td>1.977000e+03</td>\n",
       "      <td>0.075424</td>\n",
       "      <td>25.000000</td>\n",
       "      <td>5285.000000</td>\n",
       "      <td>2.000000</td>\n",
       "      <td>900.000000</td>\n",
       "      <td>1.000000</td>\n",
       "      <td>3.000000</td>\n",
       "      <td>192269.644879</td>\n",
       "    </tr>\n",
       "    <tr>\n",
       "      <th>75%</th>\n",
       "      <td>12592.50000</td>\n",
       "      <td>75.000000</td>\n",
       "      <td>2.000000</td>\n",
       "      <td>65.900625</td>\n",
       "      <td>45.128803</td>\n",
       "      <td>9.000000</td>\n",
       "      <td>12.000000</td>\n",
       "      <td>17.000000</td>\n",
       "      <td>2.001000e+03</td>\n",
       "      <td>0.195781</td>\n",
       "      <td>36.000000</td>\n",
       "      <td>7227.000000</td>\n",
       "      <td>5.000000</td>\n",
       "      <td>1548.000000</td>\n",
       "      <td>2.000000</td>\n",
       "      <td>6.000000</td>\n",
       "      <td>249135.462171</td>\n",
       "    </tr>\n",
       "    <tr>\n",
       "      <th>max</th>\n",
       "      <td>16798.00000</td>\n",
       "      <td>209.000000</td>\n",
       "      <td>19.000000</td>\n",
       "      <td>641.065193</td>\n",
       "      <td>7480.592129</td>\n",
       "      <td>2014.000000</td>\n",
       "      <td>42.000000</td>\n",
       "      <td>117.000000</td>\n",
       "      <td>2.005201e+07</td>\n",
       "      <td>0.521867</td>\n",
       "      <td>74.000000</td>\n",
       "      <td>19083.000000</td>\n",
       "      <td>141.000000</td>\n",
       "      <td>4849.000000</td>\n",
       "      <td>6.000000</td>\n",
       "      <td>23.000000</td>\n",
       "      <td>633233.466570</td>\n",
       "    </tr>\n",
       "  </tbody>\n",
       "</table>\n",
       "</div>"
      ],
      "text/plain": [
       "                Id    DistrictId         Rooms        Square   LifeSquare  \\\n",
       "count  10000.00000  10000.000000  10000.000000  10000.000000  7887.000000   \n",
       "mean    8383.40770     50.400800      1.890500     56.315775    37.199645   \n",
       "std     4859.01902     43.587592      0.839512     21.058732    86.241209   \n",
       "min        0.00000      0.000000      0.000000      1.136859     0.370619   \n",
       "25%     4169.50000     20.000000      1.000000     41.774881    22.769832   \n",
       "50%     8394.50000     36.000000      2.000000     52.513310    32.781260   \n",
       "75%    12592.50000     75.000000      2.000000     65.900625    45.128803   \n",
       "max    16798.00000    209.000000     19.000000    641.065193  7480.592129   \n",
       "\n",
       "       KitchenSquare         Floor    HouseFloor     HouseYear     Ecology_1  \\\n",
       "count   10000.000000  10000.000000  10000.000000  1.000000e+04  10000.000000   \n",
       "mean        6.273300      8.526700     12.609400  3.990166e+03      0.118858   \n",
       "std        28.560917      5.241148      6.775974  2.005003e+05      0.119025   \n",
       "min         0.000000      1.000000      0.000000  1.910000e+03      0.000000   \n",
       "25%         1.000000      4.000000      9.000000  1.974000e+03      0.017647   \n",
       "50%         6.000000      7.000000     13.000000  1.977000e+03      0.075424   \n",
       "75%         9.000000     12.000000     17.000000  2.001000e+03      0.195781   \n",
       "max      2014.000000     42.000000    117.000000  2.005201e+07      0.521867   \n",
       "\n",
       "           Social_1      Social_2      Social_3  Healthcare_1   Helthcare_2  \\\n",
       "count  10000.000000  10000.000000  10000.000000   5202.000000  10000.000000   \n",
       "mean      24.687000   5352.157400      8.039200   1142.904460      1.319500   \n",
       "std       17.532614   4006.799803     23.831875   1021.517264      1.493601   \n",
       "min        0.000000    168.000000      0.000000      0.000000      0.000000   \n",
       "25%        6.000000   1564.000000      0.000000    350.000000      0.000000   \n",
       "50%       25.000000   5285.000000      2.000000    900.000000      1.000000   \n",
       "75%       36.000000   7227.000000      5.000000   1548.000000      2.000000   \n",
       "max       74.000000  19083.000000    141.000000   4849.000000      6.000000   \n",
       "\n",
       "            Shops_1          Price  \n",
       "count  10000.000000   10000.000000  \n",
       "mean       4.231300  214138.857399  \n",
       "std        4.806341   92872.293865  \n",
       "min        0.000000   59174.778028  \n",
       "25%        1.000000  153872.633942  \n",
       "50%        3.000000  192269.644879  \n",
       "75%        6.000000  249135.462171  \n",
       "max       23.000000  633233.466570  "
      ]
     },
     "execution_count": 147,
     "metadata": {},
     "output_type": "execute_result"
    }
   ],
   "source": [
    "data.describe()"
   ]
  },
  {
   "cell_type": "markdown",
   "metadata": {},
   "source": [
    "Мы видим ряд результатов, давайте определим ряд заявлений:"
   ]
  },
  {
   "cell_type": "markdown",
   "metadata": {},
   "source": [
    "#### 25% данных о размерах кухни составляют 1, что не похоже на правду. \n",
    "Если это так, то данным признаком следует пренебречь, так как он крайне неточен\n",
    "\n",
    "Для начала, построим гистограмму распределения квартир по площадям кухни"
   ]
  },
  {
   "cell_type": "code",
   "execution_count": 148,
   "metadata": {},
   "outputs": [
    {
     "data": {
      "image/png": "[encoded data removed]",
      "text/plain": [
       "<Figure size 432x288 with 1 Axes>"
      ]
     },
     "metadata": {
      "needs_background": "light"
     },
     "output_type": "display_data"
    }
   ],
   "source": [
    "plt.hist(\n",
    "    data['KitchenSquare'].loc[data.KitchenSquare < 25], \n",
    "    bins=25\n",
    ")\n",
    "\n",
    "plt.xlabel('Площадь кухни')\n",
    "plt.ylabel('Количество квартир')\n",
    "plt.show();"
   ]
  },
  {
   "cell_type": "markdown",
   "metadata": {},
   "source": [
    "Давайте вычислим среднюю площадь квартиры, имеющую кухню площадью 1, а также общий процент таких квартир среди всей выборки"
   ]
  },
  {
   "cell_type": "code",
   "execution_count": 149,
   "metadata": {},
   "outputs": [],
   "source": [
    "square_with_tiny_kitchen = data.loc[data.KitchenSquare <= 1]['Square'].loc[data.Square < 100]"
   ]
  },
  {
   "cell_type": "code",
   "execution_count": 150,
   "metadata": {},
   "outputs": [
    {
     "data": {
      "text/plain": [
       "(57.808910788199775, 0.3045)"
      ]
     },
     "execution_count": 150,
     "metadata": {},
     "output_type": "execute_result"
    }
   ],
   "source": [
    "square_with_tiny_kitchen.mean(), square_with_tiny_kitchen.count() / data['Square'].count()"
   ]
  },
  {
   "cell_type": "markdown",
   "metadata": {},
   "source": [
    "Выходит, что 30% квартир имеют площадь кухни 1 и менее, при том что средняя площать среди них 57. Можно было бы объяснить отсутсвие кухонь в случае если объект является общежитием или апартаментами, но не с такой средней площадью. Из этого можно заключить что признак `KitchenSquare` невалиден и должен быть исключен из выборки."
   ]
  },
  {
   "cell_type": "markdown",
   "metadata": {},
   "source": [
    "#### Оценим признак `Rooms`"
   ]
  },
  {
   "cell_type": "code",
   "execution_count": 151,
   "metadata": {},
   "outputs": [
    {
     "data": {
      "text/plain": [
       "count    10000.000000\n",
       "mean         1.890500\n",
       "std          0.839512\n",
       "min          0.000000\n",
       "25%          1.000000\n",
       "50%          2.000000\n",
       "75%          2.000000\n",
       "max         19.000000\n",
       "Name: Rooms, dtype: float64"
      ]
     },
     "execution_count": 151,
     "metadata": {},
     "output_type": "execute_result"
    }
   ],
   "source": [
    "data['Rooms'].describe()"
   ]
  },
  {
   "cell_type": "code",
   "execution_count": 152,
   "metadata": {},
   "outputs": [
    {
     "data": {
      "text/plain": [
       "2.0     3880\n",
       "1.0     3705\n",
       "3.0     2235\n",
       "4.0      150\n",
       "5.0       18\n",
       "0.0        8\n",
       "10.0       2\n",
       "19.0       1\n",
       "6.0        1\n",
       "Name: Rooms, dtype: int64"
      ]
     },
     "execution_count": 152,
     "metadata": {},
     "output_type": "execute_result"
    }
   ],
   "source": [
    "data['Rooms'].value_counts()"
   ]
  },
  {
   "cell_type": "markdown",
   "metadata": {},
   "source": [
    "Заменим выбросы ( rooms == 0 ) и ( rooms > 5 ) на среднее значение по выборке"
   ]
  },
  {
   "cell_type": "code",
   "execution_count": 153,
   "metadata": {
    "scrolled": false
   },
   "outputs": [],
   "source": [
    "rooms_mean = data.Rooms.mean()\n",
    "data[data.Rooms > 5] = rooms_mean\n",
    "data[data.Rooms < 1] = rooms_mean"
   ]
  },
  {
   "cell_type": "code",
   "execution_count": 154,
   "metadata": {},
   "outputs": [
    {
     "data": {
      "text/plain": [
       "<matplotlib.axes._subplots.AxesSubplot at 0x1a2881df60>"
      ]
     },
     "execution_count": 154,
     "metadata": {},
     "output_type": "execute_result"
    },
    {
     "data": {
      "image/png": "[encoded data removed]",
      "text/plain": [
       "<Figure size 432x288 with 1 Axes>"
      ]
     },
     "metadata": {
      "needs_background": "light"
     },
     "output_type": "display_data"
    }
   ],
   "source": [
    "data.Rooms.hist(bins=5)"
   ]
  },
  {
   "cell_type": "markdown",
   "metadata": {},
   "source": [
    "#### Оценим признак `LifeSquare`\n",
    "Найдем те записи, где `LifeSquare` > `Square`"
   ]
  },
  {
   "cell_type": "code",
   "execution_count": 155,
   "metadata": {},
   "outputs": [
    {
     "data": {
      "text/plain": [
       "482"
      ]
     },
     "execution_count": 155,
     "metadata": {},
     "output_type": "execute_result"
    }
   ],
   "source": [
    "data[data.LifeSquare > data.Square].shape[0]"
   ]
  },
  {
   "cell_type": "markdown",
   "metadata": {},
   "source": [
    "Выходит, что для 4% записей жилая площадь больше общей площади, что некорректно. Давайте оценим зависимость площадей."
   ]
  },
  {
   "cell_type": "code",
   "execution_count": 156,
   "metadata": {},
   "outputs": [
    {
     "data": {
      "text/plain": [
       "(10, 250)"
      ]
     },
     "execution_count": 156,
     "metadata": {},
     "output_type": "execute_result"
    },
    {
     "data": {
      "image/png": "[encoded data removed]",
      "text/plain": [
       "<Figure size 432x288 with 1 Axes>"
      ]
     },
     "metadata": {
      "needs_background": "light"
     },
     "output_type": "display_data"
    }
   ],
   "source": [
    "plt.plot(\n",
    "    data['Square'],\n",
    "    data['LifeSquare'],\n",
    "    'ro'\n",
    ")\n",
    "plt.xlabel('Square')\n",
    "plt.ylabel('LifeSquare')\n",
    "plt.ylim(10,150)\n",
    "plt.xlim(10,250)"
   ]
  },
  {
   "cell_type": "markdown",
   "metadata": {},
   "source": [
    "Видно, что зависимость линейна. Предлагаю признак `LifeSquare` также не включать в итоговый датасет"
   ]
  },
  {
   "cell_type": "markdown",
   "metadata": {},
   "source": [
    "Но для дестов давайте заполним средними значениями"
   ]
  },
  {
   "cell_type": "code",
   "execution_count": 157,
   "metadata": {},
   "outputs": [],
   "source": [
    "lifeSquare_mean = data.LifeSquare.mean()\n",
    "data['LifeSquare'].fillna(lifeSquare_mean, inplace=True)"
   ]
  },
  {
   "cell_type": "markdown",
   "metadata": {},
   "source": [
    "#### Оценим признак `Square`"
   ]
  },
  {
   "cell_type": "code",
   "execution_count": 158,
   "metadata": {},
   "outputs": [
    {
     "data": {
      "text/plain": [
       "count    10000.000000\n",
       "mean        56.230613\n",
       "std         21.056022\n",
       "min          1.136859\n",
       "25%         41.751942\n",
       "50%         52.482304\n",
       "75%         65.889256\n",
       "max        641.065193\n",
       "Name: Square, dtype: float64"
      ]
     },
     "execution_count": 158,
     "metadata": {},
     "output_type": "execute_result"
    }
   ],
   "source": [
    "data['Square'].describe()"
   ]
  },
  {
   "cell_type": "code",
   "execution_count": 159,
   "metadata": {},
   "outputs": [
    {
     "data": {
      "text/plain": [
       "23"
      ]
     },
     "execution_count": 159,
     "metadata": {},
     "output_type": "execute_result"
    }
   ],
   "source": [
    "bad_square = data[data.Square < 10]\n",
    "bad_square.shape[0]"
   ]
  },
  {
   "cell_type": "markdown",
   "metadata": {},
   "source": [
    "А давайте их выкинем :)"
   ]
  },
  {
   "cell_type": "code",
   "execution_count": 160,
   "metadata": {},
   "outputs": [],
   "source": [
    "data.drop(bad_square.index, inplace=True)"
   ]
  },
  {
   "cell_type": "markdown",
   "metadata": {},
   "source": [
    "#### Оценим признак `HouseYear`"
   ]
  },
  {
   "cell_type": "code",
   "execution_count": 161,
   "metadata": {},
   "outputs": [
    {
     "data": {
      "text/plain": [
       "1977.0        2640\n",
       "2017.0         308\n",
       "2016.0         303\n",
       "2015.0         298\n",
       "2014.0         208\n",
       "1970.0         194\n",
       "1969.0         189\n",
       "1972.0         178\n",
       "1971.0         177\n",
       "2018.0         175\n",
       "1974.0         169\n",
       "1968.0         162\n",
       "1965.0         161\n",
       "1963.0         158\n",
       "1976.0         155\n",
       "1973.0         150\n",
       "1975.0         150\n",
       "1964.0         150\n",
       "1967.0         146\n",
       "1966.0         140\n",
       "1978.0         129\n",
       "1962.0         125\n",
       "1960.0         121\n",
       "1961.0         113\n",
       "1982.0         110\n",
       "1981.0         108\n",
       "1979.0         107\n",
       "1980.0         107\n",
       "2005.0         102\n",
       "1983.0         101\n",
       "              ... \n",
       "1952.0          10\n",
       "1953.0          10\n",
       "1950.0           7\n",
       "1935.0           7\n",
       "1931.0           7\n",
       "1939.0           6\n",
       "1933.0           5\n",
       "1918.0           5\n",
       "1937.0           5\n",
       "1940.0           4\n",
       "1951.0           4\n",
       "1934.0           4\n",
       "1938.0           4\n",
       "1942.0           3\n",
       "1919.0           3\n",
       "1930.0           3\n",
       "1917.0           3\n",
       "1936.0           3\n",
       "1941.0           2\n",
       "1932.0           2\n",
       "1912.0           2\n",
       "1929.0           2\n",
       "1948.0           2\n",
       "20052011.0       1\n",
       "1928.0           1\n",
       "1910.0           1\n",
       "4968.0           1\n",
       "1914.0           1\n",
       "1947.0           1\n",
       "1916.0           1\n",
       "Name: HouseYear, Length: 97, dtype: int64"
      ]
     },
     "execution_count": 161,
     "metadata": {},
     "output_type": "execute_result"
    }
   ],
   "source": [
    "data['HouseYear'].value_counts()"
   ]
  },
  {
   "cell_type": "markdown",
   "metadata": {},
   "source": [
    "Видим явно выпадающие значения [4968, 20052011]\n",
    "\n",
    "Заменим 4968 на 1968, 20052011 на 2008"
   ]
  },
  {
   "cell_type": "code",
   "execution_count": 162,
   "metadata": {},
   "outputs": [],
   "source": [
    "data.loc[data.HouseYear == 4968, 'HouseYear'] = 1968\n",
    "data.loc[data.HouseYear == 20052011, 'HouseYear'] = 2008"
   ]
  },
  {
   "cell_type": "markdown",
   "metadata": {},
   "source": [
    "Ради интереса, построим гистограмму"
   ]
  },
  {
   "cell_type": "code",
   "execution_count": 163,
   "metadata": {},
   "outputs": [
    {
     "data": {
      "image/png": "[encoded data removed]",
      "text/plain": [
       "<Figure size 432x288 with 1 Axes>"
      ]
     },
     "metadata": {
      "needs_background": "light"
     },
     "output_type": "display_data"
    }
   ],
   "source": [
    "data['HouseYear'].hist(bins=20);"
   ]
  },
  {
   "cell_type": "markdown",
   "metadata": {},
   "source": [
    "Примечательно - большинство квартир в домах построенных на рубеже конца 1970х - начала 1980х"
   ]
  },
  {
   "cell_type": "markdown",
   "metadata": {},
   "source": [
    "#### Оценим признак `DistrictId`\n",
    "Начнем с гистограммы"
   ]
  },
  {
   "cell_type": "code",
   "execution_count": 164,
   "metadata": {},
   "outputs": [
    {
     "data": {
      "image/png": "[encoded data removed]",
      "text/plain": [
       "<Figure size 432x288 with 1 Axes>"
      ]
     },
     "metadata": {
      "needs_background": "light"
     },
     "output_type": "display_data"
    }
   ],
   "source": [
    "plt.hist(\n",
    "    data['DistrictId'],\n",
    "    bins=data['DistrictId'].nunique()\n",
    ");"
   ]
  },
  {
   "cell_type": "markdown",
   "metadata": {},
   "source": [
    "Это ничего не дало. Попробуем взять среднюю цену за квадратный метр по району"
   ]
  },
  {
   "cell_type": "code",
   "execution_count": 165,
   "metadata": {},
   "outputs": [],
   "source": [
    "data['price_per_square'] = data.Price / data.Square"
   ]
  },
  {
   "cell_type": "code",
   "execution_count": 166,
   "metadata": {},
   "outputs": [],
   "source": [
    "price_per_square_by_District = data.groupby(['DistrictId'])['price_per_square'].mean().reset_index().rename(columns={'price_per_square': 'District_square_price'})"
   ]
  },
  {
   "cell_type": "code",
   "execution_count": 167,
   "metadata": {
    "scrolled": false
   },
   "outputs": [
    {
     "data": {
      "text/html": [
       "<div>\n",
       "<style scoped>\n",
       "    .dataframe tbody tr th:only-of-type {\n",
       "        vertical-align: middle;\n",
       "    }\n",
       "\n",
       "    .dataframe tbody tr th {\n",
       "        vertical-align: top;\n",
       "    }\n",
       "\n",
       "    .dataframe thead th {\n",
       "        text-align: right;\n",
       "    }\n",
       "</style>\n",
       "<table border=\"1\" class=\"dataframe\">\n",
       "  <thead>\n",
       "    <tr style=\"text-align: right;\">\n",
       "      <th></th>\n",
       "      <th>DistrictId</th>\n",
       "      <th>District_square_price</th>\n",
       "    </tr>\n",
       "  </thead>\n",
       "  <tbody>\n",
       "    <tr>\n",
       "      <th>0</th>\n",
       "      <td>0.0</td>\n",
       "      <td>3710.401014</td>\n",
       "    </tr>\n",
       "    <tr>\n",
       "      <th>1</th>\n",
       "      <td>1.0</td>\n",
       "      <td>3214.409087</td>\n",
       "    </tr>\n",
       "    <tr>\n",
       "      <th>2</th>\n",
       "      <td>2.0</td>\n",
       "      <td>4560.204511</td>\n",
       "    </tr>\n",
       "    <tr>\n",
       "      <th>3</th>\n",
       "      <td>3.0</td>\n",
       "      <td>3783.790553</td>\n",
       "    </tr>\n",
       "    <tr>\n",
       "      <th>4</th>\n",
       "      <td>4.0</td>\n",
       "      <td>5247.142313</td>\n",
       "    </tr>\n",
       "  </tbody>\n",
       "</table>\n",
       "</div>"
      ],
      "text/plain": [
       "   DistrictId  District_square_price\n",
       "0         0.0            3710.401014\n",
       "1         1.0            3214.409087\n",
       "2         2.0            4560.204511\n",
       "3         3.0            3783.790553\n",
       "4         4.0            5247.142313"
      ]
     },
     "execution_count": 167,
     "metadata": {},
     "output_type": "execute_result"
    }
   ],
   "source": [
    "price_per_square_by_District.head(5)"
   ]
  },
  {
   "cell_type": "markdown",
   "metadata": {},
   "source": [
    "Доавим признак `District_square_price` к датасету"
   ]
  },
  {
   "cell_type": "code",
   "execution_count": 168,
   "metadata": {},
   "outputs": [],
   "source": [
    "def add_distr_sq_price(df,price_per_square_by_District):\n",
    "    # Среднее значение цена по всем районам\n",
    "    dqp_mean = price_per_square_by_District['District_square_price'].mean()\n",
    "    \n",
    "    df=pd.merge(df,price_per_square_by_District,on='DistrictId',how='left')\n",
    "    df['District_square_price']=df['District_square_price'].fillna(dqp_mean)\n",
    "    return df"
   ]
  },
  {
   "cell_type": "code",
   "execution_count": 169,
   "metadata": {},
   "outputs": [],
   "source": [
    "data = add_distr_sq_price(data, price_per_square_by_District).drop(\n",
    "    ['price_per_square','DistrictId'], axis=1)"
   ]
  },
  {
   "cell_type": "code",
   "execution_count": 170,
   "metadata": {},
   "outputs": [
    {
     "data": {
      "text/html": [
       "<div>\n",
       "<style scoped>\n",
       "    .dataframe tbody tr th:only-of-type {\n",
       "        vertical-align: middle;\n",
       "    }\n",
       "\n",
       "    .dataframe tbody tr th {\n",
       "        vertical-align: top;\n",
       "    }\n",
       "\n",
       "    .dataframe thead th {\n",
       "        text-align: right;\n",
       "    }\n",
       "</style>\n",
       "<table border=\"1\" class=\"dataframe\">\n",
       "  <thead>\n",
       "    <tr style=\"text-align: right;\">\n",
       "      <th></th>\n",
       "      <th>Id</th>\n",
       "      <th>Rooms</th>\n",
       "      <th>Square</th>\n",
       "      <th>LifeSquare</th>\n",
       "      <th>KitchenSquare</th>\n",
       "      <th>Floor</th>\n",
       "      <th>HouseFloor</th>\n",
       "      <th>HouseYear</th>\n",
       "      <th>Ecology_1</th>\n",
       "      <th>Ecology_2</th>\n",
       "      <th>Ecology_3</th>\n",
       "      <th>Social_1</th>\n",
       "      <th>Social_2</th>\n",
       "      <th>Social_3</th>\n",
       "      <th>Healthcare_1</th>\n",
       "      <th>Helthcare_2</th>\n",
       "      <th>Shops_1</th>\n",
       "      <th>Shops_2</th>\n",
       "      <th>Price</th>\n",
       "      <th>District_square_price</th>\n",
       "    </tr>\n",
       "  </thead>\n",
       "  <tbody>\n",
       "    <tr>\n",
       "      <th>0</th>\n",
       "      <td>14038.0</td>\n",
       "      <td>2.0</td>\n",
       "      <td>47.981561</td>\n",
       "      <td>29.442751</td>\n",
       "      <td>6.0</td>\n",
       "      <td>7.0</td>\n",
       "      <td>9.0</td>\n",
       "      <td>1969.0</td>\n",
       "      <td>0.089040</td>\n",
       "      <td>B</td>\n",
       "      <td>B</td>\n",
       "      <td>33.0</td>\n",
       "      <td>7976.0</td>\n",
       "      <td>5.0</td>\n",
       "      <td>NaN</td>\n",
       "      <td>0.0</td>\n",
       "      <td>11.0</td>\n",
       "      <td>B</td>\n",
       "      <td>184966.930730</td>\n",
       "      <td>4384.628620</td>\n",
       "    </tr>\n",
       "    <tr>\n",
       "      <th>1</th>\n",
       "      <td>15053.0</td>\n",
       "      <td>3.0</td>\n",
       "      <td>65.683640</td>\n",
       "      <td>40.049543</td>\n",
       "      <td>8.0</td>\n",
       "      <td>7.0</td>\n",
       "      <td>9.0</td>\n",
       "      <td>1978.0</td>\n",
       "      <td>0.000070</td>\n",
       "      <td>B</td>\n",
       "      <td>B</td>\n",
       "      <td>46.0</td>\n",
       "      <td>10309.0</td>\n",
       "      <td>1.0</td>\n",
       "      <td>240.0</td>\n",
       "      <td>1.0</td>\n",
       "      <td>16.0</td>\n",
       "      <td>B</td>\n",
       "      <td>300009.450063</td>\n",
       "      <td>4293.480295</td>\n",
       "    </tr>\n",
       "    <tr>\n",
       "      <th>2</th>\n",
       "      <td>4765.0</td>\n",
       "      <td>2.0</td>\n",
       "      <td>44.947953</td>\n",
       "      <td>29.197612</td>\n",
       "      <td>0.0</td>\n",
       "      <td>8.0</td>\n",
       "      <td>12.0</td>\n",
       "      <td>1968.0</td>\n",
       "      <td>0.049637</td>\n",
       "      <td>B</td>\n",
       "      <td>B</td>\n",
       "      <td>34.0</td>\n",
       "      <td>7759.0</td>\n",
       "      <td>0.0</td>\n",
       "      <td>229.0</td>\n",
       "      <td>1.0</td>\n",
       "      <td>3.0</td>\n",
       "      <td>B</td>\n",
       "      <td>220925.908524</td>\n",
       "      <td>4835.401165</td>\n",
       "    </tr>\n",
       "  </tbody>\n",
       "</table>\n",
       "</div>"
      ],
      "text/plain": [
       "        Id  Rooms     Square  LifeSquare  KitchenSquare  Floor  HouseFloor  \\\n",
       "0  14038.0    2.0  47.981561   29.442751            6.0    7.0         9.0   \n",
       "1  15053.0    3.0  65.683640   40.049543            8.0    7.0         9.0   \n",
       "2   4765.0    2.0  44.947953   29.197612            0.0    8.0        12.0   \n",
       "\n",
       "   HouseYear  Ecology_1 Ecology_2 Ecology_3  Social_1  Social_2  Social_3  \\\n",
       "0     1969.0   0.089040         B         B      33.0    7976.0       5.0   \n",
       "1     1978.0   0.000070         B         B      46.0   10309.0       1.0   \n",
       "2     1968.0   0.049637         B         B      34.0    7759.0       0.0   \n",
       "\n",
       "   Healthcare_1  Helthcare_2  Shops_1 Shops_2          Price  \\\n",
       "0           NaN          0.0     11.0       B  184966.930730   \n",
       "1         240.0          1.0     16.0       B  300009.450063   \n",
       "2         229.0          1.0      3.0       B  220925.908524   \n",
       "\n",
       "   District_square_price  \n",
       "0            4384.628620  \n",
       "1            4293.480295  \n",
       "2            4835.401165  "
      ]
     },
     "execution_count": 170,
     "metadata": {},
     "output_type": "execute_result"
    }
   ],
   "source": [
    "data.head(3)"
   ]
  },
  {
   "cell_type": "code",
   "execution_count": 171,
   "metadata": {
    "scrolled": true
   },
   "outputs": [
    {
     "data": {
      "text/plain": [
       "[<matplotlib.lines.Line2D at 0x1a267aa390>]"
      ]
     },
     "execution_count": 171,
     "metadata": {},
     "output_type": "execute_result"
    },
    {
     "data": {
      "image/png": "[encoded data removed]",
      "text/plain": [
       "<Figure size 432x288 with 1 Axes>"
      ]
     },
     "metadata": {
      "needs_background": "light"
     },
     "output_type": "display_data"
    }
   ],
   "source": [
    "plt.plot(\n",
    "    data['District_square_price'],\n",
    "    data['Price'] / data['Square'],\n",
    "    'ro'\n",
    ")"
   ]
  },
  {
   "cell_type": "markdown",
   "metadata": {},
   "source": [
    "#### Оценим признак `Shops_2`"
   ]
  },
  {
   "cell_type": "code",
   "execution_count": 172,
   "metadata": {},
   "outputs": [
    {
     "data": {
      "text/plain": [
       "B    9152\n",
       "A     825\n",
       "Name: Shops_2, dtype: int64"
      ]
     },
     "execution_count": 172,
     "metadata": {},
     "output_type": "execute_result"
    }
   ],
   "source": [
    "data['Shops_2'].value_counts()"
   ]
  },
  {
   "cell_type": "markdown",
   "metadata": {},
   "source": [
    "Оставим как есть"
   ]
  },
  {
   "cell_type": "markdown",
   "metadata": {},
   "source": [
    "#### Оценим признаки `Floor` `HouseFloor`\n",
    "Очистим выпадающие записи"
   ]
  },
  {
   "cell_type": "code",
   "execution_count": 173,
   "metadata": {},
   "outputs": [
    {
     "data": {
      "text/plain": [
       "17.0     2328\n",
       "9.0      1388\n",
       "12.0     1074\n",
       "5.0      1031\n",
       "14.0      625\n",
       "16.0      575\n",
       "1.0       492\n",
       "25.0      373\n",
       "22.0      341\n",
       "0.0       265\n",
       "24.0      176\n",
       "8.0       141\n",
       "10.0      135\n",
       "4.0       133\n",
       "3.0       125\n",
       "15.0      122\n",
       "19.0      107\n",
       "20.0      105\n",
       "18.0       89\n",
       "7.0        59\n",
       "6.0        58\n",
       "2.0        47\n",
       "23.0       40\n",
       "21.0       33\n",
       "11.0       28\n",
       "13.0       27\n",
       "30.0       21\n",
       "40.0        7\n",
       "27.0        6\n",
       "37.0        4\n",
       "32.0        4\n",
       "28.0        3\n",
       "48.0        2\n",
       "99.0        2\n",
       "39.0        2\n",
       "117.0       1\n",
       "29.0        1\n",
       "31.0        1\n",
       "38.0        1\n",
       "44.0        1\n",
       "36.0        1\n",
       "26.0        1\n",
       "45.0        1\n",
       "47.0        1\n",
       "Name: HouseFloor, dtype: int64"
      ]
     },
     "execution_count": 173,
     "metadata": {},
     "output_type": "execute_result"
    }
   ],
   "source": [
    "floor_data = data[['Floor','HouseFloor']]\n",
    "floor_data['HouseFloor'].value_counts()"
   ]
  },
  {
   "cell_type": "markdown",
   "metadata": {},
   "source": [
    "Давайте посмотрим на дома выше 30 этажей"
   ]
  },
  {
   "cell_type": "code",
   "execution_count": 174,
   "metadata": {},
   "outputs": [],
   "source": [
    "data['is_first_floor'] = (data.Floor == 1).astype(int)\n",
    "data['is_last_floor'] = (data.Floor >= data.HouseFloor).astype(int)"
   ]
  },
  {
   "cell_type": "markdown",
   "metadata": {},
   "source": [
    "#### 48% записей не имеют значения в признаке  `Healthcare_1`. \n",
    "Если этот признак не кореллирует с другими параметрами то его можно исключить из выборки.\n",
    "\n",
    "Давайте возьмем все непустые значения и оценим"
   ]
  },
  {
   "cell_type": "code",
   "execution_count": 175,
   "metadata": {},
   "outputs": [],
   "source": [
    "# Healthcare_1_mean = data['Healthcare_1'].mean()\n",
    "# data['Healthcare_1'].fillna(Healthcare_1_mean, inplace=True)m"
   ]
  },
  {
   "cell_type": "markdown",
   "metadata": {},
   "source": [
    "А еще лучше - построим модель для высчитывания значений"
   ]
  },
  {
   "cell_type": "code",
   "execution_count": 176,
   "metadata": {},
   "outputs": [],
   "source": [
    "health1 = pd.get_dummies(data)\n",
    "health1_train = health1[health1.Healthcare_1.notnull()].set_index('Id')\n",
    "health1_test = health1[health1.Healthcare_1.isna()].drop(['Healthcare_1'], axis=1).set_index('Id')"
   ]
  },
  {
   "cell_type": "code",
   "execution_count": 177,
   "metadata": {},
   "outputs": [],
   "source": [
    "def split_data(ds,target,test_size=0.2, random_state=42):\n",
    "    \"\"\"Разбивает датасет на тренировочные и проверочные, выделяя целевой признак\"\"\"\n",
    "    X_train, X_test, y_train, y_test = train_test_split(\n",
    "        ds.drop([target], axis=1), \n",
    "        ds[target], \n",
    "        test_size=test_size, random_state=random_state)\n",
    "    return X_train, X_test, y_train, y_test"
   ]
  },
  {
   "cell_type": "code",
   "execution_count": 178,
   "metadata": {},
   "outputs": [],
   "source": [
    "def get_model_r2(X_train, y_train, X_test, y_test, model):\n",
    "    \"\"\"Запускает целевую модель и выдает среднеквадратичное отклонение r2\"\"\"\n",
    "    model.fit(X_train, y_train)\n",
    "    y_pred=model.predict(X_test)\n",
    "    r2 = r2_score(y_test, y_pred)\n",
    "    return r2"
   ]
  },
  {
   "cell_type": "code",
   "execution_count": 179,
   "metadata": {},
   "outputs": [],
   "source": [
    "X_train, X_test, y_train, y_test = split_data(health1_train, 'Healthcare_1')"
   ]
  },
  {
   "cell_type": "code",
   "execution_count": 180,
   "metadata": {},
   "outputs": [],
   "source": [
    "decision_tree = GridSearchCV(estimator=DecisionTreeRegressor(random_state=42),\n",
    "                   param_grid=[{'max_depth': np.arange(2,40)}],\n",
    "                   scoring='r2',\n",
    "                   n_jobs=-1,\n",
    "                   cv=5)"
   ]
  },
  {
   "cell_type": "code",
   "execution_count": 181,
   "metadata": {},
   "outputs": [],
   "source": [
    "decision_tree.fit(X_train, y_train);"
   ]
  },
  {
   "cell_type": "code",
   "execution_count": 182,
   "metadata": {},
   "outputs": [
    {
     "name": "stdout",
     "output_type": "stream",
     "text": [
      "Лучшая глубина: \t11 \n",
      "Лучшая оценка:\t0.9893833393221371\n"
     ]
    }
   ],
   "source": [
    "print(f'Лучшая глубина: \\t{decision_tree.best_params_[\"max_depth\"]} \\nЛучшая оценка:\\t{decision_tree.best_score_}')"
   ]
  },
  {
   "cell_type": "code",
   "execution_count": 183,
   "metadata": {},
   "outputs": [
    {
     "data": {
      "text/plain": [
       "0.9634560012979267"
      ]
     },
     "execution_count": 183,
     "metadata": {},
     "output_type": "execute_result"
    }
   ],
   "source": [
    "y_pred = decision_tree.predict(X_test)\n",
    "r2_score(y_test, y_pred)"
   ]
  },
  {
   "cell_type": "markdown",
   "metadata": {},
   "source": [
    "Странная и нездоровая штуковина. Похоже на мощное переобучение, но попробую с другим зерном"
   ]
  },
  {
   "cell_type": "code",
   "execution_count": 184,
   "metadata": {},
   "outputs": [
    {
     "data": {
      "text/plain": [
       "((4156, 23), (1039, 23))"
      ]
     },
     "execution_count": 184,
     "metadata": {},
     "output_type": "execute_result"
    }
   ],
   "source": [
    "X_train.shape, X_test.shape"
   ]
  },
  {
   "cell_type": "code",
   "execution_count": 185,
   "metadata": {},
   "outputs": [],
   "source": [
    "health1_test['Healthcare_1'] = decision_tree.predict(health1_test)"
   ]
  },
  {
   "cell_type": "code",
   "execution_count": 187,
   "metadata": {},
   "outputs": [],
   "source": [
    "#df=pd.merge(df,price_per_square_by_District,on='DistrictId',how='left')\n",
    "health1_predicted = health1_test['Healthcare_1'].reset_index()\n",
    "health1_predicted.head(3)\n",
    "data = pd.merge(data, health1_predicted, on='Id', how='inner').rename(\n",
    "    columns={\"Healthcare_1_y\": \"Healthcare_1\"}).drop(\n",
    "    ['Healthcare_1_x'], axis=1)"
   ]
  },
  {
   "cell_type": "code",
   "execution_count": 188,
   "metadata": {},
   "outputs": [
    {
     "name": "stdout",
     "output_type": "stream",
     "text": [
      "<class 'pandas.core.frame.DataFrame'>\n",
      "Int64Index: 4782 entries, 0 to 4781\n",
      "Data columns (total 22 columns):\n",
      "Id                       4782 non-null float64\n",
      "Rooms                    4782 non-null float64\n",
      "Square                   4782 non-null float64\n",
      "LifeSquare               4782 non-null float64\n",
      "KitchenSquare            4782 non-null float64\n",
      "Floor                    4782 non-null float64\n",
      "HouseFloor               4782 non-null float64\n",
      "HouseYear                4782 non-null float64\n",
      "Ecology_1                4782 non-null float64\n",
      "Ecology_2                4782 non-null object\n",
      "Ecology_3                4782 non-null object\n",
      "Social_1                 4782 non-null float64\n",
      "Social_2                 4782 non-null float64\n",
      "Social_3                 4782 non-null float64\n",
      "Helthcare_2              4782 non-null float64\n",
      "Shops_1                  4782 non-null float64\n",
      "Shops_2                  4782 non-null object\n",
      "Price                    4782 non-null float64\n",
      "District_square_price    4782 non-null float64\n",
      "is_first_floor           4782 non-null int64\n",
      "is_last_floor            4782 non-null int64\n",
      "Healthcare_1             4782 non-null float64\n",
      "dtypes: float64(17), int64(2), object(3)\n",
      "memory usage: 859.3+ KB\n"
     ]
    }
   ],
   "source": [
    "data.info()"
   ]
  },
  {
   "cell_type": "code",
   "execution_count": 126,
   "metadata": {},
   "outputs": [
    {
     "data": {
      "text/plain": [
       "9977"
      ]
     },
     "execution_count": 126,
     "metadata": {},
     "output_type": "execute_result"
    }
   ],
   "source": [
    "5195 + 4782"
   ]
  },
  {
   "cell_type": "markdown",
   "metadata": {},
   "source": [
    "### Обучение моделей и их применение"
   ]
  },
  {
   "cell_type": "markdown",
   "metadata": {},
   "source": [
    "#### Разбиение на тренировочные и тестовые"
   ]
  },
  {
   "cell_type": "code",
   "execution_count": 37,
   "metadata": {},
   "outputs": [
    {
     "data": {
      "text/plain": [
       "Id                       9977\n",
       "Rooms                       5\n",
       "Square                   9977\n",
       "LifeSquare               7868\n",
       "KitchenSquare              58\n",
       "Floor                      33\n",
       "HouseFloor                 44\n",
       "HouseYear                  95\n",
       "Ecology_1                 129\n",
       "Ecology_2                   2\n",
       "Ecology_3                   2\n",
       "Social_1                   51\n",
       "Social_2                  142\n",
       "Social_3                   30\n",
       "Healthcare_1               80\n",
       "Helthcare_2                 7\n",
       "Shops_1                    16\n",
       "Shops_2                     2\n",
       "Price                    9977\n",
       "District_square_price     205\n",
       "is_first_floor              2\n",
       "is_last_floor               2\n",
       "dtype: int64"
      ]
     },
     "execution_count": 37,
     "metadata": {},
     "output_type": "execute_result"
    }
   ],
   "source": [
    "data.nunique()"
   ]
  },
  {
   "cell_type": "code",
   "execution_count": 45,
   "metadata": {},
   "outputs": [],
   "source": [
    "data['Helthcare_2'] = data['Helthcare_2'].astype(object)"
   ]
  },
  {
   "cell_type": "code",
   "execution_count": 46,
   "metadata": {},
   "outputs": [
    {
     "name": "stdout",
     "output_type": "stream",
     "text": [
      "<class 'pandas.core.frame.DataFrame'>\n",
      "Int64Index: 9977 entries, 0 to 9976\n",
      "Data columns (total 22 columns):\n",
      "Id                       9977 non-null float64\n",
      "Rooms                    9977 non-null float64\n",
      "Square                   9977 non-null float64\n",
      "LifeSquare               9977 non-null float64\n",
      "KitchenSquare            9977 non-null float64\n",
      "Floor                    9977 non-null float64\n",
      "HouseFloor               9977 non-null float64\n",
      "HouseYear                9977 non-null float64\n",
      "Ecology_1                9977 non-null float64\n",
      "Ecology_2                9977 non-null object\n",
      "Ecology_3                9977 non-null object\n",
      "Social_1                 9977 non-null float64\n",
      "Social_2                 9977 non-null float64\n",
      "Social_3                 9977 non-null float64\n",
      "Healthcare_1             9977 non-null float64\n",
      "Helthcare_2              9977 non-null object\n",
      "Shops_1                  9977 non-null float64\n",
      "Shops_2                  9977 non-null object\n",
      "Price                    9977 non-null float64\n",
      "District_square_price    9977 non-null float64\n",
      "is_first_floor           9977 non-null int64\n",
      "is_last_floor            9977 non-null int64\n",
      "dtypes: float64(16), int64(2), object(4)\n",
      "memory usage: 1.8+ MB\n"
     ]
    }
   ],
   "source": [
    "data.info()"
   ]
  },
  {
   "cell_type": "code",
   "execution_count": 189,
   "metadata": {},
   "outputs": [],
   "source": [
    "# ds = pd.get_dummies(data).drop(\n",
    "#     ['LifeSquare', 'KitchenSquare', 'Healthcare_1', 'Floor', 'HouseFloor'], \n",
    "#     #['LifeSquare', 'KitchenSquare'],\n",
    "#     axis=1\n",
    "# ).set_index('Id')\n",
    "ds = pd.get_dummies(data).set_index('Id')\n"
   ]
  },
  {
   "cell_type": "code",
   "execution_count": 190,
   "metadata": {},
   "outputs": [],
   "source": [
    "X_train, X_test, y_train, y_test = train_test_split(\n",
    "    ds.drop(['Price'], axis=1), \n",
    "    ds['Price'], \n",
    "    test_size=0.2, random_state=42\n",
    ")"
   ]
  },
  {
   "cell_type": "markdown",
   "metadata": {},
   "source": [
    "Стандартизируем значения:"
   ]
  },
  {
   "cell_type": "code",
   "execution_count": 191,
   "metadata": {},
   "outputs": [],
   "source": [
    "from sklearn.preprocessing import StandardScaler\n",
    "scaler = StandardScaler()\n",
    "\n",
    "X_train_scaled = pd.DataFrame(\n",
    "    scaler.fit_transform(X_train),\n",
    "    columns=X_train.keys())\n",
    "X_test_scaled = pd.DataFrame(\n",
    "    scaler.fit_transform(X_test),\n",
    "    columns=X_test.keys())"
   ]
  },
  {
   "cell_type": "markdown",
   "metadata": {},
   "source": [
    "#### Линейная регрессия"
   ]
  },
  {
   "cell_type": "code",
   "execution_count": 192,
   "metadata": {},
   "outputs": [
    {
     "data": {
      "text/plain": [
       "0.6682419287754932"
      ]
     },
     "execution_count": 192,
     "metadata": {},
     "output_type": "execute_result"
    }
   ],
   "source": [
    "from sklearn.linear_model import LinearRegression\n",
    "lr = LinearRegression()\n",
    "get_model_r2(X_train_scaled, y_train, X_test_scaled, y_test, lr)"
   ]
  },
  {
   "cell_type": "code",
   "execution_count": 193,
   "metadata": {},
   "outputs": [],
   "source": [
    "X_train_scaled = X_train\n",
    "X_test_scaled = X_test"
   ]
  },
  {
   "cell_type": "markdown",
   "metadata": {},
   "source": [
    "#### Примение T-SNE\n",
    "Попробуем перебрать параметр `learning_rates` чтобы найти идеальные условия для кластеризации"
   ]
  },
  {
   "cell_type": "code",
   "execution_count": 54,
   "metadata": {},
   "outputs": [],
   "source": [
    "from sklearn.manifold import TSNE"
   ]
  },
  {
   "cell_type": "code",
   "execution_count": 136,
   "metadata": {},
   "outputs": [],
   "source": [
    "def train_tsne(lr):\n",
    "    tsne = TSNE(n_components=2, learning_rate=lr, random_state=42)\n",
    "    return tsne.fit_transform(X_train_scaled)\n",
    "\n",
    "def get_good_tsne():\n",
    "    learning_rates = [10, 50, 100, 150, 300, 500, 800, 1000]\n",
    "    tsne_list = dict()\n",
    "    with Pool() as p:  \n",
    "        tsne_list = p.map(train_tsne, learning_rates)\n",
    "    return dict(zip(learning_rates, tsne_list))"
   ]
  },
  {
   "cell_type": "code",
   "execution_count": 137,
   "metadata": {},
   "outputs": [],
   "source": [
    "tsne_dict = get_good_tsne()"
   ]
  },
  {
   "cell_type": "code",
   "execution_count": 138,
   "metadata": {},
   "outputs": [
    {
     "data": {
      "image/png": "[encoded data removed]",
      "text/plain": [
       "<Figure size 576x4320 with 8 Axes>"
      ]
     },
     "metadata": {
      "needs_background": "light"
     },
     "output_type": "display_data"
    }
   ],
   "source": [
    "fig, ax = plt.subplots(len(tsne_dict),1)\n",
    "fig.set_figwidth(8)\n",
    "fig.set_figheight(60)\n",
    "fig.subplots_adjust(wspace=0.3, hspace=0.3)\n",
    "\n",
    "i = 0\n",
    "for lr, tsne_array in tsne_dict.items():\n",
    "    ax[i].scatter(tsne_array[:, 0], tsne_array[:, 1])\n",
    "    ax[i].set_title(f'learning_rates = {lr}')\n",
    "    i += 1"
   ]
  },
  {
   "cell_type": "markdown",
   "metadata": {},
   "source": [
    "По полученным графиком я не вижу явной возможности для кластеризации, так что исключим подобные алгоритмы.\n",
    "\n",
    "Но давайте попробуем разбить на 3 кластера:"
   ]
  },
  {
   "cell_type": "markdown",
   "metadata": {},
   "source": []
  },
  {
   "cell_type": "code",
   "execution_count": 194,
   "metadata": {},
   "outputs": [],
   "source": [
    "from sklearn.cluster import KMeans"
   ]
  },
  {
   "cell_type": "code",
   "execution_count": 195,
   "metadata": {},
   "outputs": [
    {
     "data": {
      "text/plain": [
       "0    2842\n",
       "1     983\n",
       "dtype: int64"
      ]
     },
     "execution_count": 195,
     "metadata": {},
     "output_type": "execute_result"
    }
   ],
   "source": [
    "kmeans = KMeans(n_clusters=2)\n",
    "labels_train = kmeans.fit_predict(X_train_scaled)\n",
    "pd.value_counts(labels_train)"
   ]
  },
  {
   "cell_type": "code",
   "execution_count": 141,
   "metadata": {},
   "outputs": [],
   "source": [
    "labels_train = kmeans.predict(X_train_scaled)"
   ]
  },
  {
   "cell_type": "code",
   "execution_count": 142,
   "metadata": {},
   "outputs": [
    {
     "data": {
      "image/png": "[encoded data removed]",
      "text/plain": [
       "<Figure size 432x288 with 1 Axes>"
      ]
     },
     "metadata": {
      "needs_background": "light"
     },
     "output_type": "display_data"
    }
   ],
   "source": [
    "plt.scatter(\n",
    "    tsne_dict[150][:, 0],\n",
    "    tsne_dict[150][:, 1],\n",
    "    c=labels_train\n",
    ");"
   ]
  },
  {
   "cell_type": "markdown",
   "metadata": {},
   "source": [
    "Так себе разбиение на кластеры, если честно"
   ]
  },
  {
   "cell_type": "markdown",
   "metadata": {},
   "source": [
    "#### PCA (Метод главных компонент)\n",
    "Попробуем выявить наиболее значимые признаки"
   ]
  },
  {
   "cell_type": "code",
   "execution_count": 196,
   "metadata": {},
   "outputs": [],
   "source": [
    "from sklearn.decomposition import PCA\n"
   ]
  },
  {
   "cell_type": "code",
   "execution_count": 197,
   "metadata": {},
   "outputs": [
    {
     "name": "stdout",
     "output_type": "stream",
     "text": [
      "Оценка линейной регрессии при разном количестве взятых признаков:\n",
      "при n = 1, \t r2 = 0.1136,\tacc = 0.9558990180480086\n",
      "при n = 2, \t r2 = 0.1884,\tacc = 0.9800022301736976\n",
      "при n = 3, \t r2 = 0.2726,\tacc = 0.9993650014060574\n",
      "при n = 4, \t r2 = 0.2805,\tacc = 0.9999291390195195\n",
      "при n = 5, \t r2 = 0.2806,\tacc = 0.9999707684937221\n",
      "при n = 6, \t r2 = 0.6348,\tacc = 0.9999853108209366\n",
      "при n = 7, \t r2 = 0.6482,\tacc = 0.9999959195436446\n",
      "при n = 8, \t r2 = 0.6610,\tacc = 0.9999978334191454\n",
      "при n = 9, \t r2 = 0.6685,\tacc = 0.9999986628795802\n",
      "при n = 10, \t r2 = 0.6686,\tacc = 0.9999993469249149\n",
      "при n = 11, \t r2 = 0.6687,\tacc = 0.9999998195980423\n",
      "при n = 12, \t r2 = 0.6673,\tacc = 0.999999954302178\n",
      "при n = 13, \t r2 = 0.6674,\tacc = 0.9999999780037432\n",
      "при n = 14, \t r2 = 0.6706,\tacc = 0.9999999869841352\n",
      "при n = 15, \t r2 = 0.6708,\tacc = 0.9999999951080036\n",
      "при n = 16, \t r2 = 0.6705,\tacc = 0.9999999989302285\n",
      "при n = 17, \t r2 = 0.6710,\tacc = 0.999999999698537\n",
      "при n = 18, \t r2 = 0.6690,\tacc = 1.0\n",
      "при n = 19, \t r2 = 0.6690,\tacc = 1.0\n",
      "при n = 20, \t r2 = 0.6690,\tacc = 1.0\n",
      "при n = 21, \t r2 = 0.6690,\tacc = 1.0\n"
     ]
    }
   ],
   "source": [
    "print(\"Оценка линейной регрессии при разном количестве взятых признаков:\")\n",
    "for n in range(1,X_train.shape[1] + 1):\n",
    "    pca = PCA(n_components=n, random_state=42)\n",
    "    X_train_mc = pca.fit_transform(X_train_scaled)\n",
    "    X_test_mc = pca.transform(X_test_scaled)\n",
    "    lr = LinearRegression()\n",
    "    r2 = get_model_r2(X_train_mc, y_train, X_test_mc, y_test, lr)\n",
    "    \n",
    "    print(f'при n = {n}, \\t r2 = {r2:.4f},\\tacc = {np.sum(pca.explained_variance_ratio_[:n])}')"
   ]
  },
  {
   "cell_type": "markdown",
   "metadata": {},
   "source": [
    "Мы видим что лучший результат достигается при $n = 17$"
   ]
  },
  {
   "cell_type": "code",
   "execution_count": 198,
   "metadata": {},
   "outputs": [
    {
     "data": {
      "text/plain": [
       "0.6709729973826732"
      ]
     },
     "execution_count": 198,
     "metadata": {},
     "output_type": "execute_result"
    }
   ],
   "source": [
    "pca = PCA(n_components=17, random_state=42)\n",
    "\n",
    "X_train_mc = pca.fit_transform(X_train_scaled)\n",
    "\n",
    "X_test_mc = pca.transform(X_test_scaled)\n",
    "\n",
    "get_model_r2(X_train_mc, y_train, X_test_mc, y_test, lr)"
   ]
  },
  {
   "cell_type": "markdown",
   "metadata": {},
   "source": [
    "#### Дерево решений"
   ]
  },
  {
   "cell_type": "code",
   "execution_count": 199,
   "metadata": {},
   "outputs": [],
   "source": [
    "decision_tree = GridSearchCV(estimator=DecisionTreeRegressor(random_state=42),\n",
    "                   param_grid=[{'max_depth': np.arange(2,40)}],\n",
    "                   scoring='r2',\n",
    "                   n_jobs=-1,\n",
    "                   cv=5)"
   ]
  },
  {
   "cell_type": "code",
   "execution_count": 200,
   "metadata": {},
   "outputs": [],
   "source": [
    "decision_tree.fit(X_train_mc, y_train);"
   ]
  },
  {
   "cell_type": "code",
   "execution_count": 201,
   "metadata": {},
   "outputs": [
    {
     "name": "stdout",
     "output_type": "stream",
     "text": [
      "best max_depth: 5, \tbest r2:0.7061168173418996\n"
     ]
    }
   ],
   "source": [
    "print(f'best max_depth: {decision_tree.best_params_[\"max_depth\"]}, \\tbest r2:{decision_tree.best_score_}')"
   ]
  },
  {
   "cell_type": "code",
   "execution_count": 202,
   "metadata": {},
   "outputs": [],
   "source": [
    "def do_tree(max_depth):\n",
    "    model = DecisionTreeRegressor(max_depth=max_depth, random_state=42)\n",
    "    return get_model_r2(X_train_mc, y_train, X_test_mc, y_test, model)\n",
    "    \n",
    "def best_tree_score():\n",
    "    max_depths = np.arange(2,40)\n",
    "    with Pool() as p:  \n",
    "        tree_score_list = p.map(do_tree, max_depths)\n",
    "    return dict(zip(max_depths, tree_score_list))"
   ]
  },
  {
   "cell_type": "code",
   "execution_count": 203,
   "metadata": {},
   "outputs": [],
   "source": [
    "tree_dict = best_tree_score()"
   ]
  },
  {
   "cell_type": "code",
   "execution_count": 204,
   "metadata": {},
   "outputs": [
    {
     "name": "stdout",
     "output_type": "stream",
     "text": [
      "Оценка дерева решений с переменной глубиной \n",
      "max_depth: 2 \t r2: 0.4604\n",
      "max_depth: 3 \t r2: 0.5600\n",
      "max_depth: 4 \t r2: 0.6278\n",
      "max_depth: 5 \t r2: 0.6187\n",
      "max_depth: 6 \t r2: 0.6318\n",
      "max_depth: 7 \t r2: 0.6273\n",
      "max_depth: 8 \t r2: 0.5877\n",
      "max_depth: 9 \t r2: 0.5729\n",
      "max_depth: 10 \t r2: 0.5585\n",
      "max_depth: 11 \t r2: 0.5707\n",
      "max_depth: 12 \t r2: 0.5565\n",
      "max_depth: 13 \t r2: 0.5342\n",
      "max_depth: 14 \t r2: 0.5313\n",
      "max_depth: 15 \t r2: 0.5247\n",
      "max_depth: 16 \t r2: 0.5196\n",
      "max_depth: 17 \t r2: 0.5264\n",
      "max_depth: 18 \t r2: 0.5040\n",
      "max_depth: 19 \t r2: 0.5108\n",
      "max_depth: 20 \t r2: 0.5216\n",
      "max_depth: 21 \t r2: 0.5041\n",
      "max_depth: 22 \t r2: 0.5060\n",
      "max_depth: 23 \t r2: 0.5240\n",
      "max_depth: 24 \t r2: 0.5144\n",
      "max_depth: 25 \t r2: 0.5294\n",
      "max_depth: 26 \t r2: 0.5254\n",
      "max_depth: 27 \t r2: 0.5210\n",
      "max_depth: 28 \t r2: 0.5224\n",
      "max_depth: 29 \t r2: 0.5047\n",
      "max_depth: 30 \t r2: 0.5254\n",
      "max_depth: 31 \t r2: 0.5254\n",
      "max_depth: 32 \t r2: 0.5254\n",
      "max_depth: 33 \t r2: 0.5254\n",
      "max_depth: 34 \t r2: 0.5254\n",
      "max_depth: 35 \t r2: 0.5254\n",
      "max_depth: 36 \t r2: 0.5254\n",
      "max_depth: 37 \t r2: 0.5254\n",
      "max_depth: 38 \t r2: 0.5254\n",
      "max_depth: 39 \t r2: 0.5254\n"
     ]
    }
   ],
   "source": [
    "print(\"Оценка дерева решений с переменной глубиной \")\n",
    "for depth, r2 in tree_dict.items():\n",
    "    print(f'max_depth: {depth} \\t r2: {r2:.4f}')"
   ]
  },
  {
   "cell_type": "code",
   "execution_count": 205,
   "metadata": {},
   "outputs": [
    {
     "name": "stdout",
     "output_type": "stream",
     "text": [
      "\u001b[0m"
     ]
    }
   ],
   "source": [
    "!telegram-send 'Проверяй!'"
   ]
  },
  {
   "cell_type": "markdown",
   "metadata": {},
   "source": [
    "При вычислении регресси деревом решений глубины 6 мы получаем точность $r2 = 0.54$"
   ]
  },
  {
   "cell_type": "markdown",
   "metadata": {},
   "source": [
    "#### Случайный лес"
   ]
  },
  {
   "cell_type": "code",
   "execution_count": 206,
   "metadata": {},
   "outputs": [],
   "source": [
    "def do_forest(max_depth):\n",
    "    model = RandomForestRegressor(n_estimators=1000, max_depth=max_depth, random_state=42)\n",
    "    return get_model_r2(X_train_mc, y_train, X_test_mc, y_test, model)\n",
    "    \n",
    "def best_forest_score():\n",
    "    max_depths = np.arange(15,31)\n",
    "    with Pool() as p:  \n",
    "        forest_score_list = p.map(do_forest, max_depths)\n",
    "    return dict(zip(max_depths, forest_score_list))"
   ]
  },
  {
   "cell_type": "code",
   "execution_count": 207,
   "metadata": {},
   "outputs": [],
   "source": [
    "forest_dict = best_forest_score()"
   ]
  },
  {
   "cell_type": "code",
   "execution_count": 208,
   "metadata": {},
   "outputs": [
    {
     "name": "stdout",
     "output_type": "stream",
     "text": [
      "\u001b[0m"
     ]
    }
   ],
   "source": [
    "!telegram-send \"Я сделялъ\""
   ]
  },
  {
   "cell_type": "code",
   "execution_count": 209,
   "metadata": {},
   "outputs": [
    {
     "name": "stdout",
     "output_type": "stream",
     "text": [
      "Оценка случайных деревьев с переменной глубиной \n",
      "max_depth: 15 \t r2: 0.7084\n",
      "max_depth: 16 \t r2: 0.7079\n",
      "max_depth: 17 \t r2: 0.7085\n",
      "max_depth: 18 \t r2: 0.7081\n",
      "max_depth: 19 \t r2: 0.7084\n",
      "max_depth: 20 \t r2: 0.7081\n",
      "max_depth: 21 \t r2: 0.7087\n",
      "max_depth: 22 \t r2: 0.7085\n",
      "max_depth: 23 \t r2: 0.7076\n",
      "max_depth: 24 \t r2: 0.7083\n",
      "max_depth: 25 \t r2: 0.7083\n",
      "max_depth: 26 \t r2: 0.7079\n",
      "max_depth: 27 \t r2: 0.7079\n",
      "max_depth: 28 \t r2: 0.7084\n",
      "max_depth: 29 \t r2: 0.7083\n",
      "max_depth: 30 \t r2: 0.7086\n"
     ]
    }
   ],
   "source": [
    "print(\"Оценка случайных деревьев с переменной глубиной \")\n",
    "for depth, r2 in forest_dict.items():\n",
    "    print(f'max_depth: {depth} \\t r2: {r2:.4f}')"
   ]
  },
  {
   "cell_type": "markdown",
   "metadata": {},
   "source": [
    "При вычислении регрессии случайным лесом глубиной 23 мы получаем точность $r2 = 0.7072$"
   ]
  },
  {
   "cell_type": "markdown",
   "metadata": {},
   "source": [
    "#### Расширенный случайный лес\n",
    "будем использовать также `GredSearchCV`"
   ]
  },
  {
   "cell_type": "code",
   "execution_count": 71,
   "metadata": {},
   "outputs": [],
   "source": [
    "parametrs = [{'n_estimators': [150,200,250,500,750,1000],\n",
    "              'max_features': [\"auto\", \"sqrt\", \"log2\"],\n",
    "              'max_depth': np.arange(10,25)}]"
   ]
  },
  {
   "cell_type": "code",
   "execution_count": 72,
   "metadata": {},
   "outputs": [],
   "source": [
    "clf = GridSearchCV(estimator=RandomForestRegressor(random_state=42),\n",
    "                   param_grid=parametrs,\n",
    "                   scoring='r2',\n",
    "                   n_jobs=-1,\n",
    "                   cv=5)"
   ]
  },
  {
   "cell_type": "code",
   "execution_count": 73,
   "metadata": {},
   "outputs": [
    {
     "data": {
      "text/plain": [
       "GridSearchCV(cv=5, error_score='raise-deprecating',\n",
       "       estimator=RandomForestRegressor(bootstrap=True, criterion='mse', max_depth=None,\n",
       "           max_features='auto', max_leaf_nodes=None,\n",
       "           min_impurity_decrease=0.0, min_impurity_split=None,\n",
       "           min_samples_leaf=1, min_samples_split=2,\n",
       "           min_weight_fraction_leaf=0.0, n_estimators='warn', n_jobs=None,\n",
       "           oob_score=False, random_state=42, verbose=0, warm_start=False),\n",
       "       fit_params=None, iid='warn', n_jobs=-1,\n",
       "       param_grid=[{'n_estimators': [150, 200, 250, 500, 750, 1000], 'max_features': ['auto', 'sqrt', 'log2'], 'max_depth': array([10, 11, 12, 13, 14, 15, 16, 17, 18, 19, 20, 21, 22, 23, 24])}],\n",
       "       pre_dispatch='2*n_jobs', refit=True, return_train_score='warn',\n",
       "       scoring='r2', verbose=0)"
      ]
     },
     "execution_count": 73,
     "metadata": {},
     "output_type": "execute_result"
    }
   ],
   "source": [
    "clf.fit(X_train_mc, y_train)"
   ]
  },
  {
   "cell_type": "code",
   "execution_count": 74,
   "metadata": {},
   "outputs": [
    {
     "data": {
      "text/plain": [
       "({'max_depth': 21, 'max_features': 'sqrt', 'n_estimators': 750},\n",
       " 0.7193811820174794)"
      ]
     },
     "execution_count": 74,
     "metadata": {},
     "output_type": "execute_result"
    }
   ],
   "source": [
    "clf.best_params_, clf.best_score_"
   ]
  },
  {
   "cell_type": "markdown",
   "metadata": {},
   "source": [
    "Наилучшие парамедры для случайного леса:\n",
    "\n",
    "'max_depth': 21, 'max_features': 'sqrt', 'n_estimators': 750\n",
    "\n",
    "r2 = 0.719"
   ]
  },
  {
   "cell_type": "markdown",
   "metadata": {},
   "source": [
    "#### L1, L2 регуляризация"
   ]
  },
  {
   "cell_type": "code",
   "execution_count": 73,
   "metadata": {},
   "outputs": [],
   "source": [
    "from xgboost import XGBRegressor"
   ]
  },
  {
   "cell_type": "code",
   "execution_count": 74,
   "metadata": {},
   "outputs": [],
   "source": [
    "xgb = XGBRegressor(colsample_bytree=0.5, gamma=0.0, \n",
    "                             learning_rate=0.005, max_depth=7, \n",
    "                             min_child_weight=0.5, n_estimators=5800,\n",
    "                             reg_alpha=0.9, reg_lambda=0.99,\n",
    "                             subsample=0.99,seed=42, silent=1,\n",
    "                             random_state=42)"
   ]
  },
  {
   "cell_type": "code",
   "execution_count": 48,
   "metadata": {},
   "outputs": [
    {
     "data": {
      "text/plain": [
       "0.7338011555546069"
      ]
     },
     "execution_count": 48,
     "metadata": {},
     "output_type": "execute_result"
    }
   ],
   "source": [
    "# С удаленными признаками ['LifeSquare', 'KitchenSquare']\n",
    "get_model_r2(X_train, y_train, X_test, y_test, xgb)"
   ]
  },
  {
   "cell_type": "code",
   "execution_count": 59,
   "metadata": {},
   "outputs": [
    {
     "data": {
      "text/plain": [
       "0.7225249604175263"
      ]
     },
     "execution_count": 59,
     "metadata": {},
     "output_type": "execute_result"
    }
   ],
   "source": [
    "# С удаленными признаками ['LifeSquare', 'KitchenSquare', 'Healthcare_1', 'Floor', 'HouseFloor']\n",
    "get_model_r2(X_train, y_train, X_test, y_test, xgb)"
   ]
  },
  {
   "cell_type": "code",
   "execution_count": null,
   "metadata": {},
   "outputs": [],
   "source": [
    "get_model_r2(X_train, y_train, X_test, y_test, xgb)"
   ]
  },
  {
   "cell_type": "code",
   "execution_count": 131,
   "metadata": {},
   "outputs": [
    {
     "name": "stdout",
     "output_type": "stream",
     "text": [
      "123\n"
     ]
    }
   ],
   "source": [
    "print(123)"
   ]
  },
  {
   "cell_type": "code",
   "execution_count": 133,
   "metadata": {},
   "outputs": [
    {
     "data": {
      "text/plain": [
       "0.740168393607904"
      ]
     },
     "execution_count": 133,
     "metadata": {},
     "output_type": "execute_result"
    }
   ],
   "source": [
    "get_model_r2(X_train, y_train, X_test, y_test, xgb)"
   ]
  },
  {
   "cell_type": "code",
   "execution_count": 154,
   "metadata": {},
   "outputs": [
    {
     "data": {
      "text/html": [
       "<div>\n",
       "<style scoped>\n",
       "    .dataframe tbody tr th:only-of-type {\n",
       "        vertical-align: middle;\n",
       "    }\n",
       "\n",
       "    .dataframe tbody tr th {\n",
       "        vertical-align: top;\n",
       "    }\n",
       "\n",
       "    .dataframe thead th {\n",
       "        text-align: right;\n",
       "    }\n",
       "</style>\n",
       "<table border=\"1\" class=\"dataframe\">\n",
       "  <thead>\n",
       "    <tr style=\"text-align: right;\">\n",
       "      <th></th>\n",
       "      <th>Rooms</th>\n",
       "      <th>Square</th>\n",
       "      <th>LifeSquare</th>\n",
       "      <th>KitchenSquare</th>\n",
       "      <th>Floor</th>\n",
       "      <th>HouseFloor</th>\n",
       "      <th>HouseYear</th>\n",
       "      <th>Ecology_1</th>\n",
       "      <th>Social_1</th>\n",
       "      <th>Social_2</th>\n",
       "      <th>Social_3</th>\n",
       "      <th>Healthcare_1</th>\n",
       "      <th>Helthcare_2</th>\n",
       "      <th>Shops_1</th>\n",
       "      <th>District_square_price</th>\n",
       "      <th>is_first_floor</th>\n",
       "      <th>is_last_floor</th>\n",
       "      <th>Ecology_2_A</th>\n",
       "      <th>Ecology_2_B</th>\n",
       "      <th>Ecology_3_A</th>\n",
       "      <th>Ecology_3_B</th>\n",
       "      <th>Shops_2_A</th>\n",
       "      <th>Shops_2_B</th>\n",
       "    </tr>\n",
       "  </thead>\n",
       "  <tbody>\n",
       "    <tr>\n",
       "      <th>count</th>\n",
       "      <td>1996.000000</td>\n",
       "      <td>1996.000000</td>\n",
       "      <td>1996.000000</td>\n",
       "      <td>1996.000000</td>\n",
       "      <td>1996.00000</td>\n",
       "      <td>1996.000000</td>\n",
       "      <td>1996.000000</td>\n",
       "      <td>1996.000000</td>\n",
       "      <td>1996.000000</td>\n",
       "      <td>1996.000000</td>\n",
       "      <td>1996.000000</td>\n",
       "      <td>1996.000000</td>\n",
       "      <td>1996.000000</td>\n",
       "      <td>1996.000000</td>\n",
       "      <td>1996.000000</td>\n",
       "      <td>1996.000000</td>\n",
       "      <td>1996.000000</td>\n",
       "      <td>1996.000000</td>\n",
       "      <td>1996.000000</td>\n",
       "      <td>1996.000000</td>\n",
       "      <td>1996.000000</td>\n",
       "      <td>1996.000000</td>\n",
       "      <td>1996.000000</td>\n",
       "    </tr>\n",
       "    <tr>\n",
       "      <th>mean</th>\n",
       "      <td>1.886774</td>\n",
       "      <td>55.987121</td>\n",
       "      <td>36.332614</td>\n",
       "      <td>6.000501</td>\n",
       "      <td>8.36022</td>\n",
       "      <td>12.611723</td>\n",
       "      <td>1984.738978</td>\n",
       "      <td>0.120029</td>\n",
       "      <td>25.006012</td>\n",
       "      <td>5451.033567</td>\n",
       "      <td>9.070641</td>\n",
       "      <td>1143.527364</td>\n",
       "      <td>1.358717</td>\n",
       "      <td>4.471443</td>\n",
       "      <td>3922.069670</td>\n",
       "      <td>0.019038</td>\n",
       "      <td>0.269539</td>\n",
       "      <td>0.007515</td>\n",
       "      <td>0.992485</td>\n",
       "      <td>0.031062</td>\n",
       "      <td>0.968938</td>\n",
       "      <td>0.084669</td>\n",
       "      <td>0.915331</td>\n",
       "    </tr>\n",
       "    <tr>\n",
       "      <th>std</th>\n",
       "      <td>0.817849</td>\n",
       "      <td>18.675730</td>\n",
       "      <td>18.308725</td>\n",
       "      <td>5.565243</td>\n",
       "      <td>5.07468</td>\n",
       "      <td>6.853720</td>\n",
       "      <td>18.288019</td>\n",
       "      <td>0.120986</td>\n",
       "      <td>17.544215</td>\n",
       "      <td>4050.835376</td>\n",
       "      <td>25.844950</td>\n",
       "      <td>742.063407</td>\n",
       "      <td>1.507402</td>\n",
       "      <td>5.073958</td>\n",
       "      <td>985.456257</td>\n",
       "      <td>0.136693</td>\n",
       "      <td>0.443832</td>\n",
       "      <td>0.086385</td>\n",
       "      <td>0.086385</td>\n",
       "      <td>0.173529</td>\n",
       "      <td>0.173529</td>\n",
       "      <td>0.278459</td>\n",
       "      <td>0.278459</td>\n",
       "    </tr>\n",
       "    <tr>\n",
       "      <th>min</th>\n",
       "      <td>1.000000</td>\n",
       "      <td>22.691542</td>\n",
       "      <td>1.258886</td>\n",
       "      <td>0.000000</td>\n",
       "      <td>1.00000</td>\n",
       "      <td>0.000000</td>\n",
       "      <td>1914.000000</td>\n",
       "      <td>0.000000</td>\n",
       "      <td>0.000000</td>\n",
       "      <td>168.000000</td>\n",
       "      <td>0.000000</td>\n",
       "      <td>0.000000</td>\n",
       "      <td>0.000000</td>\n",
       "      <td>0.000000</td>\n",
       "      <td>2284.108677</td>\n",
       "      <td>0.000000</td>\n",
       "      <td>0.000000</td>\n",
       "      <td>0.000000</td>\n",
       "      <td>0.000000</td>\n",
       "      <td>0.000000</td>\n",
       "      <td>0.000000</td>\n",
       "      <td>0.000000</td>\n",
       "      <td>0.000000</td>\n",
       "    </tr>\n",
       "    <tr>\n",
       "      <th>25%</th>\n",
       "      <td>1.000000</td>\n",
       "      <td>41.469238</td>\n",
       "      <td>24.668216</td>\n",
       "      <td>1.000000</td>\n",
       "      <td>4.00000</td>\n",
       "      <td>9.000000</td>\n",
       "      <td>1974.000000</td>\n",
       "      <td>0.017647</td>\n",
       "      <td>6.000000</td>\n",
       "      <td>1564.000000</td>\n",
       "      <td>0.000000</td>\n",
       "      <td>800.000000</td>\n",
       "      <td>0.000000</td>\n",
       "      <td>1.000000</td>\n",
       "      <td>3021.675025</td>\n",
       "      <td>0.000000</td>\n",
       "      <td>0.000000</td>\n",
       "      <td>0.000000</td>\n",
       "      <td>1.000000</td>\n",
       "      <td>0.000000</td>\n",
       "      <td>1.000000</td>\n",
       "      <td>0.000000</td>\n",
       "      <td>1.000000</td>\n",
       "    </tr>\n",
       "    <tr>\n",
       "      <th>50%</th>\n",
       "      <td>2.000000</td>\n",
       "      <td>52.312935</td>\n",
       "      <td>37.113862</td>\n",
       "      <td>6.000000</td>\n",
       "      <td>7.00000</td>\n",
       "      <td>13.000000</td>\n",
       "      <td>1977.000000</td>\n",
       "      <td>0.075779</td>\n",
       "      <td>25.000000</td>\n",
       "      <td>5288.000000</td>\n",
       "      <td>2.000000</td>\n",
       "      <td>1142.904460</td>\n",
       "      <td>1.000000</td>\n",
       "      <td>3.000000</td>\n",
       "      <td>4089.011120</td>\n",
       "      <td>0.000000</td>\n",
       "      <td>0.000000</td>\n",
       "      <td>0.000000</td>\n",
       "      <td>1.000000</td>\n",
       "      <td>0.000000</td>\n",
       "      <td>1.000000</td>\n",
       "      <td>0.000000</td>\n",
       "      <td>1.000000</td>\n",
       "    </tr>\n",
       "    <tr>\n",
       "      <th>75%</th>\n",
       "      <td>2.000000</td>\n",
       "      <td>65.914023</td>\n",
       "      <td>41.740278</td>\n",
       "      <td>9.000000</td>\n",
       "      <td>12.00000</td>\n",
       "      <td>17.000000</td>\n",
       "      <td>2001.000000</td>\n",
       "      <td>0.195781</td>\n",
       "      <td>36.000000</td>\n",
       "      <td>7557.000000</td>\n",
       "      <td>5.000000</td>\n",
       "      <td>1142.904460</td>\n",
       "      <td>3.000000</td>\n",
       "      <td>6.000000</td>\n",
       "      <td>4517.564181</td>\n",
       "      <td>0.000000</td>\n",
       "      <td>1.000000</td>\n",
       "      <td>0.000000</td>\n",
       "      <td>1.000000</td>\n",
       "      <td>0.000000</td>\n",
       "      <td>1.000000</td>\n",
       "      <td>0.000000</td>\n",
       "      <td>1.000000</td>\n",
       "    </tr>\n",
       "    <tr>\n",
       "      <th>max</th>\n",
       "      <td>5.000000</td>\n",
       "      <td>185.906396</td>\n",
       "      <td>461.463614</td>\n",
       "      <td>112.000000</td>\n",
       "      <td>26.00000</td>\n",
       "      <td>117.000000</td>\n",
       "      <td>2020.000000</td>\n",
       "      <td>0.521867</td>\n",
       "      <td>74.000000</td>\n",
       "      <td>19083.000000</td>\n",
       "      <td>141.000000</td>\n",
       "      <td>4849.000000</td>\n",
       "      <td>6.000000</td>\n",
       "      <td>23.000000</td>\n",
       "      <td>9452.113505</td>\n",
       "      <td>1.000000</td>\n",
       "      <td>1.000000</td>\n",
       "      <td>1.000000</td>\n",
       "      <td>1.000000</td>\n",
       "      <td>1.000000</td>\n",
       "      <td>1.000000</td>\n",
       "      <td>1.000000</td>\n",
       "      <td>1.000000</td>\n",
       "    </tr>\n",
       "  </tbody>\n",
       "</table>\n",
       "</div>"
      ],
      "text/plain": [
       "             Rooms       Square   LifeSquare  KitchenSquare       Floor   HouseFloor     ...       Ecology_2_A  Ecology_2_B  Ecology_3_A  Ecology_3_B    Shops_2_A    Shops_2_B\n",
       "count  1996.000000  1996.000000  1996.000000    1996.000000  1996.00000  1996.000000     ...       1996.000000  1996.000000  1996.000000  1996.000000  1996.000000  1996.000000\n",
       "mean      1.886774    55.987121    36.332614       6.000501     8.36022    12.611723     ...          0.007515     0.992485     0.031062     0.968938     0.084669     0.915331\n",
       "std       0.817849    18.675730    18.308725       5.565243     5.07468     6.853720     ...          0.086385     0.086385     0.173529     0.173529     0.278459     0.278459\n",
       "min       1.000000    22.691542     1.258886       0.000000     1.00000     0.000000     ...          0.000000     0.000000     0.000000     0.000000     0.000000     0.000000\n",
       "25%       1.000000    41.469238    24.668216       1.000000     4.00000     9.000000     ...          0.000000     1.000000     0.000000     1.000000     0.000000     1.000000\n",
       "50%       2.000000    52.312935    37.113862       6.000000     7.00000    13.000000     ...          0.000000     1.000000     0.000000     1.000000     0.000000     1.000000\n",
       "75%       2.000000    65.914023    41.740278       9.000000    12.00000    17.000000     ...          0.000000     1.000000     0.000000     1.000000     0.000000     1.000000\n",
       "max       5.000000   185.906396   461.463614     112.000000    26.00000   117.000000     ...          1.000000     1.000000     1.000000     1.000000     1.000000     1.000000\n",
       "\n",
       "[8 rows x 23 columns]"
      ]
     },
     "execution_count": 154,
     "metadata": {},
     "output_type": "execute_result"
    }
   ],
   "source": [
    "X_test.describe()"
   ]
  },
  {
   "cell_type": "code",
   "execution_count": 156,
   "metadata": {},
   "outputs": [],
   "source": [
    "test = pd.read_csv(test_path)"
   ]
  },
  {
   "cell_type": "code",
   "execution_count": 161,
   "metadata": {},
   "outputs": [
    {
     "data": {
      "text/plain": [
       "0.0    4200\n",
       "1.0    2181\n",
       "3.0    1666\n",
       "2.0    1157\n",
       "5.0     387\n",
       "4.0     287\n",
       "6.0      99\n",
       "Name: Helthcare_2, dtype: int64"
      ]
     },
     "execution_count": 161,
     "metadata": {},
     "output_type": "execute_result"
    }
   ],
   "source": [
    "data.Helthcare_2.value_counts()"
   ]
  },
  {
   "cell_type": "code",
   "execution_count": null,
   "metadata": {},
   "outputs": [],
   "source": []
  }
 ],
 "metadata": {
  "kernelspec": {
   "display_name": "Python 3",
   "language": "python",
   "name": "python3"
  },
  "language_info": {
   "codemirror_mode": {
    "name": "ipython",
    "version": 3
   },
   "file_extension": ".py",
   "mimetype": "text/x-python",
   "name": "python",
   "nbconvert_exporter": "python",
   "pygments_lexer": "ipython3",
   "version": "3.7.1"
  }
 },
 "nbformat": 4,
 "nbformat_minor": 2
}
