{
 "cells": [
  {
   "cell_type": "markdown",
   "metadata": {},
   "source": [
    "# Python для DataScience\n",
    "## Курсовая работа"
   ]
  },
  {
   "cell_type": "markdown",
   "metadata": {},
   "source": [
    "В этой курсовой работе мы будем обучать модель, предсказывающую цены на квартиры"
   ]
  },
  {
   "cell_type": "code",
   "execution_count": 1,
   "metadata": {},
   "outputs": [],
   "source": [
    "from urllib import request\n",
    "from os.path import isfile\n",
    "\n",
    "import pandas as pd\n",
    "import numpy as np\n",
    "\n",
    "from sklearn.model_selection import train_test_split\n",
    "from sklearn.model_selection import GridSearchCV\n",
    "from sklearn.tree import DecisionTreeRegressor\n",
    "from sklearn.ensemble import RandomForestRegressor\n",
    "from sklearn.decomposition import PCA\n",
    "from sklearn.metrics import r2_score\n",
    "from sklearn.linear_model import Lasso\n",
    "from sklearn.manifold import TSNE\n",
    "import os\n",
    "os.environ['KMP_DUPLICATE_LIB_OK']='True'\n",
    "from xgboost import XGBRegressor\n",
    "import pickle\n",
    "\n",
    "from multiprocessing import Pool\n",
    "\n",
    "import matplotlib.pyplot as plt\n",
    "%matplotlib inline\n",
    "\n",
    "import warnings\n",
    "warnings.filterwarnings('ignore')"
   ]
  },
  {
   "cell_type": "code",
   "execution_count": 2,
   "metadata": {},
   "outputs": [],
   "source": [
    "def get_model_r2(X_train, y_train, X_test, y_test, model):\n",
    "    \"\"\"Запускает целевую модель и выдает среднеквадратичное отклонение r2\"\"\"\n",
    "    model.fit(X_train, y_train)\n",
    "    y_pred=model.predict(X_test)\n",
    "    r2 = r2_score(y_test, y_pred)\n",
    "    return r2"
   ]
  },
  {
   "cell_type": "markdown",
   "metadata": {},
   "source": [
    "### Загрузка данных"
   ]
  },
  {
   "cell_type": "markdown",
   "metadata": {},
   "source": [
    "Скачаем датасеты:"
   ]
  },
  {
   "cell_type": "code",
   "execution_count": 3,
   "metadata": {},
   "outputs": [],
   "source": [
    "train_url = 'https://uploads.hb.cldmail.ru/asset/1381522/attachment/302b3d11658ce764f4e8655292566e11.csv'\n",
    "test_url = 'https://uploads.hb.cldmail.ru/asset/1381521/attachment/f74867a92dc85932950369d8d31db3b0.csv'\n",
    "\n",
    "train_path = 'train.csv'\n",
    "test_path = 'test.csv'\n",
    "\n",
    "if not isfile(train_path):\n",
    "    request.urlretrieve(train_url, train_path)\n",
    "if not isfile(test_path):\n",
    "    request.urlretrieve(test_url, test_path)"
   ]
  },
  {
   "cell_type": "code",
   "execution_count": 4,
   "metadata": {},
   "outputs": [],
   "source": [
    "train = pd.read_csv(train_path).set_index('Id')"
   ]
  },
  {
   "cell_type": "markdown",
   "metadata": {},
   "source": [
    "### Разбивка данных\n",
    "Разобьем датафрейм на тестовый и контрольный"
   ]
  },
  {
   "cell_type": "code",
   "execution_count": 5,
   "metadata": {},
   "outputs": [],
   "source": [
    "data, valid = train_test_split(train, test_size=0.25, random_state=42)"
   ]
  },
  {
   "cell_type": "markdown",
   "metadata": {},
   "source": [
    "### Очистка данных\n",
    "Давайте проанализируем датасет"
   ]
  },
  {
   "cell_type": "code",
   "execution_count": 6,
   "metadata": {},
   "outputs": [
    {
     "name": "stdout",
     "output_type": "stream",
     "text": [
      "<class 'pandas.core.frame.DataFrame'>\n",
      "Int64Index: 7500 entries, 13295 to 2135\n",
      "Data columns (total 19 columns):\n",
      "DistrictId       7500 non-null int64\n",
      "Rooms            7500 non-null float64\n",
      "Square           7500 non-null float64\n",
      "LifeSquare       5906 non-null float64\n",
      "KitchenSquare    7500 non-null float64\n",
      "Floor            7500 non-null int64\n",
      "HouseFloor       7500 non-null float64\n",
      "HouseYear        7500 non-null int64\n",
      "Ecology_1        7500 non-null float64\n",
      "Ecology_2        7500 non-null object\n",
      "Ecology_3        7500 non-null object\n",
      "Social_1         7500 non-null int64\n",
      "Social_2         7500 non-null int64\n",
      "Social_3         7500 non-null int64\n",
      "Healthcare_1     3886 non-null float64\n",
      "Helthcare_2      7500 non-null int64\n",
      "Shops_1          7500 non-null int64\n",
      "Shops_2          7500 non-null object\n",
      "Price            7500 non-null float64\n",
      "dtypes: float64(8), int64(8), object(3)\n",
      "memory usage: 1.1+ MB\n"
     ]
    }
   ],
   "source": [
    "data.info()"
   ]
  },
  {
   "cell_type": "code",
   "execution_count": 7,
   "metadata": {},
   "outputs": [
    {
     "data": {
      "text/html": [
       "<div>\n",
       "<style scoped>\n",
       "    .dataframe tbody tr th:only-of-type {\n",
       "        vertical-align: middle;\n",
       "    }\n",
       "\n",
       "    .dataframe tbody tr th {\n",
       "        vertical-align: top;\n",
       "    }\n",
       "\n",
       "    .dataframe thead th {\n",
       "        text-align: right;\n",
       "    }\n",
       "</style>\n",
       "<table border=\"1\" class=\"dataframe\">\n",
       "  <thead>\n",
       "    <tr style=\"text-align: right;\">\n",
       "      <th></th>\n",
       "      <th>DistrictId</th>\n",
       "      <th>Rooms</th>\n",
       "      <th>Square</th>\n",
       "      <th>LifeSquare</th>\n",
       "      <th>KitchenSquare</th>\n",
       "      <th>Floor</th>\n",
       "      <th>HouseFloor</th>\n",
       "      <th>HouseYear</th>\n",
       "      <th>Ecology_1</th>\n",
       "      <th>Social_1</th>\n",
       "      <th>Social_2</th>\n",
       "      <th>Social_3</th>\n",
       "      <th>Healthcare_1</th>\n",
       "      <th>Helthcare_2</th>\n",
       "      <th>Shops_1</th>\n",
       "      <th>Price</th>\n",
       "    </tr>\n",
       "  </thead>\n",
       "  <tbody>\n",
       "    <tr>\n",
       "      <th>count</th>\n",
       "      <td>7500.000000</td>\n",
       "      <td>7500.000000</td>\n",
       "      <td>7500.000000</td>\n",
       "      <td>5906.000000</td>\n",
       "      <td>7500.000000</td>\n",
       "      <td>7500.000000</td>\n",
       "      <td>7500.000000</td>\n",
       "      <td>7.500000e+03</td>\n",
       "      <td>7500.000000</td>\n",
       "      <td>7500.000000</td>\n",
       "      <td>7500.000000</td>\n",
       "      <td>7500.000000</td>\n",
       "      <td>3886.000000</td>\n",
       "      <td>7500.000000</td>\n",
       "      <td>7500.000000</td>\n",
       "      <td>7500.000000</td>\n",
       "    </tr>\n",
       "    <tr>\n",
       "      <th>mean</th>\n",
       "      <td>50.441733</td>\n",
       "      <td>1.887600</td>\n",
       "      <td>56.262165</td>\n",
       "      <td>37.438158</td>\n",
       "      <td>6.417333</td>\n",
       "      <td>8.502800</td>\n",
       "      <td>12.634400</td>\n",
       "      <td>4.658736e+03</td>\n",
       "      <td>0.117437</td>\n",
       "      <td>24.736133</td>\n",
       "      <td>5361.467467</td>\n",
       "      <td>8.027733</td>\n",
       "      <td>1129.527535</td>\n",
       "      <td>1.309467</td>\n",
       "      <td>4.259200</td>\n",
       "      <td>214000.951964</td>\n",
       "    </tr>\n",
       "    <tr>\n",
       "      <th>std</th>\n",
       "      <td>43.700617</td>\n",
       "      <td>0.840234</td>\n",
       "      <td>20.337193</td>\n",
       "      <td>98.726068</td>\n",
       "      <td>32.870226</td>\n",
       "      <td>5.236619</td>\n",
       "      <td>6.833644</td>\n",
       "      <td>2.315178e+05</td>\n",
       "      <td>0.118195</td>\n",
       "      <td>17.627507</td>\n",
       "      <td>4021.616228</td>\n",
       "      <td>23.825236</td>\n",
       "      <td>1015.975294</td>\n",
       "      <td>1.488576</td>\n",
       "      <td>4.819673</td>\n",
       "      <td>92539.924814</td>\n",
       "    </tr>\n",
       "    <tr>\n",
       "      <th>min</th>\n",
       "      <td>0.000000</td>\n",
       "      <td>0.000000</td>\n",
       "      <td>2.377248</td>\n",
       "      <td>0.370619</td>\n",
       "      <td>0.000000</td>\n",
       "      <td>1.000000</td>\n",
       "      <td>0.000000</td>\n",
       "      <td>1.912000e+03</td>\n",
       "      <td>0.000000</td>\n",
       "      <td>0.000000</td>\n",
       "      <td>168.000000</td>\n",
       "      <td>0.000000</td>\n",
       "      <td>0.000000</td>\n",
       "      <td>0.000000</td>\n",
       "      <td>0.000000</td>\n",
       "      <td>59174.778028</td>\n",
       "    </tr>\n",
       "    <tr>\n",
       "      <th>25%</th>\n",
       "      <td>19.000000</td>\n",
       "      <td>1.000000</td>\n",
       "      <td>41.748189</td>\n",
       "      <td>22.838608</td>\n",
       "      <td>1.000000</td>\n",
       "      <td>4.000000</td>\n",
       "      <td>9.000000</td>\n",
       "      <td>1.974000e+03</td>\n",
       "      <td>0.017647</td>\n",
       "      <td>6.000000</td>\n",
       "      <td>1564.000000</td>\n",
       "      <td>0.000000</td>\n",
       "      <td>325.000000</td>\n",
       "      <td>0.000000</td>\n",
       "      <td>1.000000</td>\n",
       "      <td>153980.839919</td>\n",
       "    </tr>\n",
       "    <tr>\n",
       "      <th>50%</th>\n",
       "      <td>35.000000</td>\n",
       "      <td>2.000000</td>\n",
       "      <td>52.539538</td>\n",
       "      <td>32.837997</td>\n",
       "      <td>6.000000</td>\n",
       "      <td>7.000000</td>\n",
       "      <td>14.000000</td>\n",
       "      <td>1.977000e+03</td>\n",
       "      <td>0.072158</td>\n",
       "      <td>25.000000</td>\n",
       "      <td>5285.000000</td>\n",
       "      <td>2.000000</td>\n",
       "      <td>900.000000</td>\n",
       "      <td>1.000000</td>\n",
       "      <td>3.000000</td>\n",
       "      <td>192269.644879</td>\n",
       "    </tr>\n",
       "    <tr>\n",
       "      <th>75%</th>\n",
       "      <td>75.000000</td>\n",
       "      <td>2.000000</td>\n",
       "      <td>65.980391</td>\n",
       "      <td>45.069982</td>\n",
       "      <td>9.000000</td>\n",
       "      <td>12.000000</td>\n",
       "      <td>17.000000</td>\n",
       "      <td>2.001000e+03</td>\n",
       "      <td>0.194489</td>\n",
       "      <td>36.000000</td>\n",
       "      <td>7287.000000</td>\n",
       "      <td>5.000000</td>\n",
       "      <td>1547.750000</td>\n",
       "      <td>2.000000</td>\n",
       "      <td>6.000000</td>\n",
       "      <td>249035.045145</td>\n",
       "    </tr>\n",
       "    <tr>\n",
       "      <th>max</th>\n",
       "      <td>209.000000</td>\n",
       "      <td>19.000000</td>\n",
       "      <td>604.705972</td>\n",
       "      <td>7480.592129</td>\n",
       "      <td>2014.000000</td>\n",
       "      <td>42.000000</td>\n",
       "      <td>117.000000</td>\n",
       "      <td>2.005201e+07</td>\n",
       "      <td>0.521867</td>\n",
       "      <td>74.000000</td>\n",
       "      <td>19083.000000</td>\n",
       "      <td>141.000000</td>\n",
       "      <td>4849.000000</td>\n",
       "      <td>6.000000</td>\n",
       "      <td>23.000000</td>\n",
       "      <td>627525.072788</td>\n",
       "    </tr>\n",
       "  </tbody>\n",
       "</table>\n",
       "</div>"
      ],
      "text/plain": [
       "        DistrictId        Rooms       Square   LifeSquare  KitchenSquare  \\\n",
       "count  7500.000000  7500.000000  7500.000000  5906.000000    7500.000000   \n",
       "mean     50.441733     1.887600    56.262165    37.438158       6.417333   \n",
       "std      43.700617     0.840234    20.337193    98.726068      32.870226   \n",
       "min       0.000000     0.000000     2.377248     0.370619       0.000000   \n",
       "25%      19.000000     1.000000    41.748189    22.838608       1.000000   \n",
       "50%      35.000000     2.000000    52.539538    32.837997       6.000000   \n",
       "75%      75.000000     2.000000    65.980391    45.069982       9.000000   \n",
       "max     209.000000    19.000000   604.705972  7480.592129    2014.000000   \n",
       "\n",
       "             Floor   HouseFloor     HouseYear    Ecology_1     Social_1  \\\n",
       "count  7500.000000  7500.000000  7.500000e+03  7500.000000  7500.000000   \n",
       "mean      8.502800    12.634400  4.658736e+03     0.117437    24.736133   \n",
       "std       5.236619     6.833644  2.315178e+05     0.118195    17.627507   \n",
       "min       1.000000     0.000000  1.912000e+03     0.000000     0.000000   \n",
       "25%       4.000000     9.000000  1.974000e+03     0.017647     6.000000   \n",
       "50%       7.000000    14.000000  1.977000e+03     0.072158    25.000000   \n",
       "75%      12.000000    17.000000  2.001000e+03     0.194489    36.000000   \n",
       "max      42.000000   117.000000  2.005201e+07     0.521867    74.000000   \n",
       "\n",
       "           Social_2     Social_3  Healthcare_1  Helthcare_2      Shops_1  \\\n",
       "count   7500.000000  7500.000000   3886.000000  7500.000000  7500.000000   \n",
       "mean    5361.467467     8.027733   1129.527535     1.309467     4.259200   \n",
       "std     4021.616228    23.825236   1015.975294     1.488576     4.819673   \n",
       "min      168.000000     0.000000      0.000000     0.000000     0.000000   \n",
       "25%     1564.000000     0.000000    325.000000     0.000000     1.000000   \n",
       "50%     5285.000000     2.000000    900.000000     1.000000     3.000000   \n",
       "75%     7287.000000     5.000000   1547.750000     2.000000     6.000000   \n",
       "max    19083.000000   141.000000   4849.000000     6.000000    23.000000   \n",
       "\n",
       "               Price  \n",
       "count    7500.000000  \n",
       "mean   214000.951964  \n",
       "std     92539.924814  \n",
       "min     59174.778028  \n",
       "25%    153980.839919  \n",
       "50%    192269.644879  \n",
       "75%    249035.045145  \n",
       "max    627525.072788  "
      ]
     },
     "execution_count": 7,
     "metadata": {},
     "output_type": "execute_result"
    }
   ],
   "source": [
    "data.describe()"
   ]
  },
  {
   "cell_type": "markdown",
   "metadata": {},
   "source": [
    "Давайте разберем датасет по пунктам"
   ]
  },
  {
   "cell_type": "markdown",
   "metadata": {},
   "source": [
    "#### Оценим признак `Rooms`"
   ]
  },
  {
   "cell_type": "code",
   "execution_count": 8,
   "metadata": {},
   "outputs": [
    {
     "data": {
      "text/plain": [
       "count    7500.000000\n",
       "mean        1.887600\n",
       "std         0.840234\n",
       "min         0.000000\n",
       "25%         1.000000\n",
       "50%         2.000000\n",
       "75%         2.000000\n",
       "max        19.000000\n",
       "Name: Rooms, dtype: float64"
      ]
     },
     "execution_count": 8,
     "metadata": {},
     "output_type": "execute_result"
    }
   ],
   "source": [
    "data['Rooms'].describe()"
   ]
  },
  {
   "cell_type": "code",
   "execution_count": 9,
   "metadata": {},
   "outputs": [
    {
     "data": {
      "text/plain": [
       "2.0     2918\n",
       "1.0     2785\n",
       "3.0     1667\n",
       "4.0      110\n",
       "5.0       12\n",
       "0.0        5\n",
       "19.0       1\n",
       "10.0       1\n",
       "6.0        1\n",
       "Name: Rooms, dtype: int64"
      ]
     },
     "execution_count": 9,
     "metadata": {},
     "output_type": "execute_result"
    }
   ],
   "source": [
    "data['Rooms'].value_counts()"
   ]
  },
  {
   "cell_type": "markdown",
   "metadata": {},
   "source": [
    "Заменим выбросы ( rooms == 0 ) и ( rooms > 5 ) на среднее значение по выборке"
   ]
  },
  {
   "cell_type": "code",
   "execution_count": 10,
   "metadata": {
    "scrolled": false
   },
   "outputs": [],
   "source": [
    "rooms_mean = data.Rooms.mean()\n",
    "\n",
    "def fill_rooms_with_mean(data):\n",
    "    data[data.Rooms > 5]['Rooms'] = rooms_mean\n",
    "    data[data.Rooms < 1]['Rooms'] = rooms_mean\n",
    "    return data\n",
    "    \n",
    "\n",
    "rooms_cut = fill_rooms_with_mean(data)"
   ]
  },
  {
   "cell_type": "code",
   "execution_count": 11,
   "metadata": {},
   "outputs": [
    {
     "data": {
      "text/plain": [
       "<matplotlib.axes._subplots.AxesSubplot at 0x1a1f20d630>"
      ]
     },
     "execution_count": 11,
     "metadata": {},
     "output_type": "execute_result"
    },
    {
     "data": {
      "image/png": "[encoded data removed]",
      "text/plain": [
       "<Figure size 432x288 with 1 Axes>"
      ]
     },
     "metadata": {
      "needs_background": "light"
     },
     "output_type": "display_data"
    }
   ],
   "source": [
    "rooms_cut.Rooms.hist(bins=5)"
   ]
  },
  {
   "cell_type": "markdown",
   "metadata": {},
   "source": [
    "#### Оценим признак `Square`"
   ]
  },
  {
   "cell_type": "code",
   "execution_count": 12,
   "metadata": {},
   "outputs": [
    {
     "data": {
      "text/plain": [
       "count    7500.000000\n",
       "mean       56.262165\n",
       "std        20.337193\n",
       "min         2.377248\n",
       "25%        41.748189\n",
       "50%        52.539538\n",
       "75%        65.980391\n",
       "max       604.705972\n",
       "Name: Square, dtype: float64"
      ]
     },
     "execution_count": 12,
     "metadata": {},
     "output_type": "execute_result"
    }
   ],
   "source": [
    "data['Square'].describe()"
   ]
  },
  {
   "cell_type": "markdown",
   "metadata": {},
   "source": [
    "Давайте выкинем записи в которых признак Square < 10"
   ]
  },
  {
   "cell_type": "code",
   "execution_count": 13,
   "metadata": {},
   "outputs": [],
   "source": [
    "def drop_bad_square(ds):\n",
    "    bad_square = data[data.Square < 10]\n",
    "    if bad_square.shape[0] > 0:\n",
    "        ds.drop(bad_square.index, inplace=True)       \n",
    "    return ds"
   ]
  },
  {
   "cell_type": "code",
   "execution_count": 14,
   "metadata": {},
   "outputs": [],
   "source": [
    "# data = drop_bad_square(data)"
   ]
  },
  {
   "cell_type": "markdown",
   "metadata": {},
   "source": [
    "#### Оценим признак `HouseYear`"
   ]
  },
  {
   "cell_type": "code",
   "execution_count": 15,
   "metadata": {},
   "outputs": [
    {
     "data": {
      "text/plain": [
       "count    7.500000e+03\n",
       "mean     4.658736e+03\n",
       "std      2.315178e+05\n",
       "min      1.912000e+03\n",
       "25%      1.974000e+03\n",
       "50%      1.977000e+03\n",
       "75%      2.001000e+03\n",
       "max      2.005201e+07\n",
       "Name: HouseYear, dtype: float64"
      ]
     },
     "execution_count": 15,
     "metadata": {},
     "output_type": "execute_result"
    }
   ],
   "source": [
    "data.HouseYear.describe()"
   ]
  },
  {
   "cell_type": "code",
   "execution_count": 16,
   "metadata": {},
   "outputs": [
    {
     "data": {
      "text/plain": [
       "Id\n",
       "6731         2020\n",
       "6845         2020\n",
       "9303         2020\n",
       "11607        4968\n",
       "10814    20052011\n",
       "Name: HouseYear, dtype: int64"
      ]
     },
     "execution_count": 16,
     "metadata": {},
     "output_type": "execute_result"
    }
   ],
   "source": [
    "data['HouseYear'].sort_values().tail(5)"
   ]
  },
  {
   "cell_type": "markdown",
   "metadata": {},
   "source": [
    "Видим явно выпадающие значения [4968, 20052011]\n",
    "\n",
    "Заменим 4968 на 1968, 20052011 на 2008"
   ]
  },
  {
   "cell_type": "code",
   "execution_count": 17,
   "metadata": {},
   "outputs": [],
   "source": [
    "data.loc[data.HouseYear == 4968, 'HouseYear'] = 1968\n",
    "data.loc[data.HouseYear == 20052011, 'HouseYear'] = 2008"
   ]
  },
  {
   "cell_type": "markdown",
   "metadata": {},
   "source": [
    "Ради интереса, построим гистограмму"
   ]
  },
  {
   "cell_type": "code",
   "execution_count": 18,
   "metadata": {},
   "outputs": [
    {
     "data": {
      "image/png": "[encoded data removed]",
      "text/plain": [
       "<Figure size 432x288 with 1 Axes>"
      ]
     },
     "metadata": {
      "needs_background": "light"
     },
     "output_type": "display_data"
    }
   ],
   "source": [
    "data['HouseYear'].hist(bins=20);"
   ]
  },
  {
   "cell_type": "markdown",
   "metadata": {},
   "source": [
    "Примечательно - большинство квартир в домах построенных на рубеже конца 1970х - начала 1980х"
   ]
  },
  {
   "cell_type": "markdown",
   "metadata": {},
   "source": [
    "#### Оценим признак `LifeSquare`\n",
    "Найдем те записи, где `LifeSquare` > `Square`"
   ]
  },
  {
   "cell_type": "code",
   "execution_count": 19,
   "metadata": {},
   "outputs": [
    {
     "data": {
      "text/plain": [
       "366"
      ]
     },
     "execution_count": 19,
     "metadata": {},
     "output_type": "execute_result"
    }
   ],
   "source": [
    "data[data.LifeSquare > data.Square].shape[0]"
   ]
  },
  {
   "cell_type": "markdown",
   "metadata": {},
   "source": [
    "Выходит, что для 4% записей жилая площадь больше общей площади, что некорректно. Давайте оценим зависимость площадей."
   ]
  },
  {
   "cell_type": "code",
   "execution_count": 20,
   "metadata": {},
   "outputs": [
    {
     "data": {
      "text/plain": [
       "(10, 250)"
      ]
     },
     "execution_count": 20,
     "metadata": {},
     "output_type": "execute_result"
    },
    {
     "data": {
      "image/png": "[encoded data removed]",
      "text/plain": [
       "<Figure size 432x288 with 1 Axes>"
      ]
     },
     "metadata": {
      "needs_background": "light"
     },
     "output_type": "display_data"
    }
   ],
   "source": [
    "plt.plot(\n",
    "    data['Square'],\n",
    "    data['LifeSquare'],\n",
    "    'ro'\n",
    ")\n",
    "plt.xlabel('Square')\n",
    "plt.ylabel('LifeSquare')\n",
    "plt.ylim(10,150)\n",
    "plt.xlim(10,250)"
   ]
  },
  {
   "cell_type": "markdown",
   "metadata": {},
   "source": [
    "Видно, что зависимость линейна. Давайте попробуем представить это как линейную функцию"
   ]
  },
  {
   "cell_type": "code",
   "execution_count": 21,
   "metadata": {},
   "outputs": [],
   "source": [
    "def get_linargs(x,y):\n",
    "    b1 = (np.mean(x * y) - np.mean(x) * np.mean(y)) / (np.mean(x ** 2) - np.mean(x) ** 2)\n",
    "    b0 = np.mean(y) - b1 * np.mean(x)\n",
    "    return b1, b0"
   ]
  },
  {
   "cell_type": "code",
   "execution_count": 22,
   "metadata": {},
   "outputs": [
    {
     "data": {
      "text/plain": [
       "(10, 250)"
      ]
     },
     "execution_count": 22,
     "metadata": {},
     "output_type": "execute_result"
    },
    {
     "data": {
      "image/png": "[encoded data removed]",
      "text/plain": [
       "<Figure size 432x288 with 1 Axes>"
      ]
     },
     "metadata": {
      "needs_background": "light"
     },
     "output_type": "display_data"
    }
   ],
   "source": [
    "b1, b0 = get_linargs(data['Square'], data['LifeSquare'])\n",
    "\n",
    "x = np.arange(10,200, 1)\n",
    "\n",
    "plt.plot(\n",
    "    data['Square'],\n",
    "    data['LifeSquare'],\n",
    "    'ro'\n",
    ")\n",
    "plt.plot(x, b1*x + b0)\n",
    "plt.xlabel('Square')\n",
    "plt.ylabel('LifeSquare')\n",
    "plt.ylim(10,150)\n",
    "plt.xlim(10,250)"
   ]
  },
  {
   "cell_type": "markdown",
   "metadata": {},
   "source": [
    "Вполне линейная зависимость. Давайте заполним ей пустые значения."
   ]
  },
  {
   "cell_type": "code",
   "execution_count": 23,
   "metadata": {},
   "outputs": [],
   "source": [
    "def fill_na_life_square(data):\n",
    "    lifeSquare_predicted = data['Square'] * b1 + b0\n",
    "    data['LifeSquare'].fillna(lifeSquare_predicted, inplace=True)\n",
    "    return data"
   ]
  },
  {
   "cell_type": "code",
   "execution_count": 24,
   "metadata": {},
   "outputs": [],
   "source": [
    "data = fill_na_life_square(data)"
   ]
  },
  {
   "cell_type": "markdown",
   "metadata": {},
   "source": [
    "#### Оценим признак `DistrictId`\n",
    "Начнем с гистограммы"
   ]
  },
  {
   "cell_type": "code",
   "execution_count": 25,
   "metadata": {
    "scrolled": true
   },
   "outputs": [
    {
     "data": {
      "image/png": "[encoded data removed]",
      "text/plain": [
       "<Figure size 432x288 with 1 Axes>"
      ]
     },
     "metadata": {
      "needs_background": "light"
     },
     "output_type": "display_data"
    }
   ],
   "source": [
    "plt.hist(\n",
    "    data['DistrictId'],\n",
    "    bins=data['DistrictId'].nunique()\n",
    ");"
   ]
  },
  {
   "cell_type": "markdown",
   "metadata": {},
   "source": [
    "Это ничего не дало. Попробуем взять среднюю цену за квадратный метр по району"
   ]
  },
  {
   "cell_type": "code",
   "execution_count": 26,
   "metadata": {},
   "outputs": [],
   "source": [
    "data['price_per_square'] = data.Price / data.Square\n",
    "price_per_square_by_District = data.groupby(\n",
    "    ['DistrictId']\n",
    ")['price_per_square'].mean().reset_index().rename(\n",
    "    columns={'price_per_square': 'District_square_price'})"
   ]
  },
  {
   "cell_type": "markdown",
   "metadata": {},
   "source": [
    "Добавим признак `District_square_price` к датасету"
   ]
  },
  {
   "cell_type": "code",
   "execution_count": 27,
   "metadata": {},
   "outputs": [],
   "source": [
    "def add_distr_sq_price(df):\n",
    "    dqp_mean = price_per_square_by_District['District_square_price'].mean()\n",
    "    df.reset_index(inplace=True)\n",
    "    df = pd.merge(df,price_per_square_by_District,on='DistrictId',how='left')\n",
    "    df['District_square_price'] = df['District_square_price'].fillna(dqp_mean)\n",
    "    \n",
    "    if 'price_per_square' in df.keys():\n",
    "        df.drop(['price_per_square'], axis=1, inplace=True)\n",
    "\n",
    "    return df.drop(['DistrictId'], axis=1).set_index('Id')"
   ]
  },
  {
   "cell_type": "code",
   "execution_count": 28,
   "metadata": {},
   "outputs": [],
   "source": [
    "# data = add_distr_sq_price(data)"
   ]
  },
  {
   "cell_type": "markdown",
   "metadata": {},
   "source": [
    "#### Оценим признаки `Floor` `HouseFloor`\n",
    "Очистим выпадающие записи"
   ]
  },
  {
   "cell_type": "code",
   "execution_count": 29,
   "metadata": {},
   "outputs": [
    {
     "data": {
      "text/plain": [
       "17.0     1749\n",
       "9.0      1044\n",
       "12.0      797\n",
       "5.0       764\n",
       "14.0      476\n",
       "16.0      423\n",
       "1.0       388\n",
       "25.0      287\n",
       "22.0      257\n",
       "0.0       195\n",
       "24.0      127\n",
       "8.0       110\n",
       "10.0      109\n",
       "15.0       95\n",
       "4.0        95\n",
       "3.0        92\n",
       "19.0       90\n",
       "20.0       84\n",
       "18.0       65\n",
       "6.0        43\n",
       "7.0        36\n",
       "2.0        36\n",
       "23.0       27\n",
       "21.0       25\n",
       "11.0       22\n",
       "13.0       18\n",
       "30.0       18\n",
       "27.0        5\n",
       "40.0        5\n",
       "32.0        4\n",
       "37.0        2\n",
       "99.0        2\n",
       "39.0        2\n",
       "31.0        1\n",
       "29.0        1\n",
       "44.0        1\n",
       "47.0        1\n",
       "36.0        1\n",
       "48.0        1\n",
       "117.0       1\n",
       "28.0        1\n",
       "Name: HouseFloor, dtype: int64"
      ]
     },
     "execution_count": 29,
     "metadata": {},
     "output_type": "execute_result"
    }
   ],
   "source": [
    "floor_data = data[['Floor','HouseFloor']]\n",
    "floor_data['HouseFloor'].value_counts()"
   ]
  },
  {
   "cell_type": "markdown",
   "metadata": {},
   "source": [
    "Давайте посмотрим на дома выше 30 этажей"
   ]
  },
  {
   "cell_type": "code",
   "execution_count": 30,
   "metadata": {},
   "outputs": [],
   "source": [
    "def create_first_last_floor_columns(data):\n",
    "    data['is_first_floor'] = (data.Floor == 1).astype(int)\n",
    "    data['is_last_floor'] = (data.Floor >= data.HouseFloor).astype(int)\n",
    "    return data"
   ]
  },
  {
   "cell_type": "code",
   "execution_count": 31,
   "metadata": {},
   "outputs": [],
   "source": [
    "# data = create_first_last_floor_columns(data)"
   ]
  },
  {
   "cell_type": "markdown",
   "metadata": {},
   "source": [
    "#### KitchenSquare\n",
    "25% данных о размерах кухни составляют 1, что не похоже на правду. \n",
    "Если это так, то данным признаком следует пренебречь, так как он крайне неточен\n",
    "\n",
    "Для начала, построим гистограмму распределения квартир по площадям кухни"
   ]
  },
  {
   "cell_type": "code",
   "execution_count": 32,
   "metadata": {},
   "outputs": [
    {
     "data": {
      "text/plain": [
       "count    7500.000000\n",
       "mean        6.417333\n",
       "std        32.870226\n",
       "min         0.000000\n",
       "25%         1.000000\n",
       "50%         6.000000\n",
       "75%         9.000000\n",
       "max      2014.000000\n",
       "Name: KitchenSquare, dtype: float64"
      ]
     },
     "execution_count": 32,
     "metadata": {},
     "output_type": "execute_result"
    }
   ],
   "source": [
    "data.KitchenSquare.describe()"
   ]
  },
  {
   "cell_type": "code",
   "execution_count": 33,
   "metadata": {},
   "outputs": [],
   "source": [
    "data.loc[data.KitchenSquare == 2014, 'KitchenSquare'] = 1"
   ]
  },
  {
   "cell_type": "code",
   "execution_count": 34,
   "metadata": {},
   "outputs": [
    {
     "data": {
      "image/png": "[encoded data removed]",
      "text/plain": [
       "<Figure size 432x288 with 1 Axes>"
      ]
     },
     "metadata": {
      "needs_background": "light"
     },
     "output_type": "display_data"
    }
   ],
   "source": [
    "plt.hist(\n",
    "    data['KitchenSquare'].loc[data.KitchenSquare < 25], \n",
    "    bins=25\n",
    ")\n",
    "\n",
    "plt.xlabel('Площадь кухни')\n",
    "plt.ylabel('Количество квартир')\n",
    "plt.show();"
   ]
  },
  {
   "cell_type": "markdown",
   "metadata": {},
   "source": [
    "Давайте вычислим среднюю площадь квартиры, имеющую кухню площадью 1, а также общий процент таких квартир среди всей выборки"
   ]
  },
  {
   "cell_type": "code",
   "execution_count": 35,
   "metadata": {},
   "outputs": [],
   "source": [
    "square_with_tiny_kitchen = data.loc[data.KitchenSquare <= 1]['Square'].loc[data.Square < 100]"
   ]
  },
  {
   "cell_type": "code",
   "execution_count": 36,
   "metadata": {},
   "outputs": [
    {
     "data": {
      "text/plain": [
       "(57.89329212823305, 0.30706666666666665)"
      ]
     },
     "execution_count": 36,
     "metadata": {},
     "output_type": "execute_result"
    }
   ],
   "source": [
    "square_with_tiny_kitchen.mean(), square_with_tiny_kitchen.count() / data['Square'].count()"
   ]
  },
  {
   "cell_type": "markdown",
   "metadata": {},
   "source": [
    "_Я пробовал корректировать этот признак, искать закономерности, даже строить регрессиннные модели, но получал r2 близкий к нулю.\n",
    "Так что оставим признак как есть._"
   ]
  },
  {
   "cell_type": "markdown",
   "metadata": {},
   "source": [
    "#### Healthcare_1\n",
    "48% записей не имеют значения в признаке  `Healthcare_1`. \n",
    "Давайте развернем датасет - возьмем `Healthcare_1` в качестве целевого признака и построим модель для вычисления пустых значений"
   ]
  },
  {
   "cell_type": "code",
   "execution_count": 37,
   "metadata": {},
   "outputs": [],
   "source": [
    "# hc_ds = pd.get_dummies(data).drop(['Price'], axis=1)\n",
    "# health1_train = hc_ds[data.Healthcare_1.notnull()]\n",
    "# health1_test = hc_ds[data.Healthcare_1.isna()].drop(['Healthcare_1'], axis=1)"
   ]
  },
  {
   "cell_type": "code",
   "execution_count": 38,
   "metadata": {},
   "outputs": [],
   "source": [
    "# # Разобьем датасет\n",
    "# X_train, X_test, y_train, y_test = train_test_split(\n",
    "#     health1_train.drop(['Healthcare_1'], axis=1), \n",
    "#     health1_train['Healthcare_1'], \n",
    "#     test_size=0.33, random_state=42)\n",
    "\n",
    "# # Используем GridSearchCV для нахождения оптимального дерева решений\n",
    "# decision_tree = GridSearchCV(estimator=DecisionTreeRegressor(random_state=42),\n",
    "#                    param_grid=[{'max_depth': np.arange(2,40)}],\n",
    "#                    scoring='r2',\n",
    "#                    n_jobs=-1,\n",
    "#                    cv=5)\n",
    "\n",
    "# decision_tree.fit(X_train, y_train);\n",
    "# y_pred = decision_tree.predict(X_test)\n",
    "# test_r2 = r2_score(y_test, y_pred)\n",
    "\n",
    "# print(f'Оптимальная глубина дерева: {decision_tree.best_params_[\"max_depth\"]}')\n",
    "# print(f'train r2: {decision_tree.best_score_:.4f}')\n",
    "# print(f'test  r2: {test_r2:.4f}')\n",
    "          "
   ]
  },
  {
   "cell_type": "code",
   "execution_count": 39,
   "metadata": {},
   "outputs": [],
   "source": [
    "# health1_test['Healthcare_1'] = decision_tree.predict(health1_test)"
   ]
  },
  {
   "cell_type": "code",
   "execution_count": 40,
   "metadata": {},
   "outputs": [],
   "source": [
    "# data.update(health1_test)"
   ]
  },
  {
   "cell_type": "markdown",
   "metadata": {},
   "source": [
    "_В итоге, я словил переобучение и отказалсся от этой идеи_"
   ]
  },
  {
   "cell_type": "markdown",
   "metadata": {},
   "source": [
    "### Модификация датасетов\n",
    "Напишем функцию которая чистит датасет, добавляет признаки"
   ]
  },
  {
   "cell_type": "code",
   "execution_count": 41,
   "metadata": {},
   "outputs": [],
   "source": [
    "def prepare_dataset(ds, is_train=False):\n",
    "    \"\"\"Готовит датает, очищая, добавляя признаки\"\"\"\n",
    "\n",
    "    # почистить Rooms\n",
    "    fill_rooms_with_mean(ds)\n",
    "    \n",
    "    # ! Выкинуть Square Только в тестовом\n",
    "    if is_train:\n",
    "        ds = drop_bad_square(ds)\n",
    "        \n",
    "    # почистить HouseYear\n",
    "    # По датасетам\n",
    "   \n",
    "    \n",
    "    # нормализовать LifeSquare\n",
    "    ds = fill_na_life_square(ds)\n",
    "        \n",
    "    # Заменить DistrictId на District_square_price\n",
    "    ds = add_distr_sq_price(ds)\n",
    "\n",
    "    # добавить признаки is_first_floor is_last_floor\n",
    "    ds = create_first_last_floor_columns(ds)\n",
    "    \n",
    "    \n",
    "    \n",
    "    # убрать HealthSquare\n",
    "    ds.drop(['Healthcare_1'], axis=1, inplace=True)\n",
    "    \n",
    "    # get_dummies\n",
    "    ds = pd.get_dummies(ds)\n",
    "    \n",
    "    if 'Price' in ds.keys():\n",
    "        y = ds['Price']\n",
    "        ds.drop(['Price'], axis=1, inplace=True)\n",
    "        return ds, y\n",
    "    else:\n",
    "        return ds"
   ]
  },
  {
   "cell_type": "code",
   "execution_count": 42,
   "metadata": {},
   "outputs": [],
   "source": [
    "# ds = data\n",
    "\n",
    "# ds = drop_bad_square(ds)\n",
    "\n",
    "# ds = fill_na_life_square(ds)\n",
    "\n",
    "# ds = add_distr_sq_price(ds)\n",
    "\n",
    "# ds = create_first_last_floor_columns(ds)\n",
    "\n",
    "# ds.drop(['Healthcare_1'], axis=1, inplace=True)\n",
    "\n",
    "# ds = pd.get_dummies(ds)\n",
    "\n",
    "# 'index' in ds.keys()"
   ]
  },
  {
   "cell_type": "markdown",
   "metadata": {},
   "source": [
    "### Обучение моделей и их применение"
   ]
  },
  {
   "cell_type": "markdown",
   "metadata": {},
   "source": [
    "#### Разбиение на тренировочные и тестовые"
   ]
  },
  {
   "cell_type": "code",
   "execution_count": 43,
   "metadata": {},
   "outputs": [
    {
     "name": "stdout",
     "output_type": "stream",
     "text": [
      "<class 'pandas.core.frame.DataFrame'>\n",
      "Int64Index: 7500 entries, 13295 to 2135\n",
      "Data columns (total 20 columns):\n",
      "DistrictId          7500 non-null int64\n",
      "Rooms               7500 non-null float64\n",
      "Square              7500 non-null float64\n",
      "LifeSquare          7500 non-null float64\n",
      "KitchenSquare       7500 non-null float64\n",
      "Floor               7500 non-null int64\n",
      "HouseFloor          7500 non-null float64\n",
      "HouseYear           7500 non-null int64\n",
      "Ecology_1           7500 non-null float64\n",
      "Ecology_2           7500 non-null object\n",
      "Ecology_3           7500 non-null object\n",
      "Social_1            7500 non-null int64\n",
      "Social_2            7500 non-null int64\n",
      "Social_3            7500 non-null int64\n",
      "Healthcare_1        3886 non-null float64\n",
      "Helthcare_2         7500 non-null int64\n",
      "Shops_1             7500 non-null int64\n",
      "Shops_2             7500 non-null object\n",
      "Price               7500 non-null float64\n",
      "price_per_square    7500 non-null float64\n",
      "dtypes: float64(9), int64(8), object(3)\n",
      "memory usage: 1.5+ MB\n"
     ]
    }
   ],
   "source": [
    "data.info()"
   ]
  },
  {
   "cell_type": "code",
   "execution_count": 44,
   "metadata": {},
   "outputs": [],
   "source": [
    "X_train, y_train = prepare_dataset(data, is_train=True)\n",
    "X_test, y_test = prepare_dataset(valid, is_train=False)"
   ]
  },
  {
   "cell_type": "code",
   "execution_count": 45,
   "metadata": {},
   "outputs": [
    {
     "data": {
      "text/html": [
       "<div>\n",
       "<style scoped>\n",
       "    .dataframe tbody tr th:only-of-type {\n",
       "        vertical-align: middle;\n",
       "    }\n",
       "\n",
       "    .dataframe tbody tr th {\n",
       "        vertical-align: top;\n",
       "    }\n",
       "\n",
       "    .dataframe thead th {\n",
       "        text-align: right;\n",
       "    }\n",
       "</style>\n",
       "<table border=\"1\" class=\"dataframe\">\n",
       "  <thead>\n",
       "    <tr style=\"text-align: right;\">\n",
       "      <th></th>\n",
       "      <th>Rooms</th>\n",
       "      <th>Square</th>\n",
       "      <th>LifeSquare</th>\n",
       "      <th>KitchenSquare</th>\n",
       "      <th>Floor</th>\n",
       "      <th>HouseFloor</th>\n",
       "      <th>HouseYear</th>\n",
       "      <th>Ecology_1</th>\n",
       "      <th>Social_1</th>\n",
       "      <th>Social_2</th>\n",
       "      <th>...</th>\n",
       "      <th>Shops_1</th>\n",
       "      <th>District_square_price</th>\n",
       "      <th>is_first_floor</th>\n",
       "      <th>is_last_floor</th>\n",
       "      <th>Ecology_2_A</th>\n",
       "      <th>Ecology_2_B</th>\n",
       "      <th>Ecology_3_A</th>\n",
       "      <th>Ecology_3_B</th>\n",
       "      <th>Shops_2_A</th>\n",
       "      <th>Shops_2_B</th>\n",
       "    </tr>\n",
       "    <tr>\n",
       "      <th>Id</th>\n",
       "      <th></th>\n",
       "      <th></th>\n",
       "      <th></th>\n",
       "      <th></th>\n",
       "      <th></th>\n",
       "      <th></th>\n",
       "      <th></th>\n",
       "      <th></th>\n",
       "      <th></th>\n",
       "      <th></th>\n",
       "      <th></th>\n",
       "      <th></th>\n",
       "      <th></th>\n",
       "      <th></th>\n",
       "      <th></th>\n",
       "      <th></th>\n",
       "      <th></th>\n",
       "      <th></th>\n",
       "      <th></th>\n",
       "      <th></th>\n",
       "      <th></th>\n",
       "    </tr>\n",
       "  </thead>\n",
       "  <tbody>\n",
       "    <tr>\n",
       "      <th>2135</th>\n",
       "      <td>2.0</td>\n",
       "      <td>88.364677</td>\n",
       "      <td>42.822492</td>\n",
       "      <td>11.0</td>\n",
       "      <td>12</td>\n",
       "      <td>16.0</td>\n",
       "      <td>1993</td>\n",
       "      <td>0.035145</td>\n",
       "      <td>42</td>\n",
       "      <td>9292</td>\n",
       "      <td>...</td>\n",
       "      <td>3</td>\n",
       "      <td>4637.013661</td>\n",
       "      <td>0</td>\n",
       "      <td>0</td>\n",
       "      <td>0</td>\n",
       "      <td>1</td>\n",
       "      <td>0</td>\n",
       "      <td>1</td>\n",
       "      <td>0</td>\n",
       "      <td>1</td>\n",
       "    </tr>\n",
       "  </tbody>\n",
       "</table>\n",
       "<p>1 rows × 22 columns</p>\n",
       "</div>"
      ],
      "text/plain": [
       "      Rooms     Square  LifeSquare  KitchenSquare  Floor  HouseFloor  \\\n",
       "Id                                                                     \n",
       "2135    2.0  88.364677   42.822492           11.0     12        16.0   \n",
       "\n",
       "      HouseYear  Ecology_1  Social_1  Social_2    ...      Shops_1  \\\n",
       "Id                                                ...                \n",
       "2135       1993   0.035145        42      9292    ...            3   \n",
       "\n",
       "      District_square_price  is_first_floor  is_last_floor  Ecology_2_A  \\\n",
       "Id                                                                        \n",
       "2135            4637.013661               0              0            0   \n",
       "\n",
       "      Ecology_2_B  Ecology_3_A  Ecology_3_B  Shops_2_A  Shops_2_B  \n",
       "Id                                                                 \n",
       "2135            1            0            1          0          1  \n",
       "\n",
       "[1 rows x 22 columns]"
      ]
     },
     "execution_count": 45,
     "metadata": {},
     "output_type": "execute_result"
    }
   ],
   "source": [
    "X_train.tail(1)"
   ]
  },
  {
   "cell_type": "code",
   "execution_count": 46,
   "metadata": {},
   "outputs": [],
   "source": [
    "for i in X_train.keys():\n",
    "    if i not in X_test.keys():\n",
    "        print(i)"
   ]
  },
  {
   "cell_type": "code",
   "execution_count": 47,
   "metadata": {},
   "outputs": [],
   "source": [
    "# X_train, X_test, y_train, y_test = split_data(ds, 'Price')"
   ]
  },
  {
   "cell_type": "markdown",
   "metadata": {},
   "source": [
    "Стандартизируем значения:"
   ]
  },
  {
   "cell_type": "code",
   "execution_count": 48,
   "metadata": {},
   "outputs": [],
   "source": [
    "from sklearn.preprocessing import StandardScaler\n",
    "scaler = StandardScaler()\n",
    "\n",
    "X_train_scaled = pd.DataFrame(\n",
    "    scaler.fit_transform(X_train),\n",
    "    columns=X_train.keys())\n",
    "X_test_scaled = pd.DataFrame(\n",
    "    scaler.fit_transform(X_test),\n",
    "    columns=X_test.keys())"
   ]
  },
  {
   "cell_type": "markdown",
   "metadata": {},
   "source": [
    "#### Линейная регрессия\n",
    "Обучим модель линейной регрессии"
   ]
  },
  {
   "cell_type": "code",
   "execution_count": 49,
   "metadata": {},
   "outputs": [
    {
     "data": {
      "text/plain": [
       "0.5661174517776062"
      ]
     },
     "execution_count": 49,
     "metadata": {},
     "output_type": "execute_result"
    }
   ],
   "source": [
    "from sklearn.linear_model import LinearRegression\n",
    "lr = LinearRegression()\n",
    "get_model_r2(X_train_scaled, y_train, X_test_scaled, y_test, lr)"
   ]
  },
  {
   "cell_type": "code",
   "execution_count": 50,
   "metadata": {},
   "outputs": [
    {
     "data": {
      "text/html": [
       "<div>\n",
       "<style scoped>\n",
       "    .dataframe tbody tr th:only-of-type {\n",
       "        vertical-align: middle;\n",
       "    }\n",
       "\n",
       "    .dataframe tbody tr th {\n",
       "        vertical-align: top;\n",
       "    }\n",
       "\n",
       "    .dataframe thead th {\n",
       "        text-align: right;\n",
       "    }\n",
       "</style>\n",
       "<table border=\"1\" class=\"dataframe\">\n",
       "  <thead>\n",
       "    <tr style=\"text-align: right;\">\n",
       "      <th></th>\n",
       "      <th>Rooms</th>\n",
       "      <th>Square</th>\n",
       "      <th>LifeSquare</th>\n",
       "      <th>KitchenSquare</th>\n",
       "      <th>Floor</th>\n",
       "      <th>HouseFloor</th>\n",
       "      <th>HouseYear</th>\n",
       "      <th>Ecology_1</th>\n",
       "      <th>Social_1</th>\n",
       "      <th>Social_2</th>\n",
       "      <th>...</th>\n",
       "      <th>Shops_1</th>\n",
       "      <th>District_square_price</th>\n",
       "      <th>is_first_floor</th>\n",
       "      <th>is_last_floor</th>\n",
       "      <th>Ecology_2_A</th>\n",
       "      <th>Ecology_2_B</th>\n",
       "      <th>Ecology_3_A</th>\n",
       "      <th>Ecology_3_B</th>\n",
       "      <th>Shops_2_A</th>\n",
       "      <th>Shops_2_B</th>\n",
       "    </tr>\n",
       "    <tr>\n",
       "      <th>Id</th>\n",
       "      <th></th>\n",
       "      <th></th>\n",
       "      <th></th>\n",
       "      <th></th>\n",
       "      <th></th>\n",
       "      <th></th>\n",
       "      <th></th>\n",
       "      <th></th>\n",
       "      <th></th>\n",
       "      <th></th>\n",
       "      <th></th>\n",
       "      <th></th>\n",
       "      <th></th>\n",
       "      <th></th>\n",
       "      <th></th>\n",
       "      <th></th>\n",
       "      <th></th>\n",
       "      <th></th>\n",
       "      <th></th>\n",
       "      <th></th>\n",
       "      <th></th>\n",
       "    </tr>\n",
       "  </thead>\n",
       "  <tbody>\n",
       "    <tr>\n",
       "      <th>13295</th>\n",
       "      <td>1.0</td>\n",
       "      <td>39.248800</td>\n",
       "      <td>26.408302</td>\n",
       "      <td>0.0</td>\n",
       "      <td>9</td>\n",
       "      <td>17.0</td>\n",
       "      <td>1977</td>\n",
       "      <td>0.007122</td>\n",
       "      <td>1</td>\n",
       "      <td>264</td>\n",
       "      <td>...</td>\n",
       "      <td>1</td>\n",
       "      <td>3292.616591</td>\n",
       "      <td>0</td>\n",
       "      <td>0</td>\n",
       "      <td>0</td>\n",
       "      <td>1</td>\n",
       "      <td>0</td>\n",
       "      <td>1</td>\n",
       "      <td>0</td>\n",
       "      <td>1</td>\n",
       "    </tr>\n",
       "    <tr>\n",
       "      <th>3756</th>\n",
       "      <td>2.0</td>\n",
       "      <td>56.053580</td>\n",
       "      <td>33.929772</td>\n",
       "      <td>8.0</td>\n",
       "      <td>8</td>\n",
       "      <td>12.0</td>\n",
       "      <td>1986</td>\n",
       "      <td>0.300323</td>\n",
       "      <td>52</td>\n",
       "      <td>10311</td>\n",
       "      <td>...</td>\n",
       "      <td>9</td>\n",
       "      <td>4442.352118</td>\n",
       "      <td>0</td>\n",
       "      <td>0</td>\n",
       "      <td>0</td>\n",
       "      <td>1</td>\n",
       "      <td>0</td>\n",
       "      <td>1</td>\n",
       "      <td>0</td>\n",
       "      <td>1</td>\n",
       "    </tr>\n",
       "    <tr>\n",
       "      <th>15429</th>\n",
       "      <td>1.0</td>\n",
       "      <td>41.009788</td>\n",
       "      <td>23.960289</td>\n",
       "      <td>8.0</td>\n",
       "      <td>3</td>\n",
       "      <td>14.0</td>\n",
       "      <td>1997</td>\n",
       "      <td>0.090799</td>\n",
       "      <td>74</td>\n",
       "      <td>19083</td>\n",
       "      <td>...</td>\n",
       "      <td>15</td>\n",
       "      <td>4146.961126</td>\n",
       "      <td>0</td>\n",
       "      <td>0</td>\n",
       "      <td>0</td>\n",
       "      <td>1</td>\n",
       "      <td>0</td>\n",
       "      <td>1</td>\n",
       "      <td>0</td>\n",
       "      <td>1</td>\n",
       "    </tr>\n",
       "    <tr>\n",
       "      <th>7238</th>\n",
       "      <td>2.0</td>\n",
       "      <td>63.640480</td>\n",
       "      <td>58.149243</td>\n",
       "      <td>1.0</td>\n",
       "      <td>3</td>\n",
       "      <td>1.0</td>\n",
       "      <td>1977</td>\n",
       "      <td>0.161532</td>\n",
       "      <td>25</td>\n",
       "      <td>5648</td>\n",
       "      <td>...</td>\n",
       "      <td>4</td>\n",
       "      <td>3276.010175</td>\n",
       "      <td>0</td>\n",
       "      <td>1</td>\n",
       "      <td>0</td>\n",
       "      <td>1</td>\n",
       "      <td>0</td>\n",
       "      <td>1</td>\n",
       "      <td>0</td>\n",
       "      <td>1</td>\n",
       "    </tr>\n",
       "    <tr>\n",
       "      <th>13604</th>\n",
       "      <td>1.0</td>\n",
       "      <td>49.327912</td>\n",
       "      <td>20.992250</td>\n",
       "      <td>12.0</td>\n",
       "      <td>15</td>\n",
       "      <td>23.0</td>\n",
       "      <td>2008</td>\n",
       "      <td>0.246032</td>\n",
       "      <td>22</td>\n",
       "      <td>3151</td>\n",
       "      <td>...</td>\n",
       "      <td>3</td>\n",
       "      <td>4488.447400</td>\n",
       "      <td>0</td>\n",
       "      <td>0</td>\n",
       "      <td>0</td>\n",
       "      <td>1</td>\n",
       "      <td>1</td>\n",
       "      <td>0</td>\n",
       "      <td>0</td>\n",
       "      <td>1</td>\n",
       "    </tr>\n",
       "  </tbody>\n",
       "</table>\n",
       "<p>5 rows × 22 columns</p>\n",
       "</div>"
      ],
      "text/plain": [
       "       Rooms     Square  LifeSquare  KitchenSquare  Floor  HouseFloor  \\\n",
       "Id                                                                      \n",
       "13295    1.0  39.248800   26.408302            0.0      9        17.0   \n",
       "3756     2.0  56.053580   33.929772            8.0      8        12.0   \n",
       "15429    1.0  41.009788   23.960289            8.0      3        14.0   \n",
       "7238     2.0  63.640480   58.149243            1.0      3         1.0   \n",
       "13604    1.0  49.327912   20.992250           12.0     15        23.0   \n",
       "\n",
       "       HouseYear  Ecology_1  Social_1  Social_2    ...      Shops_1  \\\n",
       "Id                                                 ...                \n",
       "13295       1977   0.007122         1       264    ...            1   \n",
       "3756        1986   0.300323        52     10311    ...            9   \n",
       "15429       1997   0.090799        74     19083    ...           15   \n",
       "7238        1977   0.161532        25      5648    ...            4   \n",
       "13604       2008   0.246032        22      3151    ...            3   \n",
       "\n",
       "       District_square_price  is_first_floor  is_last_floor  Ecology_2_A  \\\n",
       "Id                                                                         \n",
       "13295            3292.616591               0              0            0   \n",
       "3756             4442.352118               0              0            0   \n",
       "15429            4146.961126               0              0            0   \n",
       "7238             3276.010175               0              1            0   \n",
       "13604            4488.447400               0              0            0   \n",
       "\n",
       "       Ecology_2_B  Ecology_3_A  Ecology_3_B  Shops_2_A  Shops_2_B  \n",
       "Id                                                                  \n",
       "13295            1            0            1          0          1  \n",
       "3756             1            0            1          0          1  \n",
       "15429            1            0            1          0          1  \n",
       "7238             1            0            1          0          1  \n",
       "13604            1            1            0          0          1  \n",
       "\n",
       "[5 rows x 22 columns]"
      ]
     },
     "execution_count": 50,
     "metadata": {},
     "output_type": "execute_result"
    }
   ],
   "source": [
    "X_train.head(5)"
   ]
  },
  {
   "cell_type": "code",
   "execution_count": 51,
   "metadata": {},
   "outputs": [
    {
     "data": {
      "text/plain": [
       "((7493, 22), (2500, 22))"
      ]
     },
     "execution_count": 51,
     "metadata": {},
     "output_type": "execute_result"
    }
   ],
   "source": [
    "X_train.shape, X_test.shape"
   ]
  },
  {
   "cell_type": "markdown",
   "metadata": {},
   "source": [
    "#### Градиентный бустинг\n",
    "Не смотря на то, что градиентный бустинг еще не проходили - он активно обсуждается на всех чемпионатах как лучшее средство до нейронных сетей. Я буду использовать его для получения итогового результата, однако пройдусь и по пройденным алгоритмам"
   ]
  },
  {
   "cell_type": "code",
   "execution_count": 51,
   "metadata": {},
   "outputs": [],
   "source": [
    "xgb = XGBRegressor(colsample_bytree=0.5, gamma=0.0, \n",
    "                             learning_rate=0.005, max_depth=7, \n",
    "                             min_child_weight=0.5, n_estimators=5800,\n",
    "                             reg_alpha=0.9, reg_lambda=0.99,\n",
    "                             subsample=0.99,seed=42, silent=1,\n",
    "                             random_state=42)"
   ]
  },
  {
   "cell_type": "code",
   "execution_count": null,
   "metadata": {
    "scrolled": true
   },
   "outputs": [],
   "source": [
    "# ds = pd.get_dummies(data).drop(['Healthcare_1'], axis=1).set_index('Id')\n",
    "# get_model_r2(X_train, y_train, X_test, y_test, xgb)\n",
    "# 0.7548214320215614"
   ]
  },
  {
   "cell_type": "code",
   "execution_count": null,
   "metadata": {},
   "outputs": [],
   "source": [
    "# ds = pd.get_dummies(data).set_index('Id')\n",
    "# get_model_r2(X_train, y_train, X_test, y_test, xgb)\n",
    "# 0.7556017998096649"
   ]
  },
  {
   "cell_type": "code",
   "execution_count": 52,
   "metadata": {},
   "outputs": [
    {
     "data": {
      "text/plain": [
       "0.7356707559382709"
      ]
     },
     "execution_count": 52,
     "metadata": {},
     "output_type": "execute_result"
    }
   ],
   "source": [
    "get_model_r2(X_train, y_train, X_test, y_test, xgb)"
   ]
  },
  {
   "cell_type": "code",
   "execution_count": 53,
   "metadata": {},
   "outputs": [
    {
     "name": "stdout",
     "output_type": "stream",
     "text": [
      "\u001b[0m"
     ]
    }
   ],
   "source": [
    "!telegram-send \"OK!\""
   ]
  },
  {
   "cell_type": "markdown",
   "metadata": {},
   "source": [
    "Отлично, теперь посмотрим на тестовый датасет"
   ]
  },
  {
   "cell_type": "code",
   "execution_count": 55,
   "metadata": {},
   "outputs": [],
   "source": [
    "test = pd.read_csv(test_path).set_index('Id')"
   ]
  },
  {
   "cell_type": "code",
   "execution_count": 56,
   "metadata": {},
   "outputs": [
    {
     "data": {
      "text/html": [
       "<div>\n",
       "<style scoped>\n",
       "    .dataframe tbody tr th:only-of-type {\n",
       "        vertical-align: middle;\n",
       "    }\n",
       "\n",
       "    .dataframe tbody tr th {\n",
       "        vertical-align: top;\n",
       "    }\n",
       "\n",
       "    .dataframe thead th {\n",
       "        text-align: right;\n",
       "    }\n",
       "</style>\n",
       "<table border=\"1\" class=\"dataframe\">\n",
       "  <thead>\n",
       "    <tr style=\"text-align: right;\">\n",
       "      <th></th>\n",
       "      <th>DistrictId</th>\n",
       "      <th>Rooms</th>\n",
       "      <th>Square</th>\n",
       "      <th>LifeSquare</th>\n",
       "      <th>KitchenSquare</th>\n",
       "      <th>Floor</th>\n",
       "      <th>HouseFloor</th>\n",
       "      <th>HouseYear</th>\n",
       "      <th>Ecology_1</th>\n",
       "      <th>Social_1</th>\n",
       "      <th>Social_2</th>\n",
       "      <th>Social_3</th>\n",
       "      <th>Healthcare_1</th>\n",
       "      <th>Helthcare_2</th>\n",
       "      <th>Shops_1</th>\n",
       "    </tr>\n",
       "  </thead>\n",
       "  <tbody>\n",
       "    <tr>\n",
       "      <th>count</th>\n",
       "      <td>5000.000000</td>\n",
       "      <td>5000.000000</td>\n",
       "      <td>5000.000000</td>\n",
       "      <td>3959.000000</td>\n",
       "      <td>5000.000000</td>\n",
       "      <td>5000.000000</td>\n",
       "      <td>5000.000000</td>\n",
       "      <td>5000.000000</td>\n",
       "      <td>5000.000000</td>\n",
       "      <td>5000.000000</td>\n",
       "      <td>5000.000000</td>\n",
       "      <td>5000.000000</td>\n",
       "      <td>2623.000000</td>\n",
       "      <td>5000.00000</td>\n",
       "      <td>5000.000000</td>\n",
       "    </tr>\n",
       "    <tr>\n",
       "      <th>mean</th>\n",
       "      <td>51.279200</td>\n",
       "      <td>1.910000</td>\n",
       "      <td>56.449500</td>\n",
       "      <td>36.158810</td>\n",
       "      <td>5.976800</td>\n",
       "      <td>8.632000</td>\n",
       "      <td>12.601000</td>\n",
       "      <td>1984.392600</td>\n",
       "      <td>0.119874</td>\n",
       "      <td>24.933800</td>\n",
       "      <td>5406.900000</td>\n",
       "      <td>8.262600</td>\n",
       "      <td>1146.657263</td>\n",
       "      <td>1.31940</td>\n",
       "      <td>4.242800</td>\n",
       "    </tr>\n",
       "    <tr>\n",
       "      <th>std</th>\n",
       "      <td>44.179466</td>\n",
       "      <td>0.838594</td>\n",
       "      <td>19.092787</td>\n",
       "      <td>17.825287</td>\n",
       "      <td>9.950018</td>\n",
       "      <td>5.483228</td>\n",
       "      <td>6.789213</td>\n",
       "      <td>18.573149</td>\n",
       "      <td>0.120070</td>\n",
       "      <td>17.532202</td>\n",
       "      <td>4026.614773</td>\n",
       "      <td>23.863762</td>\n",
       "      <td>1044.744231</td>\n",
       "      <td>1.47994</td>\n",
       "      <td>4.777365</td>\n",
       "    </tr>\n",
       "    <tr>\n",
       "      <th>min</th>\n",
       "      <td>0.000000</td>\n",
       "      <td>0.000000</td>\n",
       "      <td>1.378543</td>\n",
       "      <td>0.333490</td>\n",
       "      <td>0.000000</td>\n",
       "      <td>1.000000</td>\n",
       "      <td>0.000000</td>\n",
       "      <td>1908.000000</td>\n",
       "      <td>0.000000</td>\n",
       "      <td>0.000000</td>\n",
       "      <td>168.000000</td>\n",
       "      <td>0.000000</td>\n",
       "      <td>0.000000</td>\n",
       "      <td>0.00000</td>\n",
       "      <td>0.000000</td>\n",
       "    </tr>\n",
       "    <tr>\n",
       "      <th>25%</th>\n",
       "      <td>21.000000</td>\n",
       "      <td>1.000000</td>\n",
       "      <td>41.906231</td>\n",
       "      <td>23.092026</td>\n",
       "      <td>1.000000</td>\n",
       "      <td>4.000000</td>\n",
       "      <td>9.000000</td>\n",
       "      <td>1973.000000</td>\n",
       "      <td>0.019509</td>\n",
       "      <td>6.000000</td>\n",
       "      <td>1564.000000</td>\n",
       "      <td>0.000000</td>\n",
       "      <td>325.000000</td>\n",
       "      <td>0.00000</td>\n",
       "      <td>1.000000</td>\n",
       "    </tr>\n",
       "    <tr>\n",
       "      <th>50%</th>\n",
       "      <td>37.000000</td>\n",
       "      <td>2.000000</td>\n",
       "      <td>52.921340</td>\n",
       "      <td>32.925087</td>\n",
       "      <td>6.000000</td>\n",
       "      <td>7.000000</td>\n",
       "      <td>12.000000</td>\n",
       "      <td>1977.000000</td>\n",
       "      <td>0.072158</td>\n",
       "      <td>25.000000</td>\n",
       "      <td>5285.000000</td>\n",
       "      <td>2.000000</td>\n",
       "      <td>900.000000</td>\n",
       "      <td>1.00000</td>\n",
       "      <td>3.000000</td>\n",
       "    </tr>\n",
       "    <tr>\n",
       "      <th>75%</th>\n",
       "      <td>77.000000</td>\n",
       "      <td>2.000000</td>\n",
       "      <td>66.285129</td>\n",
       "      <td>45.174091</td>\n",
       "      <td>9.000000</td>\n",
       "      <td>12.000000</td>\n",
       "      <td>17.000000</td>\n",
       "      <td>2000.000000</td>\n",
       "      <td>0.195781</td>\n",
       "      <td>36.000000</td>\n",
       "      <td>7287.000000</td>\n",
       "      <td>5.000000</td>\n",
       "      <td>1548.000000</td>\n",
       "      <td>2.00000</td>\n",
       "      <td>6.000000</td>\n",
       "    </tr>\n",
       "    <tr>\n",
       "      <th>max</th>\n",
       "      <td>212.000000</td>\n",
       "      <td>17.000000</td>\n",
       "      <td>223.453689</td>\n",
       "      <td>303.071094</td>\n",
       "      <td>620.000000</td>\n",
       "      <td>78.000000</td>\n",
       "      <td>99.000000</td>\n",
       "      <td>2020.000000</td>\n",
       "      <td>0.521867</td>\n",
       "      <td>74.000000</td>\n",
       "      <td>19083.000000</td>\n",
       "      <td>141.000000</td>\n",
       "      <td>4849.000000</td>\n",
       "      <td>6.00000</td>\n",
       "      <td>23.000000</td>\n",
       "    </tr>\n",
       "  </tbody>\n",
       "</table>\n",
       "</div>"
      ],
      "text/plain": [
       "        DistrictId        Rooms       Square   LifeSquare  KitchenSquare  \\\n",
       "count  5000.000000  5000.000000  5000.000000  3959.000000    5000.000000   \n",
       "mean     51.279200     1.910000    56.449500    36.158810       5.976800   \n",
       "std      44.179466     0.838594    19.092787    17.825287       9.950018   \n",
       "min       0.000000     0.000000     1.378543     0.333490       0.000000   \n",
       "25%      21.000000     1.000000    41.906231    23.092026       1.000000   \n",
       "50%      37.000000     2.000000    52.921340    32.925087       6.000000   \n",
       "75%      77.000000     2.000000    66.285129    45.174091       9.000000   \n",
       "max     212.000000    17.000000   223.453689   303.071094     620.000000   \n",
       "\n",
       "             Floor   HouseFloor    HouseYear    Ecology_1     Social_1  \\\n",
       "count  5000.000000  5000.000000  5000.000000  5000.000000  5000.000000   \n",
       "mean      8.632000    12.601000  1984.392600     0.119874    24.933800   \n",
       "std       5.483228     6.789213    18.573149     0.120070    17.532202   \n",
       "min       1.000000     0.000000  1908.000000     0.000000     0.000000   \n",
       "25%       4.000000     9.000000  1973.000000     0.019509     6.000000   \n",
       "50%       7.000000    12.000000  1977.000000     0.072158    25.000000   \n",
       "75%      12.000000    17.000000  2000.000000     0.195781    36.000000   \n",
       "max      78.000000    99.000000  2020.000000     0.521867    74.000000   \n",
       "\n",
       "           Social_2     Social_3  Healthcare_1  Helthcare_2      Shops_1  \n",
       "count   5000.000000  5000.000000   2623.000000   5000.00000  5000.000000  \n",
       "mean    5406.900000     8.262600   1146.657263      1.31940     4.242800  \n",
       "std     4026.614773    23.863762   1044.744231      1.47994     4.777365  \n",
       "min      168.000000     0.000000      0.000000      0.00000     0.000000  \n",
       "25%     1564.000000     0.000000    325.000000      0.00000     1.000000  \n",
       "50%     5285.000000     2.000000    900.000000      1.00000     3.000000  \n",
       "75%     7287.000000     5.000000   1548.000000      2.00000     6.000000  \n",
       "max    19083.000000   141.000000   4849.000000      6.00000    23.000000  "
      ]
     },
     "execution_count": 56,
     "metadata": {},
     "output_type": "execute_result"
    }
   ],
   "source": [
    "test.describe()"
   ]
  },
  {
   "cell_type": "markdown",
   "metadata": {},
   "source": [
    "#### Rooms"
   ]
  },
  {
   "cell_type": "code",
   "execution_count": 57,
   "metadata": {},
   "outputs": [
    {
     "data": {
      "text/html": [
       "<div>\n",
       "<style scoped>\n",
       "    .dataframe tbody tr th:only-of-type {\n",
       "        vertical-align: middle;\n",
       "    }\n",
       "\n",
       "    .dataframe tbody tr th {\n",
       "        vertical-align: top;\n",
       "    }\n",
       "\n",
       "    .dataframe thead th {\n",
       "        text-align: right;\n",
       "    }\n",
       "</style>\n",
       "<table border=\"1\" class=\"dataframe\">\n",
       "  <thead>\n",
       "    <tr style=\"text-align: right;\">\n",
       "      <th></th>\n",
       "      <th>DistrictId</th>\n",
       "      <th>Rooms</th>\n",
       "      <th>Square</th>\n",
       "      <th>LifeSquare</th>\n",
       "      <th>KitchenSquare</th>\n",
       "      <th>Floor</th>\n",
       "      <th>HouseFloor</th>\n",
       "      <th>HouseYear</th>\n",
       "      <th>Ecology_1</th>\n",
       "      <th>Ecology_2</th>\n",
       "      <th>Ecology_3</th>\n",
       "      <th>Social_1</th>\n",
       "      <th>Social_2</th>\n",
       "      <th>Social_3</th>\n",
       "      <th>Healthcare_1</th>\n",
       "      <th>Helthcare_2</th>\n",
       "      <th>Shops_1</th>\n",
       "      <th>Shops_2</th>\n",
       "    </tr>\n",
       "    <tr>\n",
       "      <th>Id</th>\n",
       "      <th></th>\n",
       "      <th></th>\n",
       "      <th></th>\n",
       "      <th></th>\n",
       "      <th></th>\n",
       "      <th></th>\n",
       "      <th></th>\n",
       "      <th></th>\n",
       "      <th></th>\n",
       "      <th></th>\n",
       "      <th></th>\n",
       "      <th></th>\n",
       "      <th></th>\n",
       "      <th></th>\n",
       "      <th></th>\n",
       "      <th></th>\n",
       "      <th></th>\n",
       "      <th></th>\n",
       "    </tr>\n",
       "  </thead>\n",
       "  <tbody>\n",
       "    <tr>\n",
       "      <th>10793</th>\n",
       "      <td>23</td>\n",
       "      <td>6.0</td>\n",
       "      <td>110.750226</td>\n",
       "      <td>NaN</td>\n",
       "      <td>0.0</td>\n",
       "      <td>2</td>\n",
       "      <td>2.0</td>\n",
       "      <td>2015</td>\n",
       "      <td>0.014073</td>\n",
       "      <td>B</td>\n",
       "      <td>B</td>\n",
       "      <td>2</td>\n",
       "      <td>475</td>\n",
       "      <td>0</td>\n",
       "      <td>NaN</td>\n",
       "      <td>0</td>\n",
       "      <td>0</td>\n",
       "      <td>B</td>\n",
       "    </tr>\n",
       "    <tr>\n",
       "      <th>4058</th>\n",
       "      <td>27</td>\n",
       "      <td>6.0</td>\n",
       "      <td>223.453689</td>\n",
       "      <td>104.113552</td>\n",
       "      <td>16.0</td>\n",
       "      <td>2</td>\n",
       "      <td>2.0</td>\n",
       "      <td>2017</td>\n",
       "      <td>0.041116</td>\n",
       "      <td>B</td>\n",
       "      <td>B</td>\n",
       "      <td>53</td>\n",
       "      <td>14892</td>\n",
       "      <td>4</td>\n",
       "      <td>NaN</td>\n",
       "      <td>1</td>\n",
       "      <td>4</td>\n",
       "      <td>B</td>\n",
       "    </tr>\n",
       "    <tr>\n",
       "      <th>1435</th>\n",
       "      <td>111</td>\n",
       "      <td>17.0</td>\n",
       "      <td>52.866107</td>\n",
       "      <td>32.528342</td>\n",
       "      <td>8.0</td>\n",
       "      <td>15</td>\n",
       "      <td>17.0</td>\n",
       "      <td>1987</td>\n",
       "      <td>0.093443</td>\n",
       "      <td>B</td>\n",
       "      <td>B</td>\n",
       "      <td>23</td>\n",
       "      <td>4635</td>\n",
       "      <td>5</td>\n",
       "      <td>3300.0</td>\n",
       "      <td>2</td>\n",
       "      <td>4</td>\n",
       "      <td>B</td>\n",
       "    </tr>\n",
       "  </tbody>\n",
       "</table>\n",
       "</div>"
      ],
      "text/plain": [
       "       DistrictId  Rooms      Square  LifeSquare  KitchenSquare  Floor  \\\n",
       "Id                                                                       \n",
       "10793          23    6.0  110.750226         NaN            0.0      2   \n",
       "4058           27    6.0  223.453689  104.113552           16.0      2   \n",
       "1435          111   17.0   52.866107   32.528342            8.0     15   \n",
       "\n",
       "       HouseFloor  HouseYear  Ecology_1 Ecology_2 Ecology_3  Social_1  \\\n",
       "Id                                                                      \n",
       "10793         2.0       2015   0.014073         B         B         2   \n",
       "4058          2.0       2017   0.041116         B         B        53   \n",
       "1435         17.0       1987   0.093443         B         B        23   \n",
       "\n",
       "       Social_2  Social_3  Healthcare_1  Helthcare_2  Shops_1 Shops_2  \n",
       "Id                                                                     \n",
       "10793       475         0           NaN            0        0       B  \n",
       "4058      14892         4           NaN            1        4       B  \n",
       "1435       4635         5        3300.0            2        4       B  "
      ]
     },
     "execution_count": 57,
     "metadata": {},
     "output_type": "execute_result"
    }
   ],
   "source": [
    "test[test.Rooms > 5]"
   ]
  },
  {
   "cell_type": "code",
   "execution_count": 61,
   "metadata": {},
   "outputs": [],
   "source": [
    "test.loc[1435]['Rooms'] = 1"
   ]
  },
  {
   "cell_type": "code",
   "execution_count": null,
   "metadata": {},
   "outputs": [],
   "source": []
  },
  {
   "cell_type": "markdown",
   "metadata": {},
   "source": [
    "#### Примение T-SNE\n",
    "Попробуем перебрать параметр `learning_rates` чтобы найти идеальные условия для кластеризации"
   ]
  },
  {
   "cell_type": "code",
   "execution_count": 326,
   "metadata": {},
   "outputs": [],
   "source": [
    "def train_tsne(lr):\n",
    "    tsne = TSNE(n_components=2, learning_rate=lr, random_state=42)\n",
    "    return tsne.fit_transform(X_train_scaled)\n",
    "\n",
    "def get_good_tsne():\n",
    "    learning_rates = [10, 50, 100, 150, 300, 500, 800, 1000]\n",
    "    tsne_list = dict()\n",
    "    with Pool() as p:  \n",
    "        tsne_list = p.map(train_tsne, learning_rates)\n",
    "    return dict(zip(learning_rates, tsne_list))"
   ]
  },
  {
   "cell_type": "code",
   "execution_count": 327,
   "metadata": {},
   "outputs": [],
   "source": [
    "tsne_dict = get_good_tsne()"
   ]
  },
  {
   "cell_type": "code",
   "execution_count": 328,
   "metadata": {},
   "outputs": [
    {
     "data": {
      "image/png": "[encoded data removed]",
      "text/plain": [
       "<Figure size 576x4320 with 8 Axes>"
      ]
     },
     "metadata": {
      "needs_background": "light"
     },
     "output_type": "display_data"
    }
   ],
   "source": [
    "fig, ax = plt.subplots(len(tsne_dict),1)\n",
    "fig.set_figwidth(8)\n",
    "fig.set_figheight(60)\n",
    "fig.subplots_adjust(wspace=0.3, hspace=0.3)\n",
    "\n",
    "i = 0\n",
    "for lr, tsne_array in tsne_dict.items():\n",
    "    ax[i].scatter(tsne_array[:, 0], tsne_array[:, 1])\n",
    "    ax[i].set_title(f'learning_rates = {lr}')\n",
    "    i += 1"
   ]
  },
  {
   "cell_type": "code",
   "execution_count": 329,
   "metadata": {},
   "outputs": [
    {
     "name": "stdout",
     "output_type": "stream",
     "text": [
      "\u001b[0m"
     ]
    }
   ],
   "source": [
    "!telegram-send \"OK!\""
   ]
  },
  {
   "cell_type": "markdown",
   "metadata": {},
   "source": [
    "По полученным графиком я не вижу явной возможности для кластеризации, так что исключим подобные алгоритмы.\n",
    "\n",
    "Но давайте попробуем разбить на 3 кластера:"
   ]
  },
  {
   "cell_type": "markdown",
   "metadata": {},
   "source": []
  },
  {
   "cell_type": "code",
   "execution_count": 330,
   "metadata": {},
   "outputs": [],
   "source": [
    "from sklearn.cluster import KMeans"
   ]
  },
  {
   "cell_type": "code",
   "execution_count": 334,
   "metadata": {},
   "outputs": [
    {
     "data": {
      "text/plain": [
       "0    5356\n",
       "1    2635\n",
       "dtype: int64"
      ]
     },
     "execution_count": 334,
     "metadata": {},
     "output_type": "execute_result"
    }
   ],
   "source": [
    "kmeans = KMeans(n_clusters=2)\n",
    "labels_train = kmeans.fit_predict(X_train_scaled)\n",
    "pd.value_counts(labels_train)"
   ]
  },
  {
   "cell_type": "code",
   "execution_count": 335,
   "metadata": {},
   "outputs": [],
   "source": [
    "labels_train = kmeans.predict(X_train_scaled)"
   ]
  },
  {
   "cell_type": "code",
   "execution_count": 336,
   "metadata": {},
   "outputs": [
    {
     "data": {
      "image/png": "[encoded data removed]",
      "text/plain": [
       "<Figure size 432x288 with 1 Axes>"
      ]
     },
     "metadata": {
      "needs_background": "light"
     },
     "output_type": "display_data"
    }
   ],
   "source": [
    "plt.scatter(\n",
    "    tsne_dict[150][:, 0],\n",
    "    tsne_dict[150][:, 1],\n",
    "    c=labels_train\n",
    ");"
   ]
  },
  {
   "cell_type": "markdown",
   "metadata": {},
   "source": [
    "Так себе разбиение на кластеры, если честно"
   ]
  },
  {
   "cell_type": "markdown",
   "metadata": {},
   "source": [
    "#### PCA (Метод главных компонент)\n",
    "Попробуем выявить наиболее значимые признаки"
   ]
  },
  {
   "cell_type": "code",
   "execution_count": 337,
   "metadata": {},
   "outputs": [
    {
     "name": "stdout",
     "output_type": "stream",
     "text": [
      "Оценка линейной регрессии при разном количестве взятых признаков:\n",
      "при n = 1, \t r2 = 0.0979,\tacc = 0.15585729925364925\n",
      "при n = 2, \t r2 = 0.1513,\tacc = 0.25670277490732074\n",
      "при n = 3, \t r2 = 0.1526,\tacc = 0.35266896777162543\n",
      "при n = 4, \t r2 = 0.2693,\tacc = 0.4371101663008442\n",
      "при n = 5, \t r2 = 0.3732,\tacc = 0.5194225534207129\n",
      "при n = 6, \t r2 = 0.4521,\tacc = 0.5952292082675444\n",
      "при n = 7, \t r2 = 0.4748,\tacc = 0.6583329620793171\n",
      "при n = 8, \t r2 = 0.4871,\tacc = 0.7153281014206989\n",
      "при n = 9, \t r2 = 0.4845,\tacc = 0.7604974922927908\n",
      "при n = 10, \t r2 = 0.5276,\tacc = 0.8027501822807257\n",
      "при n = 11, \t r2 = 0.5273,\tacc = 0.843968912705714\n",
      "при n = 12, \t r2 = 0.5354,\tacc = 0.8826754192550197\n",
      "при n = 13, \t r2 = 0.5722,\tacc = 0.9171178616803047\n",
      "при n = 14, \t r2 = 0.5976,\tacc = 0.9433987424072894\n",
      "при n = 15, \t r2 = 0.6073,\tacc = 0.9666385392807446\n",
      "при n = 16, \t r2 = 0.6091,\tacc = 0.9797484675368331\n",
      "при n = 17, \t r2 = 0.6095,\tacc = 0.9904145415001473\n",
      "при n = 18, \t r2 = 0.6121,\tacc = 0.9984308626290241\n",
      "при n = 19, \t r2 = 0.6121,\tacc = 0.9999999999999999\n",
      "при n = 20, \t r2 = 0.6121,\tacc = 0.9999999999999999\n",
      "при n = 21, \t r2 = 0.6121,\tacc = 0.9999999999999999\n",
      "при n = 22, \t r2 = 0.6121,\tacc = 0.9999999999999999\n"
     ]
    }
   ],
   "source": [
    "print(\"Оценка линейной регрессии при разном количестве взятых признаков:\")\n",
    "for n in range(1,X_train.shape[1] + 1):\n",
    "    pca = PCA(n_components=n, random_state=42)\n",
    "    X_train_mc = pca.fit_transform(X_train_scaled)\n",
    "    X_test_mc = pca.transform(X_test_scaled)\n",
    "    lr = LinearRegression()\n",
    "    r2 = get_model_r2(X_train_mc, y_train, X_test_mc, y_test, lr)\n",
    "    \n",
    "    print(f'при n = {n}, \\t r2 = {r2:.4f},\\tacc = {np.sum(pca.explained_variance_ratio_[:n])}')"
   ]
  },
  {
   "cell_type": "markdown",
   "metadata": {},
   "source": [
    "Мы видим что лучший результат достигается при $n = 19$"
   ]
  },
  {
   "cell_type": "code",
   "execution_count": 198,
   "metadata": {},
   "outputs": [
    {
     "data": {
      "text/plain": [
       "0.672546719760197"
      ]
     },
     "execution_count": 198,
     "metadata": {},
     "output_type": "execute_result"
    }
   ],
   "source": [
    "pca = PCA(n_components=19, random_state=42)\n",
    "\n",
    "X_train_mc = pca.fit_transform(X_train_scaled)\n",
    "\n",
    "X_test_mc = pca.transform(X_test_scaled)\n",
    "\n",
    "get_model_r2(X_train_mc, y_train, X_test_mc, y_test, lr)"
   ]
  },
  {
   "cell_type": "markdown",
   "metadata": {},
   "source": [
    "#### Дерево решений"
   ]
  },
  {
   "cell_type": "code",
   "execution_count": 199,
   "metadata": {},
   "outputs": [],
   "source": [
    "decision_tree = GridSearchCV(estimator=DecisionTreeRegressor(random_state=42),\n",
    "                   param_grid=[{'max_depth': np.arange(2,40)}],\n",
    "                   scoring='r2',\n",
    "                   n_jobs=-1,\n",
    "                   cv=5)"
   ]
  },
  {
   "cell_type": "code",
   "execution_count": 200,
   "metadata": {},
   "outputs": [],
   "source": [
    "decision_tree.fit(X_train_mc, y_train);"
   ]
  },
  {
   "cell_type": "code",
   "execution_count": 201,
   "metadata": {},
   "outputs": [
    {
     "name": "stdout",
     "output_type": "stream",
     "text": [
      "best max_depth: 5, \tbest r2:0.6601146607476543\n"
     ]
    }
   ],
   "source": [
    "print(f'best max_depth: {decision_tree.best_params_[\"max_depth\"]}, \\tbest r2:{decision_tree.best_score_}')"
   ]
  },
  {
   "cell_type": "code",
   "execution_count": 202,
   "metadata": {},
   "outputs": [
    {
     "data": {
      "text/plain": [
       "0.487934530607555"
      ]
     },
     "execution_count": 202,
     "metadata": {},
     "output_type": "execute_result"
    }
   ],
   "source": [
    "y_pred=decision_tree.predict(X_test_mc)\n",
    "r2_score(y_test, y_pred)"
   ]
  },
  {
   "cell_type": "code",
   "execution_count": 203,
   "metadata": {},
   "outputs": [],
   "source": [
    "def do_tree(max_depth):\n",
    "    model = DecisionTreeRegressor(max_depth=max_depth, random_state=42)\n",
    "    return get_model_r2(X_train_mc, y_train, X_test_mc, y_test, model)\n",
    "    \n",
    "def best_tree_score():\n",
    "    max_depths = np.arange(2,40)\n",
    "    with Pool() as p:  \n",
    "        tree_score_list = p.map(do_tree, max_depths)\n",
    "    return dict(zip(max_depths, tree_score_list))"
   ]
  },
  {
   "cell_type": "code",
   "execution_count": 204,
   "metadata": {},
   "outputs": [],
   "source": [
    "tree_dict = best_tree_score()"
   ]
  },
  {
   "cell_type": "code",
   "execution_count": 205,
   "metadata": {},
   "outputs": [
    {
     "name": "stdout",
     "output_type": "stream",
     "text": [
      "Оценка дерева решений с переменной глубиной \n",
      "max_depth: 2 \t r2: 0.4201\n",
      "max_depth: 3 \t r2: 0.4703\n",
      "max_depth: 4 \t r2: 0.4462\n",
      "max_depth: 5 \t r2: 0.4879\n",
      "max_depth: 6 \t r2: 0.5003\n",
      "max_depth: 7 \t r2: 0.4466\n",
      "max_depth: 8 \t r2: 0.3866\n",
      "max_depth: 9 \t r2: 0.4402\n",
      "max_depth: 10 \t r2: 0.3449\n",
      "max_depth: 11 \t r2: 0.3572\n",
      "max_depth: 12 \t r2: 0.3681\n",
      "max_depth: 13 \t r2: 0.3125\n",
      "max_depth: 14 \t r2: 0.2863\n",
      "max_depth: 15 \t r2: 0.2922\n",
      "max_depth: 16 \t r2: 0.2870\n",
      "max_depth: 17 \t r2: 0.2337\n",
      "max_depth: 18 \t r2: 0.3253\n",
      "max_depth: 19 \t r2: 0.2894\n",
      "max_depth: 20 \t r2: 0.2419\n",
      "max_depth: 21 \t r2: 0.2826\n",
      "max_depth: 22 \t r2: 0.2599\n",
      "max_depth: 23 \t r2: 0.2925\n",
      "max_depth: 24 \t r2: 0.2754\n",
      "max_depth: 25 \t r2: 0.2397\n",
      "max_depth: 26 \t r2: 0.2559\n",
      "max_depth: 27 \t r2: 0.2813\n",
      "max_depth: 28 \t r2: 0.2695\n",
      "max_depth: 29 \t r2: 0.2671\n",
      "max_depth: 30 \t r2: 0.2755\n",
      "max_depth: 31 \t r2: 0.3044\n",
      "max_depth: 32 \t r2: 0.3026\n",
      "max_depth: 33 \t r2: 0.2776\n",
      "max_depth: 34 \t r2: 0.2695\n",
      "max_depth: 35 \t r2: 0.2823\n",
      "max_depth: 36 \t r2: 0.2830\n",
      "max_depth: 37 \t r2: 0.2830\n",
      "max_depth: 38 \t r2: 0.2830\n",
      "max_depth: 39 \t r2: 0.2830\n"
     ]
    }
   ],
   "source": [
    "print(\"Оценка дерева решений с переменной глубиной \")\n",
    "for depth, r2 in tree_dict.items():\n",
    "    print(f'max_depth: {depth} \\t r2: {r2:.4f}')"
   ]
  },
  {
   "cell_type": "code",
   "execution_count": 62,
   "metadata": {},
   "outputs": [
    {
     "name": "stdout",
     "output_type": "stream",
     "text": [
      "\u001b[31mConfig not found\u001b[0m\r\n",
      "Please run: \u001b[1mtelegram-send --configure\u001b[0m\r\n",
      "\u001b[0m"
     ]
    }
   ],
   "source": [
    "!telegram-send 'Проверяй!'"
   ]
  },
  {
   "cell_type": "markdown",
   "metadata": {},
   "source": [
    "При вычислении регресси деревом решений глубины 6 мы получаем точность $r2 = 0.54$"
   ]
  },
  {
   "cell_type": "markdown",
   "metadata": {},
   "source": [
    "#### Случайный лес"
   ]
  },
  {
   "cell_type": "code",
   "execution_count": 63,
   "metadata": {},
   "outputs": [],
   "source": [
    "decision_tree = GridSearchCV(estimator=DecisionTreeRegressor(random_state=42),\n",
    "                   param_grid=[{'max_depth': np.arange(2,40)}],\n",
    "                   scoring='r2',\n",
    "                   n_jobs=-1,\n",
    "                   cv=5)"
   ]
  },
  {
   "cell_type": "code",
   "execution_count": 64,
   "metadata": {},
   "outputs": [],
   "source": [
    "def do_forest(max_depth):\n",
    "    model = RandomForestRegressor(n_estimators=1000, max_depth=max_depth, random_state=42)\n",
    "    return get_model_r2(X_train_mc, y_train, X_test_mc, y_test, model)\n",
    "    \n",
    "def best_forest_score():\n",
    "    max_depths = np.arange(15,31)\n",
    "    with Pool() as p:  \n",
    "        forest_score_list = p.map(do_forest, max_depths)\n",
    "    return dict(zip(max_depths, forest_score_list))"
   ]
  },
  {
   "cell_type": "code",
   "execution_count": 65,
   "metadata": {},
   "outputs": [],
   "source": [
    "forest_dict = best_forest_score()"
   ]
  },
  {
   "cell_type": "code",
   "execution_count": 66,
   "metadata": {},
   "outputs": [
    {
     "name": "stdout",
     "output_type": "stream",
     "text": [
      "\u001b[31mConfig not found\u001b[0m\r\n",
      "Please run: \u001b[1mtelegram-send --configure\u001b[0m\r\n",
      "\u001b[0m"
     ]
    }
   ],
   "source": [
    "!telegram-send \"Я сделялъ\""
   ]
  },
  {
   "cell_type": "code",
   "execution_count": 67,
   "metadata": {},
   "outputs": [
    {
     "name": "stdout",
     "output_type": "stream",
     "text": [
      "Оценка случайных деревьев с переменной глубиной \n",
      "max_depth: 15 \t r2: 0.7093\n",
      "max_depth: 16 \t r2: 0.7094\n",
      "max_depth: 17 \t r2: 0.7089\n",
      "max_depth: 18 \t r2: 0.7089\n",
      "max_depth: 19 \t r2: 0.7089\n",
      "max_depth: 20 \t r2: 0.7095\n",
      "max_depth: 21 \t r2: 0.7086\n",
      "max_depth: 22 \t r2: 0.7094\n",
      "max_depth: 23 \t r2: 0.7087\n",
      "max_depth: 24 \t r2: 0.7085\n",
      "max_depth: 25 \t r2: 0.7086\n",
      "max_depth: 26 \t r2: 0.7093\n",
      "max_depth: 27 \t r2: 0.7089\n",
      "max_depth: 28 \t r2: 0.7089\n",
      "max_depth: 29 \t r2: 0.7089\n",
      "max_depth: 30 \t r2: 0.7092\n"
     ]
    }
   ],
   "source": [
    "print(\"Оценка случайных деревьев с переменной глубиной \")\n",
    "for depth, r2 in forest_dict.items():\n",
    "    print(f'max_depth: {depth} \\t r2: {r2:.4f}')"
   ]
  },
  {
   "cell_type": "markdown",
   "metadata": {},
   "source": [
    "При вычислении регрессии случайным лесом глубиной 23 мы получаем точность $r2 = 0.7072$"
   ]
  },
  {
   "cell_type": "markdown",
   "metadata": {},
   "source": [
    "#### Расширенный случайный лес\n",
    "будем использовать также `GredSearchCV`"
   ]
  },
  {
   "cell_type": "code",
   "execution_count": 68,
   "metadata": {},
   "outputs": [],
   "source": [
    "parametrs = [{'n_estimators': [150,200,250,500,750,1000],\n",
    "              'max_features': [\"auto\", \"sqrt\", \"log2\"],\n",
    "              'max_depth': np.arange(10,25)}]"
   ]
  },
  {
   "cell_type": "code",
   "execution_count": 206,
   "metadata": {},
   "outputs": [],
   "source": [
    "clf = GridSearchCV(estimator=RandomForestRegressor(random_state=42),\n",
    "                   param_grid=parametrs,\n",
    "                   scoring='r2',\n",
    "                   n_jobs=-1,\n",
    "                   cv=5)"
   ]
  },
  {
   "cell_type": "code",
   "execution_count": 207,
   "metadata": {},
   "outputs": [
    {
     "ename": "KeyboardInterrupt",
     "evalue": "",
     "output_type": "error",
     "traceback": [
      "\u001b[0;31m---------------------------------------------------------------------------\u001b[0m",
      "\u001b[0;31mKeyboardInterrupt\u001b[0m                         Traceback (most recent call last)",
      "\u001b[0;32m<ipython-input-207-8c4ffc14818f>\u001b[0m in \u001b[0;36m<module>\u001b[0;34m\u001b[0m\n\u001b[0;32m----> 1\u001b[0;31m \u001b[0mclf\u001b[0m\u001b[0;34m.\u001b[0m\u001b[0mfit\u001b[0m\u001b[0;34m(\u001b[0m\u001b[0mX_train_mc\u001b[0m\u001b[0;34m,\u001b[0m \u001b[0my_train\u001b[0m\u001b[0;34m)\u001b[0m\u001b[0;34m\u001b[0m\u001b[0;34m\u001b[0m\u001b[0m\n\u001b[0m",
      "\u001b[0;32m~/anaconda3/lib/python3.7/site-packages/sklearn/model_selection/_search.py\u001b[0m in \u001b[0;36mfit\u001b[0;34m(self, X, y, groups, **fit_params)\u001b[0m\n\u001b[1;32m    720\u001b[0m                 \u001b[0;32mreturn\u001b[0m \u001b[0mresults_container\u001b[0m\u001b[0;34m[\u001b[0m\u001b[0;36m0\u001b[0m\u001b[0;34m]\u001b[0m\u001b[0;34m\u001b[0m\u001b[0;34m\u001b[0m\u001b[0m\n\u001b[1;32m    721\u001b[0m \u001b[0;34m\u001b[0m\u001b[0m\n\u001b[0;32m--> 722\u001b[0;31m             \u001b[0mself\u001b[0m\u001b[0;34m.\u001b[0m\u001b[0m_run_search\u001b[0m\u001b[0;34m(\u001b[0m\u001b[0mevaluate_candidates\u001b[0m\u001b[0;34m)\u001b[0m\u001b[0;34m\u001b[0m\u001b[0;34m\u001b[0m\u001b[0m\n\u001b[0m\u001b[1;32m    723\u001b[0m \u001b[0;34m\u001b[0m\u001b[0m\n\u001b[1;32m    724\u001b[0m         \u001b[0mresults\u001b[0m \u001b[0;34m=\u001b[0m \u001b[0mresults_container\u001b[0m\u001b[0;34m[\u001b[0m\u001b[0;36m0\u001b[0m\u001b[0;34m]\u001b[0m\u001b[0;34m\u001b[0m\u001b[0;34m\u001b[0m\u001b[0m\n",
      "\u001b[0;32m~/anaconda3/lib/python3.7/site-packages/sklearn/model_selection/_search.py\u001b[0m in \u001b[0;36m_run_search\u001b[0;34m(self, evaluate_candidates)\u001b[0m\n\u001b[1;32m   1189\u001b[0m     \u001b[0;32mdef\u001b[0m \u001b[0m_run_search\u001b[0m\u001b[0;34m(\u001b[0m\u001b[0mself\u001b[0m\u001b[0;34m,\u001b[0m \u001b[0mevaluate_candidates\u001b[0m\u001b[0;34m)\u001b[0m\u001b[0;34m:\u001b[0m\u001b[0;34m\u001b[0m\u001b[0;34m\u001b[0m\u001b[0m\n\u001b[1;32m   1190\u001b[0m         \u001b[0;34m\"\"\"Search all candidates in param_grid\"\"\"\u001b[0m\u001b[0;34m\u001b[0m\u001b[0;34m\u001b[0m\u001b[0m\n\u001b[0;32m-> 1191\u001b[0;31m         \u001b[0mevaluate_candidates\u001b[0m\u001b[0;34m(\u001b[0m\u001b[0mParameterGrid\u001b[0m\u001b[0;34m(\u001b[0m\u001b[0mself\u001b[0m\u001b[0;34m.\u001b[0m\u001b[0mparam_grid\u001b[0m\u001b[0;34m)\u001b[0m\u001b[0;34m)\u001b[0m\u001b[0;34m\u001b[0m\u001b[0;34m\u001b[0m\u001b[0m\n\u001b[0m\u001b[1;32m   1192\u001b[0m \u001b[0;34m\u001b[0m\u001b[0m\n\u001b[1;32m   1193\u001b[0m \u001b[0;34m\u001b[0m\u001b[0m\n",
      "\u001b[0;32m~/anaconda3/lib/python3.7/site-packages/sklearn/model_selection/_search.py\u001b[0m in \u001b[0;36mevaluate_candidates\u001b[0;34m(candidate_params)\u001b[0m\n\u001b[1;32m    709\u001b[0m                                \u001b[0;32mfor\u001b[0m \u001b[0mparameters\u001b[0m\u001b[0;34m,\u001b[0m \u001b[0;34m(\u001b[0m\u001b[0mtrain\u001b[0m\u001b[0;34m,\u001b[0m \u001b[0mtest\u001b[0m\u001b[0;34m)\u001b[0m\u001b[0;34m\u001b[0m\u001b[0;34m\u001b[0m\u001b[0m\n\u001b[1;32m    710\u001b[0m                                in product(candidate_params,\n\u001b[0;32m--> 711\u001b[0;31m                                           cv.split(X, y, groups)))\n\u001b[0m\u001b[1;32m    712\u001b[0m \u001b[0;34m\u001b[0m\u001b[0m\n\u001b[1;32m    713\u001b[0m                 \u001b[0mall_candidate_params\u001b[0m\u001b[0;34m.\u001b[0m\u001b[0mextend\u001b[0m\u001b[0;34m(\u001b[0m\u001b[0mcandidate_params\u001b[0m\u001b[0;34m)\u001b[0m\u001b[0;34m\u001b[0m\u001b[0;34m\u001b[0m\u001b[0m\n",
      "\u001b[0;32m~/anaconda3/lib/python3.7/site-packages/sklearn/externals/joblib/parallel.py\u001b[0m in \u001b[0;36m__call__\u001b[0;34m(self, iterable)\u001b[0m\n\u001b[1;32m    928\u001b[0m \u001b[0;34m\u001b[0m\u001b[0m\n\u001b[1;32m    929\u001b[0m             \u001b[0;32mwith\u001b[0m \u001b[0mself\u001b[0m\u001b[0;34m.\u001b[0m\u001b[0m_backend\u001b[0m\u001b[0;34m.\u001b[0m\u001b[0mretrieval_context\u001b[0m\u001b[0;34m(\u001b[0m\u001b[0;34m)\u001b[0m\u001b[0;34m:\u001b[0m\u001b[0;34m\u001b[0m\u001b[0;34m\u001b[0m\u001b[0m\n\u001b[0;32m--> 930\u001b[0;31m                 \u001b[0mself\u001b[0m\u001b[0;34m.\u001b[0m\u001b[0mretrieve\u001b[0m\u001b[0;34m(\u001b[0m\u001b[0;34m)\u001b[0m\u001b[0;34m\u001b[0m\u001b[0;34m\u001b[0m\u001b[0m\n\u001b[0m\u001b[1;32m    931\u001b[0m             \u001b[0;31m# Make sure that we get a last message telling us we are done\u001b[0m\u001b[0;34m\u001b[0m\u001b[0;34m\u001b[0m\u001b[0;34m\u001b[0m\u001b[0m\n\u001b[1;32m    932\u001b[0m             \u001b[0melapsed_time\u001b[0m \u001b[0;34m=\u001b[0m \u001b[0mtime\u001b[0m\u001b[0;34m.\u001b[0m\u001b[0mtime\u001b[0m\u001b[0;34m(\u001b[0m\u001b[0;34m)\u001b[0m \u001b[0;34m-\u001b[0m \u001b[0mself\u001b[0m\u001b[0;34m.\u001b[0m\u001b[0m_start_time\u001b[0m\u001b[0;34m\u001b[0m\u001b[0;34m\u001b[0m\u001b[0m\n",
      "\u001b[0;32m~/anaconda3/lib/python3.7/site-packages/sklearn/externals/joblib/parallel.py\u001b[0m in \u001b[0;36mretrieve\u001b[0;34m(self)\u001b[0m\n\u001b[1;32m    831\u001b[0m             \u001b[0;32mtry\u001b[0m\u001b[0;34m:\u001b[0m\u001b[0;34m\u001b[0m\u001b[0;34m\u001b[0m\u001b[0m\n\u001b[1;32m    832\u001b[0m                 \u001b[0;32mif\u001b[0m \u001b[0mgetattr\u001b[0m\u001b[0;34m(\u001b[0m\u001b[0mself\u001b[0m\u001b[0;34m.\u001b[0m\u001b[0m_backend\u001b[0m\u001b[0;34m,\u001b[0m \u001b[0;34m'supports_timeout'\u001b[0m\u001b[0;34m,\u001b[0m \u001b[0;32mFalse\u001b[0m\u001b[0;34m)\u001b[0m\u001b[0;34m:\u001b[0m\u001b[0;34m\u001b[0m\u001b[0;34m\u001b[0m\u001b[0m\n\u001b[0;32m--> 833\u001b[0;31m                     \u001b[0mself\u001b[0m\u001b[0;34m.\u001b[0m\u001b[0m_output\u001b[0m\u001b[0;34m.\u001b[0m\u001b[0mextend\u001b[0m\u001b[0;34m(\u001b[0m\u001b[0mjob\u001b[0m\u001b[0;34m.\u001b[0m\u001b[0mget\u001b[0m\u001b[0;34m(\u001b[0m\u001b[0mtimeout\u001b[0m\u001b[0;34m=\u001b[0m\u001b[0mself\u001b[0m\u001b[0;34m.\u001b[0m\u001b[0mtimeout\u001b[0m\u001b[0;34m)\u001b[0m\u001b[0;34m)\u001b[0m\u001b[0;34m\u001b[0m\u001b[0;34m\u001b[0m\u001b[0m\n\u001b[0m\u001b[1;32m    834\u001b[0m                 \u001b[0;32melse\u001b[0m\u001b[0;34m:\u001b[0m\u001b[0;34m\u001b[0m\u001b[0;34m\u001b[0m\u001b[0m\n\u001b[1;32m    835\u001b[0m                     \u001b[0mself\u001b[0m\u001b[0;34m.\u001b[0m\u001b[0m_output\u001b[0m\u001b[0;34m.\u001b[0m\u001b[0mextend\u001b[0m\u001b[0;34m(\u001b[0m\u001b[0mjob\u001b[0m\u001b[0;34m.\u001b[0m\u001b[0mget\u001b[0m\u001b[0;34m(\u001b[0m\u001b[0;34m)\u001b[0m\u001b[0;34m)\u001b[0m\u001b[0;34m\u001b[0m\u001b[0;34m\u001b[0m\u001b[0m\n",
      "\u001b[0;32m~/anaconda3/lib/python3.7/site-packages/sklearn/externals/joblib/_parallel_backends.py\u001b[0m in \u001b[0;36mwrap_future_result\u001b[0;34m(future, timeout)\u001b[0m\n\u001b[1;32m    519\u001b[0m         AsyncResults.get from multiprocessing.\"\"\"\n\u001b[1;32m    520\u001b[0m         \u001b[0;32mtry\u001b[0m\u001b[0;34m:\u001b[0m\u001b[0;34m\u001b[0m\u001b[0;34m\u001b[0m\u001b[0m\n\u001b[0;32m--> 521\u001b[0;31m             \u001b[0;32mreturn\u001b[0m \u001b[0mfuture\u001b[0m\u001b[0;34m.\u001b[0m\u001b[0mresult\u001b[0m\u001b[0;34m(\u001b[0m\u001b[0mtimeout\u001b[0m\u001b[0;34m=\u001b[0m\u001b[0mtimeout\u001b[0m\u001b[0;34m)\u001b[0m\u001b[0;34m\u001b[0m\u001b[0;34m\u001b[0m\u001b[0m\n\u001b[0m\u001b[1;32m    522\u001b[0m         \u001b[0;32mexcept\u001b[0m \u001b[0mLokyTimeoutError\u001b[0m\u001b[0;34m:\u001b[0m\u001b[0;34m\u001b[0m\u001b[0;34m\u001b[0m\u001b[0m\n\u001b[1;32m    523\u001b[0m             \u001b[0;32mraise\u001b[0m \u001b[0mTimeoutError\u001b[0m\u001b[0;34m(\u001b[0m\u001b[0;34m)\u001b[0m\u001b[0;34m\u001b[0m\u001b[0;34m\u001b[0m\u001b[0m\n",
      "\u001b[0;32m~/anaconda3/lib/python3.7/concurrent/futures/_base.py\u001b[0m in \u001b[0;36mresult\u001b[0;34m(self, timeout)\u001b[0m\n\u001b[1;32m    425\u001b[0m                 \u001b[0;32mreturn\u001b[0m \u001b[0mself\u001b[0m\u001b[0;34m.\u001b[0m\u001b[0m__get_result\u001b[0m\u001b[0;34m(\u001b[0m\u001b[0;34m)\u001b[0m\u001b[0;34m\u001b[0m\u001b[0;34m\u001b[0m\u001b[0m\n\u001b[1;32m    426\u001b[0m \u001b[0;34m\u001b[0m\u001b[0m\n\u001b[0;32m--> 427\u001b[0;31m             \u001b[0mself\u001b[0m\u001b[0;34m.\u001b[0m\u001b[0m_condition\u001b[0m\u001b[0;34m.\u001b[0m\u001b[0mwait\u001b[0m\u001b[0;34m(\u001b[0m\u001b[0mtimeout\u001b[0m\u001b[0;34m)\u001b[0m\u001b[0;34m\u001b[0m\u001b[0;34m\u001b[0m\u001b[0m\n\u001b[0m\u001b[1;32m    428\u001b[0m \u001b[0;34m\u001b[0m\u001b[0m\n\u001b[1;32m    429\u001b[0m             \u001b[0;32mif\u001b[0m \u001b[0mself\u001b[0m\u001b[0;34m.\u001b[0m\u001b[0m_state\u001b[0m \u001b[0;32min\u001b[0m \u001b[0;34m[\u001b[0m\u001b[0mCANCELLED\u001b[0m\u001b[0;34m,\u001b[0m \u001b[0mCANCELLED_AND_NOTIFIED\u001b[0m\u001b[0;34m]\u001b[0m\u001b[0;34m:\u001b[0m\u001b[0;34m\u001b[0m\u001b[0;34m\u001b[0m\u001b[0m\n",
      "\u001b[0;32m~/anaconda3/lib/python3.7/threading.py\u001b[0m in \u001b[0;36mwait\u001b[0;34m(self, timeout)\u001b[0m\n\u001b[1;32m    294\u001b[0m         \u001b[0;32mtry\u001b[0m\u001b[0;34m:\u001b[0m    \u001b[0;31m# restore state no matter what (e.g., KeyboardInterrupt)\u001b[0m\u001b[0;34m\u001b[0m\u001b[0;34m\u001b[0m\u001b[0m\n\u001b[1;32m    295\u001b[0m             \u001b[0;32mif\u001b[0m \u001b[0mtimeout\u001b[0m \u001b[0;32mis\u001b[0m \u001b[0;32mNone\u001b[0m\u001b[0;34m:\u001b[0m\u001b[0;34m\u001b[0m\u001b[0;34m\u001b[0m\u001b[0m\n\u001b[0;32m--> 296\u001b[0;31m                 \u001b[0mwaiter\u001b[0m\u001b[0;34m.\u001b[0m\u001b[0macquire\u001b[0m\u001b[0;34m(\u001b[0m\u001b[0;34m)\u001b[0m\u001b[0;34m\u001b[0m\u001b[0;34m\u001b[0m\u001b[0m\n\u001b[0m\u001b[1;32m    297\u001b[0m                 \u001b[0mgotit\u001b[0m \u001b[0;34m=\u001b[0m \u001b[0;32mTrue\u001b[0m\u001b[0;34m\u001b[0m\u001b[0;34m\u001b[0m\u001b[0m\n\u001b[1;32m    298\u001b[0m             \u001b[0;32melse\u001b[0m\u001b[0;34m:\u001b[0m\u001b[0;34m\u001b[0m\u001b[0;34m\u001b[0m\u001b[0m\n",
      "\u001b[0;31mKeyboardInterrupt\u001b[0m: "
     ]
    }
   ],
   "source": [
    "clf.fit(X_train_mc, y_train)"
   ]
  },
  {
   "cell_type": "code",
   "execution_count": 71,
   "metadata": {},
   "outputs": [
    {
     "data": {
      "text/plain": [
       "({'max_depth': 15, 'max_features': 'sqrt', 'n_estimators': 200},\n",
       " 0.790034250633083)"
      ]
     },
     "execution_count": 71,
     "metadata": {},
     "output_type": "execute_result"
    }
   ],
   "source": [
    "clf.best_params_, clf.best_score_"
   ]
  },
  {
   "cell_type": "markdown",
   "metadata": {},
   "source": [
    "Наилучшие парамедры для случайного леса:\n",
    "\n",
    "'max_depth': 21, 'max_features': 'sqrt', 'n_estimators': 750\n",
    "\n",
    "r2 = 0.719"
   ]
  },
  {
   "cell_type": "code",
   "execution_count": 84,
   "metadata": {},
   "outputs": [
    {
     "data": {
      "text/plain": [
       "0.7125869949316297"
      ]
     },
     "execution_count": 84,
     "metadata": {},
     "output_type": "execute_result"
    }
   ],
   "source": [
    "y_pred = clf.predict(X_test_mc)\n",
    "test_r2 = r2_score(y_test, y_pred)\n",
    "test_r2"
   ]
  },
  {
   "cell_type": "markdown",
   "metadata": {},
   "source": [
    "#### L1, L2 регуляризация"
   ]
  },
  {
   "cell_type": "code",
   "execution_count": 80,
   "metadata": {},
   "outputs": [],
   "source": [
    "test = pd.read_csv(test_path)"
   ]
  },
  {
   "cell_type": "code",
   "execution_count": 81,
   "metadata": {
    "scrolled": true
   },
   "outputs": [
    {
     "data": {
      "text/plain": [
       "0.0    2928\n",
       "1.0    1257\n",
       "3.0     320\n",
       "5.0     175\n",
       "2.0     102\n",
       "Name: Helthcare_2, dtype: int64"
      ]
     },
     "execution_count": 81,
     "metadata": {},
     "output_type": "execute_result"
    }
   ],
   "source": [
    "data.Helthcare_2.value_counts()"
   ]
  },
  {
   "cell_type": "code",
   "execution_count": null,
   "metadata": {},
   "outputs": [],
   "source": []
  }
 ],
 "metadata": {
  "kernelspec": {
   "display_name": "Python 3",
   "language": "python",
   "name": "python3"
  },
  "language_info": {
   "codemirror_mode": {
    "name": "ipython",
    "version": 3
   },
   "file_extension": ".py",
   "mimetype": "text/x-python",
   "name": "python",
   "nbconvert_exporter": "python",
   "pygments_lexer": "ipython3",
   "version": "3.7.1"
  }
 },
 "nbformat": 4,
 "nbformat_minor": 2
}
