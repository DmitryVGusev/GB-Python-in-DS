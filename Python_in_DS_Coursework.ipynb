{
 "cells": [
  {
   "cell_type": "markdown",
   "metadata": {},
   "source": [
    "# Python для DataScience\n",
    "## Курсовая работа"
   ]
  },
  {
   "cell_type": "markdown",
   "metadata": {},
   "source": [
    "В этой курсовой работе мы будем обучать модель, предсказывающую цены на квартиры"
   ]
  },
  {
   "cell_type": "code",
   "execution_count": 1,
   "metadata": {},
   "outputs": [],
   "source": [
    "from urllib import request\n",
    "from os.path import isfile\n",
    "\n",
    "import pandas as pd\n",
    "import numpy as np\n",
    "\n",
    "from sklearn.model_selection import train_test_split\n",
    "from sklearn.model_selection import GridSearchCV\n",
    "from sklearn.tree import DecisionTreeRegressor\n",
    "from sklearn.ensemble import RandomForestRegressor\n",
    "from sklearn.decomposition import PCA\n",
    "from sklearn.metrics import r2_score\n",
    "from sklearn.linear_model import Lasso\n",
    "from sklearn.manifold import TSNE\n",
    "from xgboost import XGBRegressor\n",
    "import pickle\n",
    "\n",
    "from multiprocessing import Pool\n",
    "\n",
    "import matplotlib.pyplot as plt\n",
    "%matplotlib inline\n",
    "\n",
    "import warnings\n",
    "warnings.filterwarnings('ignore')"
   ]
  },
  {
   "cell_type": "code",
   "execution_count": 2,
   "metadata": {},
   "outputs": [],
   "source": [
    "def split_data(ds,target,test_size=0.25, random_state=42):\n",
    "    \"\"\"Разбивает датасет на тренировочные и проверочные, выделяя целевой признак\"\"\"\n",
    "    X_train, X_test, y_train, y_test = train_test_split(\n",
    "        ds.drop([target], axis=1), \n",
    "        ds[target], \n",
    "        test_size=test_size, random_state=random_state)\n",
    "    return X_train, X_test, y_train, y_test"
   ]
  },
  {
   "cell_type": "code",
   "execution_count": 3,
   "metadata": {},
   "outputs": [],
   "source": [
    "def get_model_r2(X_train, y_train, X_test, y_test, model):\n",
    "    \"\"\"Запускает целевую модель и выдает среднеквадратичное отклонение r2\"\"\"\n",
    "    model.fit(X_train, y_train)\n",
    "    y_pred=model.predict(X_test)\n",
    "    r2 = r2_score(y_test, y_pred)\n",
    "    return r2"
   ]
  },
  {
   "cell_type": "markdown",
   "metadata": {},
   "source": [
    "### Загрузка данных"
   ]
  },
  {
   "cell_type": "markdown",
   "metadata": {},
   "source": [
    "Скачаем датасеты:"
   ]
  },
  {
   "cell_type": "code",
   "execution_count": 4,
   "metadata": {},
   "outputs": [],
   "source": [
    "train_url = 'https://uploads.hb.cldmail.ru/asset/1381522/attachment/302b3d11658ce764f4e8655292566e11.csv'\n",
    "test_url = 'https://uploads.hb.cldmail.ru/asset/1381521/attachment/f74867a92dc85932950369d8d31db3b0.csv'\n",
    "\n",
    "train_path = 'train.csv'\n",
    "test_path = 'test.csv'\n",
    "\n",
    "if not isfile(train_path):\n",
    "    request.urlretrieve(train_url, train_path)\n",
    "if not isfile(test_path):\n",
    "    request.urlretrieve(test_url, test_path)"
   ]
  },
  {
   "cell_type": "code",
   "execution_count": 5,
   "metadata": {},
   "outputs": [],
   "source": [
    "train = pd.read_csv(train_path).set_index('Id')"
   ]
  },
  {
   "cell_type": "code",
   "execution_count": 6,
   "metadata": {},
   "outputs": [],
   "source": [
    "data, valid = train_test_split(train, test_size=0.25, random_state=42)"
   ]
  },
  {
   "cell_type": "markdown",
   "metadata": {},
   "source": [
    "### Разбивка данных\n",
    "Разобьем датафрейм на тестовый и контрольный"
   ]
  },
  {
   "cell_type": "code",
   "execution_count": 7,
   "metadata": {},
   "outputs": [],
   "source": [
    "# data, valid_x, data_y, valid_y = split_data(train, 'Price',test_size=0.2)"
   ]
  },
  {
   "cell_type": "code",
   "execution_count": 8,
   "metadata": {},
   "outputs": [
    {
     "data": {
      "text/html": [
       "<div>\n",
       "<style scoped>\n",
       "    .dataframe tbody tr th:only-of-type {\n",
       "        vertical-align: middle;\n",
       "    }\n",
       "\n",
       "    .dataframe tbody tr th {\n",
       "        vertical-align: top;\n",
       "    }\n",
       "\n",
       "    .dataframe thead th {\n",
       "        text-align: right;\n",
       "    }\n",
       "</style>\n",
       "<table border=\"1\" class=\"dataframe\">\n",
       "  <thead>\n",
       "    <tr style=\"text-align: right;\">\n",
       "      <th></th>\n",
       "      <th>DistrictId</th>\n",
       "      <th>Rooms</th>\n",
       "      <th>Square</th>\n",
       "      <th>LifeSquare</th>\n",
       "      <th>KitchenSquare</th>\n",
       "      <th>Floor</th>\n",
       "      <th>HouseFloor</th>\n",
       "      <th>HouseYear</th>\n",
       "      <th>Ecology_1</th>\n",
       "      <th>Ecology_2</th>\n",
       "      <th>Ecology_3</th>\n",
       "      <th>Social_1</th>\n",
       "      <th>Social_2</th>\n",
       "      <th>Social_3</th>\n",
       "      <th>Healthcare_1</th>\n",
       "      <th>Helthcare_2</th>\n",
       "      <th>Shops_1</th>\n",
       "      <th>Shops_2</th>\n",
       "      <th>Price</th>\n",
       "    </tr>\n",
       "    <tr>\n",
       "      <th>Id</th>\n",
       "      <th></th>\n",
       "      <th></th>\n",
       "      <th></th>\n",
       "      <th></th>\n",
       "      <th></th>\n",
       "      <th></th>\n",
       "      <th></th>\n",
       "      <th></th>\n",
       "      <th></th>\n",
       "      <th></th>\n",
       "      <th></th>\n",
       "      <th></th>\n",
       "      <th></th>\n",
       "      <th></th>\n",
       "      <th></th>\n",
       "      <th></th>\n",
       "      <th></th>\n",
       "      <th></th>\n",
       "      <th></th>\n",
       "    </tr>\n",
       "  </thead>\n",
       "  <tbody>\n",
       "    <tr>\n",
       "      <th>3702</th>\n",
       "      <td>21</td>\n",
       "      <td>2.0</td>\n",
       "      <td>48.812195</td>\n",
       "      <td>34.679779</td>\n",
       "      <td>5.0</td>\n",
       "      <td>5</td>\n",
       "      <td>5.0</td>\n",
       "      <td>1963</td>\n",
       "      <td>0.034331</td>\n",
       "      <td>B</td>\n",
       "      <td>B</td>\n",
       "      <td>25</td>\n",
       "      <td>5487</td>\n",
       "      <td>3</td>\n",
       "      <td>NaN</td>\n",
       "      <td>0</td>\n",
       "      <td>4</td>\n",
       "      <td>B</td>\n",
       "      <td>181530.459031</td>\n",
       "    </tr>\n",
       "    <tr>\n",
       "      <th>12848</th>\n",
       "      <td>61</td>\n",
       "      <td>3.0</td>\n",
       "      <td>81.103039</td>\n",
       "      <td>49.310278</td>\n",
       "      <td>8.0</td>\n",
       "      <td>4</td>\n",
       "      <td>4.0</td>\n",
       "      <td>1960</td>\n",
       "      <td>0.298205</td>\n",
       "      <td>B</td>\n",
       "      <td>B</td>\n",
       "      <td>16</td>\n",
       "      <td>4048</td>\n",
       "      <td>3</td>\n",
       "      <td>NaN</td>\n",
       "      <td>1</td>\n",
       "      <td>3</td>\n",
       "      <td>B</td>\n",
       "      <td>260456.004692</td>\n",
       "    </tr>\n",
       "    <tr>\n",
       "      <th>2239</th>\n",
       "      <td>6</td>\n",
       "      <td>3.0</td>\n",
       "      <td>82.882978</td>\n",
       "      <td>3.977650</td>\n",
       "      <td>1.0</td>\n",
       "      <td>8</td>\n",
       "      <td>17.0</td>\n",
       "      <td>1977</td>\n",
       "      <td>0.243205</td>\n",
       "      <td>B</td>\n",
       "      <td>B</td>\n",
       "      <td>5</td>\n",
       "      <td>1564</td>\n",
       "      <td>0</td>\n",
       "      <td>540.0</td>\n",
       "      <td>0</td>\n",
       "      <td>0</td>\n",
       "      <td>B</td>\n",
       "      <td>219945.304640</td>\n",
       "    </tr>\n",
       "    <tr>\n",
       "      <th>15611</th>\n",
       "      <td>23</td>\n",
       "      <td>1.0</td>\n",
       "      <td>33.863324</td>\n",
       "      <td>29.993297</td>\n",
       "      <td>0.0</td>\n",
       "      <td>5</td>\n",
       "      <td>4.0</td>\n",
       "      <td>1977</td>\n",
       "      <td>0.034656</td>\n",
       "      <td>B</td>\n",
       "      <td>B</td>\n",
       "      <td>0</td>\n",
       "      <td>168</td>\n",
       "      <td>0</td>\n",
       "      <td>NaN</td>\n",
       "      <td>0</td>\n",
       "      <td>0</td>\n",
       "      <td>B</td>\n",
       "      <td>66883.280318</td>\n",
       "    </tr>\n",
       "    <tr>\n",
       "      <th>5634</th>\n",
       "      <td>52</td>\n",
       "      <td>1.0</td>\n",
       "      <td>43.095135</td>\n",
       "      <td>NaN</td>\n",
       "      <td>1.0</td>\n",
       "      <td>10</td>\n",
       "      <td>17.0</td>\n",
       "      <td>1977</td>\n",
       "      <td>0.371149</td>\n",
       "      <td>B</td>\n",
       "      <td>B</td>\n",
       "      <td>34</td>\n",
       "      <td>7065</td>\n",
       "      <td>1</td>\n",
       "      <td>750.0</td>\n",
       "      <td>2</td>\n",
       "      <td>5</td>\n",
       "      <td>B</td>\n",
       "      <td>114086.065201</td>\n",
       "    </tr>\n",
       "    <tr>\n",
       "      <th>14726</th>\n",
       "      <td>53</td>\n",
       "      <td>3.0</td>\n",
       "      <td>84.569998</td>\n",
       "      <td>60.613297</td>\n",
       "      <td>12.0</td>\n",
       "      <td>18</td>\n",
       "      <td>24.0</td>\n",
       "      <td>2017</td>\n",
       "      <td>0.049637</td>\n",
       "      <td>B</td>\n",
       "      <td>B</td>\n",
       "      <td>34</td>\n",
       "      <td>7759</td>\n",
       "      <td>0</td>\n",
       "      <td>229.0</td>\n",
       "      <td>1</td>\n",
       "      <td>3</td>\n",
       "      <td>B</td>\n",
       "      <td>359065.287230</td>\n",
       "    </tr>\n",
       "    <tr>\n",
       "      <th>7247</th>\n",
       "      <td>69</td>\n",
       "      <td>2.0</td>\n",
       "      <td>54.663924</td>\n",
       "      <td>29.266790</td>\n",
       "      <td>9.0</td>\n",
       "      <td>13</td>\n",
       "      <td>17.0</td>\n",
       "      <td>1999</td>\n",
       "      <td>0.000991</td>\n",
       "      <td>B</td>\n",
       "      <td>B</td>\n",
       "      <td>33</td>\n",
       "      <td>6783</td>\n",
       "      <td>3</td>\n",
       "      <td>NaN</td>\n",
       "      <td>1</td>\n",
       "      <td>9</td>\n",
       "      <td>B</td>\n",
       "      <td>377445.078933</td>\n",
       "    </tr>\n",
       "    <tr>\n",
       "      <th>2018</th>\n",
       "      <td>94</td>\n",
       "      <td>1.0</td>\n",
       "      <td>33.521641</td>\n",
       "      <td>30.155171</td>\n",
       "      <td>1.0</td>\n",
       "      <td>17</td>\n",
       "      <td>16.0</td>\n",
       "      <td>2015</td>\n",
       "      <td>0.282798</td>\n",
       "      <td>B</td>\n",
       "      <td>B</td>\n",
       "      <td>33</td>\n",
       "      <td>8667</td>\n",
       "      <td>2</td>\n",
       "      <td>NaN</td>\n",
       "      <td>0</td>\n",
       "      <td>6</td>\n",
       "      <td>B</td>\n",
       "      <td>381912.162109</td>\n",
       "    </tr>\n",
       "    <tr>\n",
       "      <th>14587</th>\n",
       "      <td>6</td>\n",
       "      <td>1.0</td>\n",
       "      <td>40.696294</td>\n",
       "      <td>42.182049</td>\n",
       "      <td>1.0</td>\n",
       "      <td>4</td>\n",
       "      <td>17.0</td>\n",
       "      <td>2014</td>\n",
       "      <td>0.243205</td>\n",
       "      <td>B</td>\n",
       "      <td>B</td>\n",
       "      <td>5</td>\n",
       "      <td>1564</td>\n",
       "      <td>0</td>\n",
       "      <td>540.0</td>\n",
       "      <td>0</td>\n",
       "      <td>0</td>\n",
       "      <td>B</td>\n",
       "      <td>133072.279471</td>\n",
       "    </tr>\n",
       "    <tr>\n",
       "      <th>3643</th>\n",
       "      <td>46</td>\n",
       "      <td>2.0</td>\n",
       "      <td>44.369058</td>\n",
       "      <td>31.064926</td>\n",
       "      <td>5.0</td>\n",
       "      <td>1</td>\n",
       "      <td>5.0</td>\n",
       "      <td>1965</td>\n",
       "      <td>0.188784</td>\n",
       "      <td>B</td>\n",
       "      <td>B</td>\n",
       "      <td>31</td>\n",
       "      <td>6137</td>\n",
       "      <td>4</td>\n",
       "      <td>NaN</td>\n",
       "      <td>0</td>\n",
       "      <td>1</td>\n",
       "      <td>B</td>\n",
       "      <td>184036.005146</td>\n",
       "    </tr>\n",
       "    <tr>\n",
       "      <th>9838</th>\n",
       "      <td>23</td>\n",
       "      <td>2.0</td>\n",
       "      <td>54.906941</td>\n",
       "      <td>58.338478</td>\n",
       "      <td>10.0</td>\n",
       "      <td>3</td>\n",
       "      <td>3.0</td>\n",
       "      <td>2019</td>\n",
       "      <td>0.005767</td>\n",
       "      <td>B</td>\n",
       "      <td>B</td>\n",
       "      <td>1</td>\n",
       "      <td>388</td>\n",
       "      <td>0</td>\n",
       "      <td>NaN</td>\n",
       "      <td>0</td>\n",
       "      <td>0</td>\n",
       "      <td>B</td>\n",
       "      <td>83530.831950</td>\n",
       "    </tr>\n",
       "    <tr>\n",
       "      <th>4335</th>\n",
       "      <td>9</td>\n",
       "      <td>3.0</td>\n",
       "      <td>81.948135</td>\n",
       "      <td>46.351682</td>\n",
       "      <td>8.0</td>\n",
       "      <td>16</td>\n",
       "      <td>14.0</td>\n",
       "      <td>1997</td>\n",
       "      <td>0.161532</td>\n",
       "      <td>B</td>\n",
       "      <td>B</td>\n",
       "      <td>25</td>\n",
       "      <td>5648</td>\n",
       "      <td>1</td>\n",
       "      <td>30.0</td>\n",
       "      <td>2</td>\n",
       "      <td>4</td>\n",
       "      <td>B</td>\n",
       "      <td>256303.828047</td>\n",
       "    </tr>\n",
       "    <tr>\n",
       "      <th>7087</th>\n",
       "      <td>130</td>\n",
       "      <td>3.0</td>\n",
       "      <td>79.075323</td>\n",
       "      <td>54.500256</td>\n",
       "      <td>8.0</td>\n",
       "      <td>7</td>\n",
       "      <td>13.0</td>\n",
       "      <td>1960</td>\n",
       "      <td>0.341072</td>\n",
       "      <td>B</td>\n",
       "      <td>B</td>\n",
       "      <td>27</td>\n",
       "      <td>5664</td>\n",
       "      <td>48</td>\n",
       "      <td>2300.0</td>\n",
       "      <td>3</td>\n",
       "      <td>11</td>\n",
       "      <td>B</td>\n",
       "      <td>370625.225094</td>\n",
       "    </tr>\n",
       "    <tr>\n",
       "      <th>8500</th>\n",
       "      <td>31</td>\n",
       "      <td>1.0</td>\n",
       "      <td>80.606246</td>\n",
       "      <td>25.299592</td>\n",
       "      <td>29.0</td>\n",
       "      <td>6</td>\n",
       "      <td>40.0</td>\n",
       "      <td>2014</td>\n",
       "      <td>0.151346</td>\n",
       "      <td>B</td>\n",
       "      <td>A</td>\n",
       "      <td>32</td>\n",
       "      <td>5889</td>\n",
       "      <td>10</td>\n",
       "      <td>830.0</td>\n",
       "      <td>4</td>\n",
       "      <td>1</td>\n",
       "      <td>B</td>\n",
       "      <td>460492.010947</td>\n",
       "    </tr>\n",
       "    <tr>\n",
       "      <th>6986</th>\n",
       "      <td>74</td>\n",
       "      <td>1.0</td>\n",
       "      <td>43.990708</td>\n",
       "      <td>43.429296</td>\n",
       "      <td>0.0</td>\n",
       "      <td>10</td>\n",
       "      <td>17.0</td>\n",
       "      <td>2017</td>\n",
       "      <td>0.075779</td>\n",
       "      <td>B</td>\n",
       "      <td>B</td>\n",
       "      <td>6</td>\n",
       "      <td>1437</td>\n",
       "      <td>3</td>\n",
       "      <td>NaN</td>\n",
       "      <td>0</td>\n",
       "      <td>2</td>\n",
       "      <td>B</td>\n",
       "      <td>158693.839439</td>\n",
       "    </tr>\n",
       "    <tr>\n",
       "      <th>3042</th>\n",
       "      <td>69</td>\n",
       "      <td>2.0</td>\n",
       "      <td>53.976424</td>\n",
       "      <td>32.481557</td>\n",
       "      <td>9.0</td>\n",
       "      <td>7</td>\n",
       "      <td>17.0</td>\n",
       "      <td>2001</td>\n",
       "      <td>0.000991</td>\n",
       "      <td>B</td>\n",
       "      <td>B</td>\n",
       "      <td>33</td>\n",
       "      <td>6783</td>\n",
       "      <td>3</td>\n",
       "      <td>NaN</td>\n",
       "      <td>1</td>\n",
       "      <td>9</td>\n",
       "      <td>B</td>\n",
       "      <td>397738.929731</td>\n",
       "    </tr>\n",
       "    <tr>\n",
       "      <th>416</th>\n",
       "      <td>63</td>\n",
       "      <td>1.0</td>\n",
       "      <td>58.959447</td>\n",
       "      <td>56.542921</td>\n",
       "      <td>1.0</td>\n",
       "      <td>20</td>\n",
       "      <td>18.0</td>\n",
       "      <td>2018</td>\n",
       "      <td>0.238617</td>\n",
       "      <td>B</td>\n",
       "      <td>B</td>\n",
       "      <td>26</td>\n",
       "      <td>3889</td>\n",
       "      <td>6</td>\n",
       "      <td>705.0</td>\n",
       "      <td>3</td>\n",
       "      <td>6</td>\n",
       "      <td>B</td>\n",
       "      <td>345310.951954</td>\n",
       "    </tr>\n",
       "    <tr>\n",
       "      <th>10317</th>\n",
       "      <td>75</td>\n",
       "      <td>2.0</td>\n",
       "      <td>43.765745</td>\n",
       "      <td>22.370705</td>\n",
       "      <td>6.0</td>\n",
       "      <td>5</td>\n",
       "      <td>14.0</td>\n",
       "      <td>1970</td>\n",
       "      <td>0.122090</td>\n",
       "      <td>B</td>\n",
       "      <td>B</td>\n",
       "      <td>29</td>\n",
       "      <td>6566</td>\n",
       "      <td>7</td>\n",
       "      <td>1894.0</td>\n",
       "      <td>4</td>\n",
       "      <td>0</td>\n",
       "      <td>B</td>\n",
       "      <td>205516.957220</td>\n",
       "    </tr>\n",
       "    <tr>\n",
       "      <th>3875</th>\n",
       "      <td>27</td>\n",
       "      <td>3.0</td>\n",
       "      <td>78.767930</td>\n",
       "      <td>58.620605</td>\n",
       "      <td>10.0</td>\n",
       "      <td>7</td>\n",
       "      <td>12.0</td>\n",
       "      <td>1977</td>\n",
       "      <td>0.011654</td>\n",
       "      <td>B</td>\n",
       "      <td>B</td>\n",
       "      <td>4</td>\n",
       "      <td>915</td>\n",
       "      <td>0</td>\n",
       "      <td>NaN</td>\n",
       "      <td>0</td>\n",
       "      <td>0</td>\n",
       "      <td>B</td>\n",
       "      <td>176042.285354</td>\n",
       "    </tr>\n",
       "    <tr>\n",
       "      <th>10867</th>\n",
       "      <td>23</td>\n",
       "      <td>2.0</td>\n",
       "      <td>53.317372</td>\n",
       "      <td>NaN</td>\n",
       "      <td>1.0</td>\n",
       "      <td>11</td>\n",
       "      <td>17.0</td>\n",
       "      <td>1977</td>\n",
       "      <td>0.034656</td>\n",
       "      <td>B</td>\n",
       "      <td>B</td>\n",
       "      <td>0</td>\n",
       "      <td>168</td>\n",
       "      <td>0</td>\n",
       "      <td>NaN</td>\n",
       "      <td>0</td>\n",
       "      <td>0</td>\n",
       "      <td>B</td>\n",
       "      <td>109890.139020</td>\n",
       "    </tr>\n",
       "    <tr>\n",
       "      <th>11791</th>\n",
       "      <td>55</td>\n",
       "      <td>2.0</td>\n",
       "      <td>53.547060</td>\n",
       "      <td>32.407939</td>\n",
       "      <td>8.0</td>\n",
       "      <td>13</td>\n",
       "      <td>17.0</td>\n",
       "      <td>1987</td>\n",
       "      <td>0.041365</td>\n",
       "      <td>B</td>\n",
       "      <td>B</td>\n",
       "      <td>31</td>\n",
       "      <td>5569</td>\n",
       "      <td>0</td>\n",
       "      <td>NaN</td>\n",
       "      <td>1</td>\n",
       "      <td>4</td>\n",
       "      <td>B</td>\n",
       "      <td>221618.027734</td>\n",
       "    </tr>\n",
       "    <tr>\n",
       "      <th>7541</th>\n",
       "      <td>1</td>\n",
       "      <td>1.0</td>\n",
       "      <td>60.001130</td>\n",
       "      <td>NaN</td>\n",
       "      <td>0.0</td>\n",
       "      <td>8</td>\n",
       "      <td>0.0</td>\n",
       "      <td>1977</td>\n",
       "      <td>0.007122</td>\n",
       "      <td>B</td>\n",
       "      <td>B</td>\n",
       "      <td>1</td>\n",
       "      <td>264</td>\n",
       "      <td>0</td>\n",
       "      <td>NaN</td>\n",
       "      <td>0</td>\n",
       "      <td>1</td>\n",
       "      <td>B</td>\n",
       "      <td>198345.433642</td>\n",
       "    </tr>\n",
       "    <tr>\n",
       "      <th>6901</th>\n",
       "      <td>44</td>\n",
       "      <td>2.0</td>\n",
       "      <td>46.279389</td>\n",
       "      <td>30.736113</td>\n",
       "      <td>6.0</td>\n",
       "      <td>6</td>\n",
       "      <td>9.0</td>\n",
       "      <td>1980</td>\n",
       "      <td>0.036122</td>\n",
       "      <td>B</td>\n",
       "      <td>B</td>\n",
       "      <td>24</td>\n",
       "      <td>4378</td>\n",
       "      <td>0</td>\n",
       "      <td>1036.0</td>\n",
       "      <td>1</td>\n",
       "      <td>1</td>\n",
       "      <td>B</td>\n",
       "      <td>187299.327683</td>\n",
       "    </tr>\n",
       "    <tr>\n",
       "      <th>16710</th>\n",
       "      <td>23</td>\n",
       "      <td>1.0</td>\n",
       "      <td>47.347306</td>\n",
       "      <td>NaN</td>\n",
       "      <td>1.0</td>\n",
       "      <td>7</td>\n",
       "      <td>9.0</td>\n",
       "      <td>1977</td>\n",
       "      <td>0.014073</td>\n",
       "      <td>B</td>\n",
       "      <td>B</td>\n",
       "      <td>2</td>\n",
       "      <td>475</td>\n",
       "      <td>0</td>\n",
       "      <td>NaN</td>\n",
       "      <td>0</td>\n",
       "      <td>0</td>\n",
       "      <td>B</td>\n",
       "      <td>97300.152929</td>\n",
       "    </tr>\n",
       "    <tr>\n",
       "      <th>6355</th>\n",
       "      <td>45</td>\n",
       "      <td>2.0</td>\n",
       "      <td>71.924217</td>\n",
       "      <td>NaN</td>\n",
       "      <td>0.0</td>\n",
       "      <td>16</td>\n",
       "      <td>0.0</td>\n",
       "      <td>1977</td>\n",
       "      <td>0.195781</td>\n",
       "      <td>B</td>\n",
       "      <td>B</td>\n",
       "      <td>23</td>\n",
       "      <td>5212</td>\n",
       "      <td>6</td>\n",
       "      <td>NaN</td>\n",
       "      <td>3</td>\n",
       "      <td>2</td>\n",
       "      <td>B</td>\n",
       "      <td>375417.950590</td>\n",
       "    </tr>\n",
       "    <tr>\n",
       "      <th>4287</th>\n",
       "      <td>78</td>\n",
       "      <td>2.0</td>\n",
       "      <td>46.585547</td>\n",
       "      <td>31.125000</td>\n",
       "      <td>6.0</td>\n",
       "      <td>7</td>\n",
       "      <td>9.0</td>\n",
       "      <td>1970</td>\n",
       "      <td>0.219006</td>\n",
       "      <td>B</td>\n",
       "      <td>B</td>\n",
       "      <td>28</td>\n",
       "      <td>6746</td>\n",
       "      <td>3</td>\n",
       "      <td>NaN</td>\n",
       "      <td>1</td>\n",
       "      <td>4</td>\n",
       "      <td>B</td>\n",
       "      <td>193698.061597</td>\n",
       "    </tr>\n",
       "    <tr>\n",
       "      <th>2752</th>\n",
       "      <td>52</td>\n",
       "      <td>2.0</td>\n",
       "      <td>65.822202</td>\n",
       "      <td>67.791089</td>\n",
       "      <td>1.0</td>\n",
       "      <td>16</td>\n",
       "      <td>17.0</td>\n",
       "      <td>1977</td>\n",
       "      <td>0.371149</td>\n",
       "      <td>B</td>\n",
       "      <td>B</td>\n",
       "      <td>34</td>\n",
       "      <td>7065</td>\n",
       "      <td>1</td>\n",
       "      <td>750.0</td>\n",
       "      <td>2</td>\n",
       "      <td>5</td>\n",
       "      <td>B</td>\n",
       "      <td>186142.087144</td>\n",
       "    </tr>\n",
       "    <tr>\n",
       "      <th>14126</th>\n",
       "      <td>27</td>\n",
       "      <td>2.0</td>\n",
       "      <td>65.005220</td>\n",
       "      <td>NaN</td>\n",
       "      <td>1.0</td>\n",
       "      <td>8</td>\n",
       "      <td>7.0</td>\n",
       "      <td>2016</td>\n",
       "      <td>0.017647</td>\n",
       "      <td>B</td>\n",
       "      <td>B</td>\n",
       "      <td>2</td>\n",
       "      <td>469</td>\n",
       "      <td>0</td>\n",
       "      <td>NaN</td>\n",
       "      <td>0</td>\n",
       "      <td>0</td>\n",
       "      <td>B</td>\n",
       "      <td>194163.447594</td>\n",
       "    </tr>\n",
       "    <tr>\n",
       "      <th>15822</th>\n",
       "      <td>90</td>\n",
       "      <td>1.0</td>\n",
       "      <td>27.098441</td>\n",
       "      <td>16.660669</td>\n",
       "      <td>3.0</td>\n",
       "      <td>3</td>\n",
       "      <td>5.0</td>\n",
       "      <td>1965</td>\n",
       "      <td>0.265089</td>\n",
       "      <td>B</td>\n",
       "      <td>B</td>\n",
       "      <td>37</td>\n",
       "      <td>5288</td>\n",
       "      <td>0</td>\n",
       "      <td>1937.0</td>\n",
       "      <td>3</td>\n",
       "      <td>2</td>\n",
       "      <td>B</td>\n",
       "      <td>124179.702841</td>\n",
       "    </tr>\n",
       "    <tr>\n",
       "      <th>4026</th>\n",
       "      <td>66</td>\n",
       "      <td>3.0</td>\n",
       "      <td>75.315525</td>\n",
       "      <td>48.968601</td>\n",
       "      <td>7.0</td>\n",
       "      <td>5</td>\n",
       "      <td>5.0</td>\n",
       "      <td>1954</td>\n",
       "      <td>0.161976</td>\n",
       "      <td>B</td>\n",
       "      <td>A</td>\n",
       "      <td>31</td>\n",
       "      <td>7010</td>\n",
       "      <td>5</td>\n",
       "      <td>4508.0</td>\n",
       "      <td>3</td>\n",
       "      <td>7</td>\n",
       "      <td>B</td>\n",
       "      <td>199227.693871</td>\n",
       "    </tr>\n",
       "    <tr>\n",
       "      <th>...</th>\n",
       "      <td>...</td>\n",
       "      <td>...</td>\n",
       "      <td>...</td>\n",
       "      <td>...</td>\n",
       "      <td>...</td>\n",
       "      <td>...</td>\n",
       "      <td>...</td>\n",
       "      <td>...</td>\n",
       "      <td>...</td>\n",
       "      <td>...</td>\n",
       "      <td>...</td>\n",
       "      <td>...</td>\n",
       "      <td>...</td>\n",
       "      <td>...</td>\n",
       "      <td>...</td>\n",
       "      <td>...</td>\n",
       "      <td>...</td>\n",
       "      <td>...</td>\n",
       "      <td>...</td>\n",
       "    </tr>\n",
       "    <tr>\n",
       "      <th>5607</th>\n",
       "      <td>151</td>\n",
       "      <td>2.0</td>\n",
       "      <td>55.047132</td>\n",
       "      <td>34.756889</td>\n",
       "      <td>8.0</td>\n",
       "      <td>17</td>\n",
       "      <td>17.0</td>\n",
       "      <td>1988</td>\n",
       "      <td>0.236108</td>\n",
       "      <td>B</td>\n",
       "      <td>B</td>\n",
       "      <td>16</td>\n",
       "      <td>3893</td>\n",
       "      <td>27</td>\n",
       "      <td>NaN</td>\n",
       "      <td>3</td>\n",
       "      <td>10</td>\n",
       "      <td>B</td>\n",
       "      <td>303235.478213</td>\n",
       "    </tr>\n",
       "    <tr>\n",
       "      <th>9043</th>\n",
       "      <td>113</td>\n",
       "      <td>1.0</td>\n",
       "      <td>36.991716</td>\n",
       "      <td>22.458834</td>\n",
       "      <td>6.0</td>\n",
       "      <td>9</td>\n",
       "      <td>9.0</td>\n",
       "      <td>1970</td>\n",
       "      <td>0.050756</td>\n",
       "      <td>B</td>\n",
       "      <td>B</td>\n",
       "      <td>24</td>\n",
       "      <td>5469</td>\n",
       "      <td>1</td>\n",
       "      <td>145.0</td>\n",
       "      <td>0</td>\n",
       "      <td>1</td>\n",
       "      <td>B</td>\n",
       "      <td>171624.050035</td>\n",
       "    </tr>\n",
       "    <tr>\n",
       "      <th>7335</th>\n",
       "      <td>67</td>\n",
       "      <td>3.0</td>\n",
       "      <td>62.715263</td>\n",
       "      <td>40.782911</td>\n",
       "      <td>6.0</td>\n",
       "      <td>3</td>\n",
       "      <td>9.0</td>\n",
       "      <td>1976</td>\n",
       "      <td>0.100456</td>\n",
       "      <td>B</td>\n",
       "      <td>B</td>\n",
       "      <td>43</td>\n",
       "      <td>7227</td>\n",
       "      <td>0</td>\n",
       "      <td>NaN</td>\n",
       "      <td>1</td>\n",
       "      <td>6</td>\n",
       "      <td>A</td>\n",
       "      <td>236123.698324</td>\n",
       "    </tr>\n",
       "    <tr>\n",
       "      <th>4960</th>\n",
       "      <td>44</td>\n",
       "      <td>2.0</td>\n",
       "      <td>45.670469</td>\n",
       "      <td>31.009474</td>\n",
       "      <td>6.0</td>\n",
       "      <td>5</td>\n",
       "      <td>9.0</td>\n",
       "      <td>1983</td>\n",
       "      <td>0.036122</td>\n",
       "      <td>B</td>\n",
       "      <td>B</td>\n",
       "      <td>24</td>\n",
       "      <td>4378</td>\n",
       "      <td>0</td>\n",
       "      <td>1036.0</td>\n",
       "      <td>1</td>\n",
       "      <td>1</td>\n",
       "      <td>B</td>\n",
       "      <td>190541.061424</td>\n",
       "    </tr>\n",
       "    <tr>\n",
       "      <th>14362</th>\n",
       "      <td>27</td>\n",
       "      <td>1.0</td>\n",
       "      <td>40.473603</td>\n",
       "      <td>NaN</td>\n",
       "      <td>1.0</td>\n",
       "      <td>5</td>\n",
       "      <td>12.0</td>\n",
       "      <td>1977</td>\n",
       "      <td>0.011654</td>\n",
       "      <td>B</td>\n",
       "      <td>B</td>\n",
       "      <td>4</td>\n",
       "      <td>915</td>\n",
       "      <td>0</td>\n",
       "      <td>NaN</td>\n",
       "      <td>0</td>\n",
       "      <td>0</td>\n",
       "      <td>B</td>\n",
       "      <td>105695.797176</td>\n",
       "    </tr>\n",
       "    <tr>\n",
       "      <th>13041</th>\n",
       "      <td>26</td>\n",
       "      <td>2.0</td>\n",
       "      <td>47.818802</td>\n",
       "      <td>29.848131</td>\n",
       "      <td>5.0</td>\n",
       "      <td>4</td>\n",
       "      <td>5.0</td>\n",
       "      <td>1965</td>\n",
       "      <td>0.000000</td>\n",
       "      <td>B</td>\n",
       "      <td>B</td>\n",
       "      <td>36</td>\n",
       "      <td>6714</td>\n",
       "      <td>2</td>\n",
       "      <td>2672.0</td>\n",
       "      <td>0</td>\n",
       "      <td>2</td>\n",
       "      <td>B</td>\n",
       "      <td>217361.700539</td>\n",
       "    </tr>\n",
       "    <tr>\n",
       "      <th>12672</th>\n",
       "      <td>81</td>\n",
       "      <td>3.0</td>\n",
       "      <td>86.385126</td>\n",
       "      <td>52.607466</td>\n",
       "      <td>7.0</td>\n",
       "      <td>3</td>\n",
       "      <td>10.0</td>\n",
       "      <td>1955</td>\n",
       "      <td>0.319809</td>\n",
       "      <td>B</td>\n",
       "      <td>B</td>\n",
       "      <td>25</td>\n",
       "      <td>4756</td>\n",
       "      <td>16</td>\n",
       "      <td>2857.0</td>\n",
       "      <td>5</td>\n",
       "      <td>8</td>\n",
       "      <td>B</td>\n",
       "      <td>420583.792067</td>\n",
       "    </tr>\n",
       "    <tr>\n",
       "      <th>12723</th>\n",
       "      <td>49</td>\n",
       "      <td>2.0</td>\n",
       "      <td>42.983366</td>\n",
       "      <td>26.687561</td>\n",
       "      <td>5.0</td>\n",
       "      <td>6</td>\n",
       "      <td>5.0</td>\n",
       "      <td>1964</td>\n",
       "      <td>0.020741</td>\n",
       "      <td>B</td>\n",
       "      <td>B</td>\n",
       "      <td>24</td>\n",
       "      <td>5613</td>\n",
       "      <td>5</td>\n",
       "      <td>1340.0</td>\n",
       "      <td>2</td>\n",
       "      <td>5</td>\n",
       "      <td>B</td>\n",
       "      <td>221709.298626</td>\n",
       "    </tr>\n",
       "    <tr>\n",
       "      <th>11723</th>\n",
       "      <td>62</td>\n",
       "      <td>1.0</td>\n",
       "      <td>46.771683</td>\n",
       "      <td>NaN</td>\n",
       "      <td>1.0</td>\n",
       "      <td>7</td>\n",
       "      <td>17.0</td>\n",
       "      <td>1977</td>\n",
       "      <td>0.072158</td>\n",
       "      <td>B</td>\n",
       "      <td>B</td>\n",
       "      <td>2</td>\n",
       "      <td>629</td>\n",
       "      <td>1</td>\n",
       "      <td>NaN</td>\n",
       "      <td>0</td>\n",
       "      <td>0</td>\n",
       "      <td>A</td>\n",
       "      <td>123291.314472</td>\n",
       "    </tr>\n",
       "    <tr>\n",
       "      <th>14322</th>\n",
       "      <td>1</td>\n",
       "      <td>2.0</td>\n",
       "      <td>62.411905</td>\n",
       "      <td>63.593900</td>\n",
       "      <td>1.0</td>\n",
       "      <td>24</td>\n",
       "      <td>24.0</td>\n",
       "      <td>1977</td>\n",
       "      <td>0.007122</td>\n",
       "      <td>B</td>\n",
       "      <td>B</td>\n",
       "      <td>1</td>\n",
       "      <td>264</td>\n",
       "      <td>0</td>\n",
       "      <td>NaN</td>\n",
       "      <td>0</td>\n",
       "      <td>1</td>\n",
       "      <td>B</td>\n",
       "      <td>209817.034644</td>\n",
       "    </tr>\n",
       "    <tr>\n",
       "      <th>16362</th>\n",
       "      <td>5</td>\n",
       "      <td>3.0</td>\n",
       "      <td>59.101223</td>\n",
       "      <td>40.336614</td>\n",
       "      <td>5.0</td>\n",
       "      <td>11</td>\n",
       "      <td>9.0</td>\n",
       "      <td>1974</td>\n",
       "      <td>0.150818</td>\n",
       "      <td>B</td>\n",
       "      <td>B</td>\n",
       "      <td>16</td>\n",
       "      <td>3433</td>\n",
       "      <td>4</td>\n",
       "      <td>2643.0</td>\n",
       "      <td>4</td>\n",
       "      <td>5</td>\n",
       "      <td>B</td>\n",
       "      <td>257050.976259</td>\n",
       "    </tr>\n",
       "    <tr>\n",
       "      <th>9808</th>\n",
       "      <td>99</td>\n",
       "      <td>3.0</td>\n",
       "      <td>61.990876</td>\n",
       "      <td>46.009688</td>\n",
       "      <td>5.0</td>\n",
       "      <td>5</td>\n",
       "      <td>9.0</td>\n",
       "      <td>1970</td>\n",
       "      <td>0.033494</td>\n",
       "      <td>B</td>\n",
       "      <td>B</td>\n",
       "      <td>66</td>\n",
       "      <td>10573</td>\n",
       "      <td>1</td>\n",
       "      <td>1322.0</td>\n",
       "      <td>3</td>\n",
       "      <td>8</td>\n",
       "      <td>B</td>\n",
       "      <td>197293.229058</td>\n",
       "    </tr>\n",
       "    <tr>\n",
       "      <th>4924</th>\n",
       "      <td>101</td>\n",
       "      <td>2.0</td>\n",
       "      <td>46.606298</td>\n",
       "      <td>29.882507</td>\n",
       "      <td>5.0</td>\n",
       "      <td>4</td>\n",
       "      <td>5.0</td>\n",
       "      <td>1960</td>\n",
       "      <td>0.225825</td>\n",
       "      <td>A</td>\n",
       "      <td>B</td>\n",
       "      <td>41</td>\n",
       "      <td>6558</td>\n",
       "      <td>7</td>\n",
       "      <td>1548.0</td>\n",
       "      <td>3</td>\n",
       "      <td>2</td>\n",
       "      <td>B</td>\n",
       "      <td>195841.345382</td>\n",
       "    </tr>\n",
       "    <tr>\n",
       "      <th>948</th>\n",
       "      <td>23</td>\n",
       "      <td>2.0</td>\n",
       "      <td>57.363838</td>\n",
       "      <td>55.604269</td>\n",
       "      <td>1.0</td>\n",
       "      <td>3</td>\n",
       "      <td>15.0</td>\n",
       "      <td>1977</td>\n",
       "      <td>0.005767</td>\n",
       "      <td>B</td>\n",
       "      <td>B</td>\n",
       "      <td>1</td>\n",
       "      <td>388</td>\n",
       "      <td>0</td>\n",
       "      <td>NaN</td>\n",
       "      <td>0</td>\n",
       "      <td>0</td>\n",
       "      <td>B</td>\n",
       "      <td>95227.629054</td>\n",
       "    </tr>\n",
       "    <tr>\n",
       "      <th>16628</th>\n",
       "      <td>78</td>\n",
       "      <td>1.0</td>\n",
       "      <td>38.668396</td>\n",
       "      <td>22.102823</td>\n",
       "      <td>6.0</td>\n",
       "      <td>16</td>\n",
       "      <td>16.0</td>\n",
       "      <td>1987</td>\n",
       "      <td>0.092291</td>\n",
       "      <td>B</td>\n",
       "      <td>B</td>\n",
       "      <td>21</td>\n",
       "      <td>4346</td>\n",
       "      <td>2</td>\n",
       "      <td>165.0</td>\n",
       "      <td>1</td>\n",
       "      <td>2</td>\n",
       "      <td>B</td>\n",
       "      <td>131950.133596</td>\n",
       "    </tr>\n",
       "    <tr>\n",
       "      <th>5739</th>\n",
       "      <td>1</td>\n",
       "      <td>1.0</td>\n",
       "      <td>42.772807</td>\n",
       "      <td>40.545361</td>\n",
       "      <td>1.0</td>\n",
       "      <td>11</td>\n",
       "      <td>17.0</td>\n",
       "      <td>2019</td>\n",
       "      <td>0.007122</td>\n",
       "      <td>B</td>\n",
       "      <td>B</td>\n",
       "      <td>1</td>\n",
       "      <td>264</td>\n",
       "      <td>0</td>\n",
       "      <td>NaN</td>\n",
       "      <td>0</td>\n",
       "      <td>1</td>\n",
       "      <td>B</td>\n",
       "      <td>130596.359383</td>\n",
       "    </tr>\n",
       "    <tr>\n",
       "      <th>10718</th>\n",
       "      <td>84</td>\n",
       "      <td>1.0</td>\n",
       "      <td>44.078837</td>\n",
       "      <td>18.397514</td>\n",
       "      <td>10.0</td>\n",
       "      <td>3</td>\n",
       "      <td>12.0</td>\n",
       "      <td>1985</td>\n",
       "      <td>0.006076</td>\n",
       "      <td>B</td>\n",
       "      <td>B</td>\n",
       "      <td>30</td>\n",
       "      <td>5285</td>\n",
       "      <td>0</td>\n",
       "      <td>645.0</td>\n",
       "      <td>6</td>\n",
       "      <td>6</td>\n",
       "      <td>B</td>\n",
       "      <td>91785.488458</td>\n",
       "    </tr>\n",
       "    <tr>\n",
       "      <th>9616</th>\n",
       "      <td>83</td>\n",
       "      <td>1.0</td>\n",
       "      <td>43.676682</td>\n",
       "      <td>23.029719</td>\n",
       "      <td>8.0</td>\n",
       "      <td>11</td>\n",
       "      <td>12.0</td>\n",
       "      <td>1984</td>\n",
       "      <td>0.007720</td>\n",
       "      <td>B</td>\n",
       "      <td>B</td>\n",
       "      <td>38</td>\n",
       "      <td>4788</td>\n",
       "      <td>2</td>\n",
       "      <td>NaN</td>\n",
       "      <td>0</td>\n",
       "      <td>4</td>\n",
       "      <td>B</td>\n",
       "      <td>199612.222121</td>\n",
       "    </tr>\n",
       "    <tr>\n",
       "      <th>7486</th>\n",
       "      <td>44</td>\n",
       "      <td>3.0</td>\n",
       "      <td>60.537182</td>\n",
       "      <td>44.954213</td>\n",
       "      <td>6.0</td>\n",
       "      <td>5</td>\n",
       "      <td>9.0</td>\n",
       "      <td>1971</td>\n",
       "      <td>0.036122</td>\n",
       "      <td>B</td>\n",
       "      <td>B</td>\n",
       "      <td>24</td>\n",
       "      <td>4378</td>\n",
       "      <td>0</td>\n",
       "      <td>1036.0</td>\n",
       "      <td>1</td>\n",
       "      <td>1</td>\n",
       "      <td>B</td>\n",
       "      <td>262794.635749</td>\n",
       "    </tr>\n",
       "    <tr>\n",
       "      <th>2013</th>\n",
       "      <td>9</td>\n",
       "      <td>1.0</td>\n",
       "      <td>43.706289</td>\n",
       "      <td>21.096625</td>\n",
       "      <td>8.0</td>\n",
       "      <td>5</td>\n",
       "      <td>14.0</td>\n",
       "      <td>1990</td>\n",
       "      <td>0.136244</td>\n",
       "      <td>B</td>\n",
       "      <td>B</td>\n",
       "      <td>11</td>\n",
       "      <td>2370</td>\n",
       "      <td>0</td>\n",
       "      <td>NaN</td>\n",
       "      <td>0</td>\n",
       "      <td>1</td>\n",
       "      <td>B</td>\n",
       "      <td>135290.410175</td>\n",
       "    </tr>\n",
       "    <tr>\n",
       "      <th>11956</th>\n",
       "      <td>62</td>\n",
       "      <td>3.0</td>\n",
       "      <td>86.221496</td>\n",
       "      <td>3.032334</td>\n",
       "      <td>1.0</td>\n",
       "      <td>3</td>\n",
       "      <td>15.0</td>\n",
       "      <td>2017</td>\n",
       "      <td>0.072158</td>\n",
       "      <td>B</td>\n",
       "      <td>B</td>\n",
       "      <td>2</td>\n",
       "      <td>629</td>\n",
       "      <td>1</td>\n",
       "      <td>NaN</td>\n",
       "      <td>0</td>\n",
       "      <td>0</td>\n",
       "      <td>A</td>\n",
       "      <td>167544.244106</td>\n",
       "    </tr>\n",
       "    <tr>\n",
       "      <th>14941</th>\n",
       "      <td>6</td>\n",
       "      <td>1.0</td>\n",
       "      <td>42.095723</td>\n",
       "      <td>NaN</td>\n",
       "      <td>1.0</td>\n",
       "      <td>16</td>\n",
       "      <td>17.0</td>\n",
       "      <td>1977</td>\n",
       "      <td>0.243205</td>\n",
       "      <td>B</td>\n",
       "      <td>B</td>\n",
       "      <td>5</td>\n",
       "      <td>1564</td>\n",
       "      <td>0</td>\n",
       "      <td>540.0</td>\n",
       "      <td>0</td>\n",
       "      <td>0</td>\n",
       "      <td>B</td>\n",
       "      <td>135062.801315</td>\n",
       "    </tr>\n",
       "    <tr>\n",
       "      <th>11111</th>\n",
       "      <td>99</td>\n",
       "      <td>3.0</td>\n",
       "      <td>60.629944</td>\n",
       "      <td>39.227894</td>\n",
       "      <td>6.0</td>\n",
       "      <td>9</td>\n",
       "      <td>9.0</td>\n",
       "      <td>1972</td>\n",
       "      <td>0.012339</td>\n",
       "      <td>B</td>\n",
       "      <td>B</td>\n",
       "      <td>35</td>\n",
       "      <td>5776</td>\n",
       "      <td>1</td>\n",
       "      <td>2078.0</td>\n",
       "      <td>2</td>\n",
       "      <td>4</td>\n",
       "      <td>B</td>\n",
       "      <td>214211.360333</td>\n",
       "    </tr>\n",
       "    <tr>\n",
       "      <th>2738</th>\n",
       "      <td>23</td>\n",
       "      <td>3.0</td>\n",
       "      <td>67.902466</td>\n",
       "      <td>NaN</td>\n",
       "      <td>1.0</td>\n",
       "      <td>4</td>\n",
       "      <td>3.0</td>\n",
       "      <td>1977</td>\n",
       "      <td>0.005767</td>\n",
       "      <td>B</td>\n",
       "      <td>B</td>\n",
       "      <td>1</td>\n",
       "      <td>388</td>\n",
       "      <td>0</td>\n",
       "      <td>NaN</td>\n",
       "      <td>0</td>\n",
       "      <td>0</td>\n",
       "      <td>B</td>\n",
       "      <td>106173.742604</td>\n",
       "    </tr>\n",
       "    <tr>\n",
       "      <th>11153</th>\n",
       "      <td>7</td>\n",
       "      <td>1.0</td>\n",
       "      <td>32.712188</td>\n",
       "      <td>17.725535</td>\n",
       "      <td>5.0</td>\n",
       "      <td>3</td>\n",
       "      <td>5.0</td>\n",
       "      <td>1963</td>\n",
       "      <td>0.035145</td>\n",
       "      <td>B</td>\n",
       "      <td>B</td>\n",
       "      <td>42</td>\n",
       "      <td>9292</td>\n",
       "      <td>3</td>\n",
       "      <td>2620.0</td>\n",
       "      <td>0</td>\n",
       "      <td>3</td>\n",
       "      <td>B</td>\n",
       "      <td>156935.288025</td>\n",
       "    </tr>\n",
       "    <tr>\n",
       "      <th>3212</th>\n",
       "      <td>67</td>\n",
       "      <td>2.0</td>\n",
       "      <td>57.483966</td>\n",
       "      <td>36.532140</td>\n",
       "      <td>9.0</td>\n",
       "      <td>12</td>\n",
       "      <td>16.0</td>\n",
       "      <td>1978</td>\n",
       "      <td>0.007720</td>\n",
       "      <td>B</td>\n",
       "      <td>B</td>\n",
       "      <td>38</td>\n",
       "      <td>4788</td>\n",
       "      <td>2</td>\n",
       "      <td>NaN</td>\n",
       "      <td>0</td>\n",
       "      <td>4</td>\n",
       "      <td>B</td>\n",
       "      <td>244256.756548</td>\n",
       "    </tr>\n",
       "    <tr>\n",
       "      <th>15349</th>\n",
       "      <td>25</td>\n",
       "      <td>2.0</td>\n",
       "      <td>57.681356</td>\n",
       "      <td>34.206017</td>\n",
       "      <td>10.0</td>\n",
       "      <td>10</td>\n",
       "      <td>24.0</td>\n",
       "      <td>1977</td>\n",
       "      <td>0.069753</td>\n",
       "      <td>B</td>\n",
       "      <td>B</td>\n",
       "      <td>53</td>\n",
       "      <td>13670</td>\n",
       "      <td>4</td>\n",
       "      <td>NaN</td>\n",
       "      <td>1</td>\n",
       "      <td>11</td>\n",
       "      <td>B</td>\n",
       "      <td>236529.011881</td>\n",
       "    </tr>\n",
       "    <tr>\n",
       "      <th>7627</th>\n",
       "      <td>58</td>\n",
       "      <td>3.0</td>\n",
       "      <td>82.535096</td>\n",
       "      <td>1.626501</td>\n",
       "      <td>1.0</td>\n",
       "      <td>16</td>\n",
       "      <td>17.0</td>\n",
       "      <td>2016</td>\n",
       "      <td>0.437885</td>\n",
       "      <td>B</td>\n",
       "      <td>B</td>\n",
       "      <td>23</td>\n",
       "      <td>5735</td>\n",
       "      <td>3</td>\n",
       "      <td>1084.0</td>\n",
       "      <td>0</td>\n",
       "      <td>5</td>\n",
       "      <td>B</td>\n",
       "      <td>218975.318679</td>\n",
       "    </tr>\n",
       "    <tr>\n",
       "      <th>13171</th>\n",
       "      <td>85</td>\n",
       "      <td>2.0</td>\n",
       "      <td>56.050352</td>\n",
       "      <td>NaN</td>\n",
       "      <td>1.0</td>\n",
       "      <td>3</td>\n",
       "      <td>1.0</td>\n",
       "      <td>1977</td>\n",
       "      <td>0.072158</td>\n",
       "      <td>B</td>\n",
       "      <td>B</td>\n",
       "      <td>2</td>\n",
       "      <td>629</td>\n",
       "      <td>1</td>\n",
       "      <td>NaN</td>\n",
       "      <td>0</td>\n",
       "      <td>0</td>\n",
       "      <td>A</td>\n",
       "      <td>133563.247029</td>\n",
       "    </tr>\n",
       "    <tr>\n",
       "      <th>9413</th>\n",
       "      <td>79</td>\n",
       "      <td>1.0</td>\n",
       "      <td>39.429666</td>\n",
       "      <td>18.519733</td>\n",
       "      <td>9.0</td>\n",
       "      <td>2</td>\n",
       "      <td>16.0</td>\n",
       "      <td>1981</td>\n",
       "      <td>0.169091</td>\n",
       "      <td>B</td>\n",
       "      <td>B</td>\n",
       "      <td>19</td>\n",
       "      <td>3856</td>\n",
       "      <td>10</td>\n",
       "      <td>NaN</td>\n",
       "      <td>2</td>\n",
       "      <td>5</td>\n",
       "      <td>B</td>\n",
       "      <td>174952.644191</td>\n",
       "    </tr>\n",
       "  </tbody>\n",
       "</table>\n",
       "<p>2500 rows × 19 columns</p>\n",
       "</div>"
      ],
      "text/plain": [
       "       DistrictId  Rooms     Square  LifeSquare  KitchenSquare  Floor  \\\n",
       "Id                                                                      \n",
       "3702           21    2.0  48.812195   34.679779            5.0      5   \n",
       "12848          61    3.0  81.103039   49.310278            8.0      4   \n",
       "2239            6    3.0  82.882978    3.977650            1.0      8   \n",
       "15611          23    1.0  33.863324   29.993297            0.0      5   \n",
       "5634           52    1.0  43.095135         NaN            1.0     10   \n",
       "14726          53    3.0  84.569998   60.613297           12.0     18   \n",
       "7247           69    2.0  54.663924   29.266790            9.0     13   \n",
       "2018           94    1.0  33.521641   30.155171            1.0     17   \n",
       "14587           6    1.0  40.696294   42.182049            1.0      4   \n",
       "3643           46    2.0  44.369058   31.064926            5.0      1   \n",
       "9838           23    2.0  54.906941   58.338478           10.0      3   \n",
       "4335            9    3.0  81.948135   46.351682            8.0     16   \n",
       "7087          130    3.0  79.075323   54.500256            8.0      7   \n",
       "8500           31    1.0  80.606246   25.299592           29.0      6   \n",
       "6986           74    1.0  43.990708   43.429296            0.0     10   \n",
       "3042           69    2.0  53.976424   32.481557            9.0      7   \n",
       "416            63    1.0  58.959447   56.542921            1.0     20   \n",
       "10317          75    2.0  43.765745   22.370705            6.0      5   \n",
       "3875           27    3.0  78.767930   58.620605           10.0      7   \n",
       "10867          23    2.0  53.317372         NaN            1.0     11   \n",
       "11791          55    2.0  53.547060   32.407939            8.0     13   \n",
       "7541            1    1.0  60.001130         NaN            0.0      8   \n",
       "6901           44    2.0  46.279389   30.736113            6.0      6   \n",
       "16710          23    1.0  47.347306         NaN            1.0      7   \n",
       "6355           45    2.0  71.924217         NaN            0.0     16   \n",
       "4287           78    2.0  46.585547   31.125000            6.0      7   \n",
       "2752           52    2.0  65.822202   67.791089            1.0     16   \n",
       "14126          27    2.0  65.005220         NaN            1.0      8   \n",
       "15822          90    1.0  27.098441   16.660669            3.0      3   \n",
       "4026           66    3.0  75.315525   48.968601            7.0      5   \n",
       "...           ...    ...        ...         ...            ...    ...   \n",
       "5607          151    2.0  55.047132   34.756889            8.0     17   \n",
       "9043          113    1.0  36.991716   22.458834            6.0      9   \n",
       "7335           67    3.0  62.715263   40.782911            6.0      3   \n",
       "4960           44    2.0  45.670469   31.009474            6.0      5   \n",
       "14362          27    1.0  40.473603         NaN            1.0      5   \n",
       "13041          26    2.0  47.818802   29.848131            5.0      4   \n",
       "12672          81    3.0  86.385126   52.607466            7.0      3   \n",
       "12723          49    2.0  42.983366   26.687561            5.0      6   \n",
       "11723          62    1.0  46.771683         NaN            1.0      7   \n",
       "14322           1    2.0  62.411905   63.593900            1.0     24   \n",
       "16362           5    3.0  59.101223   40.336614            5.0     11   \n",
       "9808           99    3.0  61.990876   46.009688            5.0      5   \n",
       "4924          101    2.0  46.606298   29.882507            5.0      4   \n",
       "948            23    2.0  57.363838   55.604269            1.0      3   \n",
       "16628          78    1.0  38.668396   22.102823            6.0     16   \n",
       "5739            1    1.0  42.772807   40.545361            1.0     11   \n",
       "10718          84    1.0  44.078837   18.397514           10.0      3   \n",
       "9616           83    1.0  43.676682   23.029719            8.0     11   \n",
       "7486           44    3.0  60.537182   44.954213            6.0      5   \n",
       "2013            9    1.0  43.706289   21.096625            8.0      5   \n",
       "11956          62    3.0  86.221496    3.032334            1.0      3   \n",
       "14941           6    1.0  42.095723         NaN            1.0     16   \n",
       "11111          99    3.0  60.629944   39.227894            6.0      9   \n",
       "2738           23    3.0  67.902466         NaN            1.0      4   \n",
       "11153           7    1.0  32.712188   17.725535            5.0      3   \n",
       "3212           67    2.0  57.483966   36.532140            9.0     12   \n",
       "15349          25    2.0  57.681356   34.206017           10.0     10   \n",
       "7627           58    3.0  82.535096    1.626501            1.0     16   \n",
       "13171          85    2.0  56.050352         NaN            1.0      3   \n",
       "9413           79    1.0  39.429666   18.519733            9.0      2   \n",
       "\n",
       "       HouseFloor  HouseYear  Ecology_1 Ecology_2 Ecology_3  Social_1  \\\n",
       "Id                                                                      \n",
       "3702          5.0       1963   0.034331         B         B        25   \n",
       "12848         4.0       1960   0.298205         B         B        16   \n",
       "2239         17.0       1977   0.243205         B         B         5   \n",
       "15611         4.0       1977   0.034656         B         B         0   \n",
       "5634         17.0       1977   0.371149         B         B        34   \n",
       "14726        24.0       2017   0.049637         B         B        34   \n",
       "7247         17.0       1999   0.000991         B         B        33   \n",
       "2018         16.0       2015   0.282798         B         B        33   \n",
       "14587        17.0       2014   0.243205         B         B         5   \n",
       "3643          5.0       1965   0.188784         B         B        31   \n",
       "9838          3.0       2019   0.005767         B         B         1   \n",
       "4335         14.0       1997   0.161532         B         B        25   \n",
       "7087         13.0       1960   0.341072         B         B        27   \n",
       "8500         40.0       2014   0.151346         B         A        32   \n",
       "6986         17.0       2017   0.075779         B         B         6   \n",
       "3042         17.0       2001   0.000991         B         B        33   \n",
       "416          18.0       2018   0.238617         B         B        26   \n",
       "10317        14.0       1970   0.122090         B         B        29   \n",
       "3875         12.0       1977   0.011654         B         B         4   \n",
       "10867        17.0       1977   0.034656         B         B         0   \n",
       "11791        17.0       1987   0.041365         B         B        31   \n",
       "7541          0.0       1977   0.007122         B         B         1   \n",
       "6901          9.0       1980   0.036122         B         B        24   \n",
       "16710         9.0       1977   0.014073         B         B         2   \n",
       "6355          0.0       1977   0.195781         B         B        23   \n",
       "4287          9.0       1970   0.219006         B         B        28   \n",
       "2752         17.0       1977   0.371149         B         B        34   \n",
       "14126         7.0       2016   0.017647         B         B         2   \n",
       "15822         5.0       1965   0.265089         B         B        37   \n",
       "4026          5.0       1954   0.161976         B         A        31   \n",
       "...           ...        ...        ...       ...       ...       ...   \n",
       "5607         17.0       1988   0.236108         B         B        16   \n",
       "9043          9.0       1970   0.050756         B         B        24   \n",
       "7335          9.0       1976   0.100456         B         B        43   \n",
       "4960          9.0       1983   0.036122         B         B        24   \n",
       "14362        12.0       1977   0.011654         B         B         4   \n",
       "13041         5.0       1965   0.000000         B         B        36   \n",
       "12672        10.0       1955   0.319809         B         B        25   \n",
       "12723         5.0       1964   0.020741         B         B        24   \n",
       "11723        17.0       1977   0.072158         B         B         2   \n",
       "14322        24.0       1977   0.007122         B         B         1   \n",
       "16362         9.0       1974   0.150818         B         B        16   \n",
       "9808          9.0       1970   0.033494         B         B        66   \n",
       "4924          5.0       1960   0.225825         A         B        41   \n",
       "948          15.0       1977   0.005767         B         B         1   \n",
       "16628        16.0       1987   0.092291         B         B        21   \n",
       "5739         17.0       2019   0.007122         B         B         1   \n",
       "10718        12.0       1985   0.006076         B         B        30   \n",
       "9616         12.0       1984   0.007720         B         B        38   \n",
       "7486          9.0       1971   0.036122         B         B        24   \n",
       "2013         14.0       1990   0.136244         B         B        11   \n",
       "11956        15.0       2017   0.072158         B         B         2   \n",
       "14941        17.0       1977   0.243205         B         B         5   \n",
       "11111         9.0       1972   0.012339         B         B        35   \n",
       "2738          3.0       1977   0.005767         B         B         1   \n",
       "11153         5.0       1963   0.035145         B         B        42   \n",
       "3212         16.0       1978   0.007720         B         B        38   \n",
       "15349        24.0       1977   0.069753         B         B        53   \n",
       "7627         17.0       2016   0.437885         B         B        23   \n",
       "13171         1.0       1977   0.072158         B         B         2   \n",
       "9413         16.0       1981   0.169091         B         B        19   \n",
       "\n",
       "       Social_2  Social_3  Healthcare_1  Helthcare_2  Shops_1 Shops_2  \\\n",
       "Id                                                                      \n",
       "3702       5487         3           NaN            0        4       B   \n",
       "12848      4048         3           NaN            1        3       B   \n",
       "2239       1564         0         540.0            0        0       B   \n",
       "15611       168         0           NaN            0        0       B   \n",
       "5634       7065         1         750.0            2        5       B   \n",
       "14726      7759         0         229.0            1        3       B   \n",
       "7247       6783         3           NaN            1        9       B   \n",
       "2018       8667         2           NaN            0        6       B   \n",
       "14587      1564         0         540.0            0        0       B   \n",
       "3643       6137         4           NaN            0        1       B   \n",
       "9838        388         0           NaN            0        0       B   \n",
       "4335       5648         1          30.0            2        4       B   \n",
       "7087       5664        48        2300.0            3       11       B   \n",
       "8500       5889        10         830.0            4        1       B   \n",
       "6986       1437         3           NaN            0        2       B   \n",
       "3042       6783         3           NaN            1        9       B   \n",
       "416        3889         6         705.0            3        6       B   \n",
       "10317      6566         7        1894.0            4        0       B   \n",
       "3875        915         0           NaN            0        0       B   \n",
       "10867       168         0           NaN            0        0       B   \n",
       "11791      5569         0           NaN            1        4       B   \n",
       "7541        264         0           NaN            0        1       B   \n",
       "6901       4378         0        1036.0            1        1       B   \n",
       "16710       475         0           NaN            0        0       B   \n",
       "6355       5212         6           NaN            3        2       B   \n",
       "4287       6746         3           NaN            1        4       B   \n",
       "2752       7065         1         750.0            2        5       B   \n",
       "14126       469         0           NaN            0        0       B   \n",
       "15822      5288         0        1937.0            3        2       B   \n",
       "4026       7010         5        4508.0            3        7       B   \n",
       "...         ...       ...           ...          ...      ...     ...   \n",
       "5607       3893        27           NaN            3       10       B   \n",
       "9043       5469         1         145.0            0        1       B   \n",
       "7335       7227         0           NaN            1        6       A   \n",
       "4960       4378         0        1036.0            1        1       B   \n",
       "14362       915         0           NaN            0        0       B   \n",
       "13041      6714         2        2672.0            0        2       B   \n",
       "12672      4756        16        2857.0            5        8       B   \n",
       "12723      5613         5        1340.0            2        5       B   \n",
       "11723       629         1           NaN            0        0       A   \n",
       "14322       264         0           NaN            0        1       B   \n",
       "16362      3433         4        2643.0            4        5       B   \n",
       "9808      10573         1        1322.0            3        8       B   \n",
       "4924       6558         7        1548.0            3        2       B   \n",
       "948         388         0           NaN            0        0       B   \n",
       "16628      4346         2         165.0            1        2       B   \n",
       "5739        264         0           NaN            0        1       B   \n",
       "10718      5285         0         645.0            6        6       B   \n",
       "9616       4788         2           NaN            0        4       B   \n",
       "7486       4378         0        1036.0            1        1       B   \n",
       "2013       2370         0           NaN            0        1       B   \n",
       "11956       629         1           NaN            0        0       A   \n",
       "14941      1564         0         540.0            0        0       B   \n",
       "11111      5776         1        2078.0            2        4       B   \n",
       "2738        388         0           NaN            0        0       B   \n",
       "11153      9292         3        2620.0            0        3       B   \n",
       "3212       4788         2           NaN            0        4       B   \n",
       "15349     13670         4           NaN            1       11       B   \n",
       "7627       5735         3        1084.0            0        5       B   \n",
       "13171       629         1           NaN            0        0       A   \n",
       "9413       3856        10           NaN            2        5       B   \n",
       "\n",
       "               Price  \n",
       "Id                    \n",
       "3702   181530.459031  \n",
       "12848  260456.004692  \n",
       "2239   219945.304640  \n",
       "15611   66883.280318  \n",
       "5634   114086.065201  \n",
       "14726  359065.287230  \n",
       "7247   377445.078933  \n",
       "2018   381912.162109  \n",
       "14587  133072.279471  \n",
       "3643   184036.005146  \n",
       "9838    83530.831950  \n",
       "4335   256303.828047  \n",
       "7087   370625.225094  \n",
       "8500   460492.010947  \n",
       "6986   158693.839439  \n",
       "3042   397738.929731  \n",
       "416    345310.951954  \n",
       "10317  205516.957220  \n",
       "3875   176042.285354  \n",
       "10867  109890.139020  \n",
       "11791  221618.027734  \n",
       "7541   198345.433642  \n",
       "6901   187299.327683  \n",
       "16710   97300.152929  \n",
       "6355   375417.950590  \n",
       "4287   193698.061597  \n",
       "2752   186142.087144  \n",
       "14126  194163.447594  \n",
       "15822  124179.702841  \n",
       "4026   199227.693871  \n",
       "...              ...  \n",
       "5607   303235.478213  \n",
       "9043   171624.050035  \n",
       "7335   236123.698324  \n",
       "4960   190541.061424  \n",
       "14362  105695.797176  \n",
       "13041  217361.700539  \n",
       "12672  420583.792067  \n",
       "12723  221709.298626  \n",
       "11723  123291.314472  \n",
       "14322  209817.034644  \n",
       "16362  257050.976259  \n",
       "9808   197293.229058  \n",
       "4924   195841.345382  \n",
       "948     95227.629054  \n",
       "16628  131950.133596  \n",
       "5739   130596.359383  \n",
       "10718   91785.488458  \n",
       "9616   199612.222121  \n",
       "7486   262794.635749  \n",
       "2013   135290.410175  \n",
       "11956  167544.244106  \n",
       "14941  135062.801315  \n",
       "11111  214211.360333  \n",
       "2738   106173.742604  \n",
       "11153  156935.288025  \n",
       "3212   244256.756548  \n",
       "15349  236529.011881  \n",
       "7627   218975.318679  \n",
       "13171  133563.247029  \n",
       "9413   174952.644191  \n",
       "\n",
       "[2500 rows x 19 columns]"
      ]
     },
     "execution_count": 8,
     "metadata": {},
     "output_type": "execute_result"
    }
   ],
   "source": [
    "valid"
   ]
  },
  {
   "cell_type": "markdown",
   "metadata": {},
   "source": [
    "Временно включим целевой признак `Price`"
   ]
  },
  {
   "cell_type": "code",
   "execution_count": 9,
   "metadata": {},
   "outputs": [],
   "source": [
    "# data['Price'] = data_y.keys()"
   ]
  },
  {
   "cell_type": "markdown",
   "metadata": {},
   "source": [
    "### Очистка данных\n",
    "Давайте проанализируем датасет"
   ]
  },
  {
   "cell_type": "code",
   "execution_count": 10,
   "metadata": {},
   "outputs": [
    {
     "name": "stdout",
     "output_type": "stream",
     "text": [
      "<class 'pandas.core.frame.DataFrame'>\n",
      "Int64Index: 7500 entries, 13295 to 2135\n",
      "Data columns (total 19 columns):\n",
      "DistrictId       7500 non-null int64\n",
      "Rooms            7500 non-null float64\n",
      "Square           7500 non-null float64\n",
      "LifeSquare       5906 non-null float64\n",
      "KitchenSquare    7500 non-null float64\n",
      "Floor            7500 non-null int64\n",
      "HouseFloor       7500 non-null float64\n",
      "HouseYear        7500 non-null int64\n",
      "Ecology_1        7500 non-null float64\n",
      "Ecology_2        7500 non-null object\n",
      "Ecology_3        7500 non-null object\n",
      "Social_1         7500 non-null int64\n",
      "Social_2         7500 non-null int64\n",
      "Social_3         7500 non-null int64\n",
      "Healthcare_1     3886 non-null float64\n",
      "Helthcare_2      7500 non-null int64\n",
      "Shops_1          7500 non-null int64\n",
      "Shops_2          7500 non-null object\n",
      "Price            7500 non-null float64\n",
      "dtypes: float64(8), int64(8), object(3)\n",
      "memory usage: 1.1+ MB\n"
     ]
    }
   ],
   "source": [
    "data.info()"
   ]
  },
  {
   "cell_type": "code",
   "execution_count": 11,
   "metadata": {},
   "outputs": [
    {
     "data": {
      "text/html": [
       "<div>\n",
       "<style scoped>\n",
       "    .dataframe tbody tr th:only-of-type {\n",
       "        vertical-align: middle;\n",
       "    }\n",
       "\n",
       "    .dataframe tbody tr th {\n",
       "        vertical-align: top;\n",
       "    }\n",
       "\n",
       "    .dataframe thead th {\n",
       "        text-align: right;\n",
       "    }\n",
       "</style>\n",
       "<table border=\"1\" class=\"dataframe\">\n",
       "  <thead>\n",
       "    <tr style=\"text-align: right;\">\n",
       "      <th></th>\n",
       "      <th>DistrictId</th>\n",
       "      <th>Rooms</th>\n",
       "      <th>Square</th>\n",
       "      <th>LifeSquare</th>\n",
       "      <th>KitchenSquare</th>\n",
       "      <th>Floor</th>\n",
       "      <th>HouseFloor</th>\n",
       "      <th>HouseYear</th>\n",
       "      <th>Ecology_1</th>\n",
       "      <th>Social_1</th>\n",
       "      <th>Social_2</th>\n",
       "      <th>Social_3</th>\n",
       "      <th>Healthcare_1</th>\n",
       "      <th>Helthcare_2</th>\n",
       "      <th>Shops_1</th>\n",
       "      <th>Price</th>\n",
       "    </tr>\n",
       "  </thead>\n",
       "  <tbody>\n",
       "    <tr>\n",
       "      <th>count</th>\n",
       "      <td>7500.000000</td>\n",
       "      <td>7500.000000</td>\n",
       "      <td>7500.000000</td>\n",
       "      <td>5906.000000</td>\n",
       "      <td>7500.000000</td>\n",
       "      <td>7500.000000</td>\n",
       "      <td>7500.000000</td>\n",
       "      <td>7.500000e+03</td>\n",
       "      <td>7500.000000</td>\n",
       "      <td>7500.000000</td>\n",
       "      <td>7500.000000</td>\n",
       "      <td>7500.000000</td>\n",
       "      <td>3886.000000</td>\n",
       "      <td>7500.000000</td>\n",
       "      <td>7500.000000</td>\n",
       "      <td>7500.000000</td>\n",
       "    </tr>\n",
       "    <tr>\n",
       "      <th>mean</th>\n",
       "      <td>50.441733</td>\n",
       "      <td>1.887600</td>\n",
       "      <td>56.262165</td>\n",
       "      <td>37.438158</td>\n",
       "      <td>6.417333</td>\n",
       "      <td>8.502800</td>\n",
       "      <td>12.634400</td>\n",
       "      <td>4.658736e+03</td>\n",
       "      <td>0.117437</td>\n",
       "      <td>24.736133</td>\n",
       "      <td>5361.467467</td>\n",
       "      <td>8.027733</td>\n",
       "      <td>1129.527535</td>\n",
       "      <td>1.309467</td>\n",
       "      <td>4.259200</td>\n",
       "      <td>214000.951964</td>\n",
       "    </tr>\n",
       "    <tr>\n",
       "      <th>std</th>\n",
       "      <td>43.700617</td>\n",
       "      <td>0.840234</td>\n",
       "      <td>20.337193</td>\n",
       "      <td>98.726068</td>\n",
       "      <td>32.870226</td>\n",
       "      <td>5.236619</td>\n",
       "      <td>6.833644</td>\n",
       "      <td>2.315178e+05</td>\n",
       "      <td>0.118195</td>\n",
       "      <td>17.627507</td>\n",
       "      <td>4021.616228</td>\n",
       "      <td>23.825236</td>\n",
       "      <td>1015.975294</td>\n",
       "      <td>1.488576</td>\n",
       "      <td>4.819673</td>\n",
       "      <td>92539.924814</td>\n",
       "    </tr>\n",
       "    <tr>\n",
       "      <th>min</th>\n",
       "      <td>0.000000</td>\n",
       "      <td>0.000000</td>\n",
       "      <td>2.377248</td>\n",
       "      <td>0.370619</td>\n",
       "      <td>0.000000</td>\n",
       "      <td>1.000000</td>\n",
       "      <td>0.000000</td>\n",
       "      <td>1.912000e+03</td>\n",
       "      <td>0.000000</td>\n",
       "      <td>0.000000</td>\n",
       "      <td>168.000000</td>\n",
       "      <td>0.000000</td>\n",
       "      <td>0.000000</td>\n",
       "      <td>0.000000</td>\n",
       "      <td>0.000000</td>\n",
       "      <td>59174.778028</td>\n",
       "    </tr>\n",
       "    <tr>\n",
       "      <th>25%</th>\n",
       "      <td>19.000000</td>\n",
       "      <td>1.000000</td>\n",
       "      <td>41.748189</td>\n",
       "      <td>22.838608</td>\n",
       "      <td>1.000000</td>\n",
       "      <td>4.000000</td>\n",
       "      <td>9.000000</td>\n",
       "      <td>1.974000e+03</td>\n",
       "      <td>0.017647</td>\n",
       "      <td>6.000000</td>\n",
       "      <td>1564.000000</td>\n",
       "      <td>0.000000</td>\n",
       "      <td>325.000000</td>\n",
       "      <td>0.000000</td>\n",
       "      <td>1.000000</td>\n",
       "      <td>153980.839919</td>\n",
       "    </tr>\n",
       "    <tr>\n",
       "      <th>50%</th>\n",
       "      <td>35.000000</td>\n",
       "      <td>2.000000</td>\n",
       "      <td>52.539538</td>\n",
       "      <td>32.837997</td>\n",
       "      <td>6.000000</td>\n",
       "      <td>7.000000</td>\n",
       "      <td>14.000000</td>\n",
       "      <td>1.977000e+03</td>\n",
       "      <td>0.072158</td>\n",
       "      <td>25.000000</td>\n",
       "      <td>5285.000000</td>\n",
       "      <td>2.000000</td>\n",
       "      <td>900.000000</td>\n",
       "      <td>1.000000</td>\n",
       "      <td>3.000000</td>\n",
       "      <td>192269.644879</td>\n",
       "    </tr>\n",
       "    <tr>\n",
       "      <th>75%</th>\n",
       "      <td>75.000000</td>\n",
       "      <td>2.000000</td>\n",
       "      <td>65.980391</td>\n",
       "      <td>45.069982</td>\n",
       "      <td>9.000000</td>\n",
       "      <td>12.000000</td>\n",
       "      <td>17.000000</td>\n",
       "      <td>2.001000e+03</td>\n",
       "      <td>0.194489</td>\n",
       "      <td>36.000000</td>\n",
       "      <td>7287.000000</td>\n",
       "      <td>5.000000</td>\n",
       "      <td>1547.750000</td>\n",
       "      <td>2.000000</td>\n",
       "      <td>6.000000</td>\n",
       "      <td>249035.045145</td>\n",
       "    </tr>\n",
       "    <tr>\n",
       "      <th>max</th>\n",
       "      <td>209.000000</td>\n",
       "      <td>19.000000</td>\n",
       "      <td>604.705972</td>\n",
       "      <td>7480.592129</td>\n",
       "      <td>2014.000000</td>\n",
       "      <td>42.000000</td>\n",
       "      <td>117.000000</td>\n",
       "      <td>2.005201e+07</td>\n",
       "      <td>0.521867</td>\n",
       "      <td>74.000000</td>\n",
       "      <td>19083.000000</td>\n",
       "      <td>141.000000</td>\n",
       "      <td>4849.000000</td>\n",
       "      <td>6.000000</td>\n",
       "      <td>23.000000</td>\n",
       "      <td>627525.072788</td>\n",
       "    </tr>\n",
       "  </tbody>\n",
       "</table>\n",
       "</div>"
      ],
      "text/plain": [
       "        DistrictId        Rooms       Square   LifeSquare  KitchenSquare  \\\n",
       "count  7500.000000  7500.000000  7500.000000  5906.000000    7500.000000   \n",
       "mean     50.441733     1.887600    56.262165    37.438158       6.417333   \n",
       "std      43.700617     0.840234    20.337193    98.726068      32.870226   \n",
       "min       0.000000     0.000000     2.377248     0.370619       0.000000   \n",
       "25%      19.000000     1.000000    41.748189    22.838608       1.000000   \n",
       "50%      35.000000     2.000000    52.539538    32.837997       6.000000   \n",
       "75%      75.000000     2.000000    65.980391    45.069982       9.000000   \n",
       "max     209.000000    19.000000   604.705972  7480.592129    2014.000000   \n",
       "\n",
       "             Floor   HouseFloor     HouseYear    Ecology_1     Social_1  \\\n",
       "count  7500.000000  7500.000000  7.500000e+03  7500.000000  7500.000000   \n",
       "mean      8.502800    12.634400  4.658736e+03     0.117437    24.736133   \n",
       "std       5.236619     6.833644  2.315178e+05     0.118195    17.627507   \n",
       "min       1.000000     0.000000  1.912000e+03     0.000000     0.000000   \n",
       "25%       4.000000     9.000000  1.974000e+03     0.017647     6.000000   \n",
       "50%       7.000000    14.000000  1.977000e+03     0.072158    25.000000   \n",
       "75%      12.000000    17.000000  2.001000e+03     0.194489    36.000000   \n",
       "max      42.000000   117.000000  2.005201e+07     0.521867    74.000000   \n",
       "\n",
       "           Social_2     Social_3  Healthcare_1  Helthcare_2      Shops_1  \\\n",
       "count   7500.000000  7500.000000   3886.000000  7500.000000  7500.000000   \n",
       "mean    5361.467467     8.027733   1129.527535     1.309467     4.259200   \n",
       "std     4021.616228    23.825236   1015.975294     1.488576     4.819673   \n",
       "min      168.000000     0.000000      0.000000     0.000000     0.000000   \n",
       "25%     1564.000000     0.000000    325.000000     0.000000     1.000000   \n",
       "50%     5285.000000     2.000000    900.000000     1.000000     3.000000   \n",
       "75%     7287.000000     5.000000   1547.750000     2.000000     6.000000   \n",
       "max    19083.000000   141.000000   4849.000000     6.000000    23.000000   \n",
       "\n",
       "               Price  \n",
       "count    7500.000000  \n",
       "mean   214000.951964  \n",
       "std     92539.924814  \n",
       "min     59174.778028  \n",
       "25%    153980.839919  \n",
       "50%    192269.644879  \n",
       "75%    249035.045145  \n",
       "max    627525.072788  "
      ]
     },
     "execution_count": 11,
     "metadata": {},
     "output_type": "execute_result"
    }
   ],
   "source": [
    "data.describe()"
   ]
  },
  {
   "cell_type": "markdown",
   "metadata": {},
   "source": [
    "Давайте разберем датасет по пунктам"
   ]
  },
  {
   "cell_type": "markdown",
   "metadata": {},
   "source": [
    "#### Оценим признак `Rooms`"
   ]
  },
  {
   "cell_type": "code",
   "execution_count": 12,
   "metadata": {},
   "outputs": [
    {
     "data": {
      "text/plain": [
       "count    7500.000000\n",
       "mean        1.887600\n",
       "std         0.840234\n",
       "min         0.000000\n",
       "25%         1.000000\n",
       "50%         2.000000\n",
       "75%         2.000000\n",
       "max        19.000000\n",
       "Name: Rooms, dtype: float64"
      ]
     },
     "execution_count": 12,
     "metadata": {},
     "output_type": "execute_result"
    }
   ],
   "source": [
    "data['Rooms'].describe()"
   ]
  },
  {
   "cell_type": "code",
   "execution_count": 13,
   "metadata": {},
   "outputs": [
    {
     "data": {
      "text/plain": [
       "2.0     2918\n",
       "1.0     2785\n",
       "3.0     1667\n",
       "4.0      110\n",
       "5.0       12\n",
       "0.0        5\n",
       "19.0       1\n",
       "10.0       1\n",
       "6.0        1\n",
       "Name: Rooms, dtype: int64"
      ]
     },
     "execution_count": 13,
     "metadata": {},
     "output_type": "execute_result"
    }
   ],
   "source": [
    "data['Rooms'].value_counts()"
   ]
  },
  {
   "cell_type": "markdown",
   "metadata": {},
   "source": [
    "Заменим выбросы ( rooms == 0 ) и ( rooms > 5 ) на среднее значение по выборке"
   ]
  },
  {
   "cell_type": "code",
   "execution_count": 14,
   "metadata": {
    "scrolled": false
   },
   "outputs": [],
   "source": [
    "rooms_mean = data.Rooms.mean()\n",
    "\n",
    "def fill_rooms_with_mean(data):\n",
    "    data[data.Rooms > 5]['Rooms'] = rooms_mean\n",
    "    data[data.Rooms < 1]['Rooms'] = rooms_mean\n",
    "    return data\n",
    "    \n",
    "# data = fill_rooms_with_mean(data)"
   ]
  },
  {
   "cell_type": "code",
   "execution_count": 15,
   "metadata": {},
   "outputs": [
    {
     "data": {
      "text/plain": [
       "<matplotlib.axes._subplots.AxesSubplot at 0x1a19cd9cf8>"
      ]
     },
     "execution_count": 15,
     "metadata": {},
     "output_type": "execute_result"
    },
    {
     "data": {
      "image/png": "[encoded data removed]",
      "text/plain": [
       "<Figure size 432x288 with 1 Axes>"
      ]
     },
     "metadata": {
      "needs_background": "light"
     },
     "output_type": "display_data"
    }
   ],
   "source": [
    "data.Rooms.hist(bins=5)"
   ]
  },
  {
   "cell_type": "markdown",
   "metadata": {},
   "source": [
    "#### Оценим признак `Square`"
   ]
  },
  {
   "cell_type": "code",
   "execution_count": 16,
   "metadata": {},
   "outputs": [
    {
     "data": {
      "text/plain": [
       "count    7500.000000\n",
       "mean       56.262165\n",
       "std        20.337193\n",
       "min         2.377248\n",
       "25%        41.748189\n",
       "50%        52.539538\n",
       "75%        65.980391\n",
       "max       604.705972\n",
       "Name: Square, dtype: float64"
      ]
     },
     "execution_count": 16,
     "metadata": {},
     "output_type": "execute_result"
    }
   ],
   "source": [
    "data['Square'].describe()"
   ]
  },
  {
   "cell_type": "markdown",
   "metadata": {},
   "source": [
    "Давайте выкинем записи в которых признак Square < 10"
   ]
  },
  {
   "cell_type": "code",
   "execution_count": 17,
   "metadata": {},
   "outputs": [],
   "source": [
    "def drop_bad_square(ds):\n",
    "    bad_square = data[data.Square < 10]\n",
    "    if bad_square.shape[0] > 0:\n",
    "        ds.drop(bad_square.index, inplace=True)\n",
    "        \n",
    "    return ds"
   ]
  },
  {
   "cell_type": "markdown",
   "metadata": {},
   "source": [
    "23 квартиры с площадью менее 10. А давайте их выкинем :)"
   ]
  },
  {
   "cell_type": "code",
   "execution_count": 18,
   "metadata": {},
   "outputs": [],
   "source": [
    "# data = drop_bad_square(data)"
   ]
  },
  {
   "cell_type": "markdown",
   "metadata": {},
   "source": [
    "#### Оценим признак `HouseYear`"
   ]
  },
  {
   "cell_type": "code",
   "execution_count": 19,
   "metadata": {},
   "outputs": [
    {
     "data": {
      "text/plain": [
       "count    7.500000e+03\n",
       "mean     4.658736e+03\n",
       "std      2.315178e+05\n",
       "min      1.912000e+03\n",
       "25%      1.974000e+03\n",
       "50%      1.977000e+03\n",
       "75%      2.001000e+03\n",
       "max      2.005201e+07\n",
       "Name: HouseYear, dtype: float64"
      ]
     },
     "execution_count": 19,
     "metadata": {},
     "output_type": "execute_result"
    }
   ],
   "source": [
    "data.HouseYear.describe()"
   ]
  },
  {
   "cell_type": "code",
   "execution_count": 20,
   "metadata": {},
   "outputs": [
    {
     "data": {
      "text/plain": [
       "Id\n",
       "6731         2020\n",
       "6845         2020\n",
       "9303         2020\n",
       "11607        4968\n",
       "10814    20052011\n",
       "Name: HouseYear, dtype: int64"
      ]
     },
     "execution_count": 20,
     "metadata": {},
     "output_type": "execute_result"
    }
   ],
   "source": [
    "data['HouseYear'].sort_values().tail(5)"
   ]
  },
  {
   "cell_type": "markdown",
   "metadata": {},
   "source": [
    "Видим явно выпадающие значения [4968, 20052011]\n",
    "\n",
    "Заменим 4968 на 1968, 20052011 на 2008"
   ]
  },
  {
   "cell_type": "code",
   "execution_count": 21,
   "metadata": {},
   "outputs": [],
   "source": [
    "data.loc[data.HouseYear == 4968, 'HouseYear'] = 1968\n",
    "data.loc[data.HouseYear == 20052011, 'HouseYear'] = 2008"
   ]
  },
  {
   "cell_type": "markdown",
   "metadata": {},
   "source": [
    "Ради интереса, построим гистограмму"
   ]
  },
  {
   "cell_type": "code",
   "execution_count": 22,
   "metadata": {},
   "outputs": [
    {
     "data": {
      "image/png": "[encoded data removed]",
      "text/plain": [
       "<Figure size 432x288 with 1 Axes>"
      ]
     },
     "metadata": {
      "needs_background": "light"
     },
     "output_type": "display_data"
    }
   ],
   "source": [
    "data['HouseYear'].hist(bins=20);"
   ]
  },
  {
   "cell_type": "markdown",
   "metadata": {},
   "source": [
    "Примечательно - большинство квартир в домах построенных на рубеже конца 1970х - начала 1980х"
   ]
  },
  {
   "cell_type": "markdown",
   "metadata": {},
   "source": [
    "#### Оценим признак `LifeSquare`\n",
    "Найдем те записи, где `LifeSquare` > `Square`"
   ]
  },
  {
   "cell_type": "code",
   "execution_count": 23,
   "metadata": {},
   "outputs": [
    {
     "data": {
      "text/plain": [
       "366"
      ]
     },
     "execution_count": 23,
     "metadata": {},
     "output_type": "execute_result"
    }
   ],
   "source": [
    "data[data.LifeSquare > data.Square].shape[0]"
   ]
  },
  {
   "cell_type": "markdown",
   "metadata": {},
   "source": [
    "Выходит, что для 4% записей жилая площадь больше общей площади, что некорректно. Давайте оценим зависимость площадей."
   ]
  },
  {
   "cell_type": "code",
   "execution_count": 24,
   "metadata": {},
   "outputs": [
    {
     "data": {
      "text/plain": [
       "(10, 250)"
      ]
     },
     "execution_count": 24,
     "metadata": {},
     "output_type": "execute_result"
    },
    {
     "data": {
      "image/png": "[encoded data removed]",
      "text/plain": [
       "<Figure size 432x288 with 1 Axes>"
      ]
     },
     "metadata": {
      "needs_background": "light"
     },
     "output_type": "display_data"
    }
   ],
   "source": [
    "plt.plot(\n",
    "    data['Square'],\n",
    "    data['LifeSquare'],\n",
    "    'ro'\n",
    ")\n",
    "plt.xlabel('Square')\n",
    "plt.ylabel('LifeSquare')\n",
    "plt.ylim(10,150)\n",
    "plt.xlim(10,250)"
   ]
  },
  {
   "cell_type": "markdown",
   "metadata": {},
   "source": [
    "Видно, что зависимость линейна. Предлагаю признак `LifeSquare` также не включать в итоговый датасет"
   ]
  },
  {
   "cell_type": "markdown",
   "metadata": {},
   "source": [
    "Но для дестов давайте заполним средними значениями"
   ]
  },
  {
   "cell_type": "code",
   "execution_count": 25,
   "metadata": {},
   "outputs": [],
   "source": [
    "lifeSquare_mean = data.LifeSquare.mean()\n",
    "\n",
    "def fill_na_life_square(data):\n",
    "    data['LifeSquare'].fillna(lifeSquare_mean, inplace=True)\n",
    "    return data\n",
    "    "
   ]
  },
  {
   "cell_type": "code",
   "execution_count": 26,
   "metadata": {},
   "outputs": [],
   "source": [
    "# data = fill_na_life_square(data)"
   ]
  },
  {
   "cell_type": "markdown",
   "metadata": {},
   "source": [
    "#### Оценим признак `DistrictId`\n",
    "Начнем с гистограммы"
   ]
  },
  {
   "cell_type": "code",
   "execution_count": 27,
   "metadata": {
    "scrolled": true
   },
   "outputs": [
    {
     "data": {
      "image/png": "[encoded data removed]",
      "text/plain": [
       "<Figure size 432x288 with 1 Axes>"
      ]
     },
     "metadata": {
      "needs_background": "light"
     },
     "output_type": "display_data"
    }
   ],
   "source": [
    "plt.hist(\n",
    "    data['DistrictId'],\n",
    "    bins=data['DistrictId'].nunique()\n",
    ");"
   ]
  },
  {
   "cell_type": "markdown",
   "metadata": {},
   "source": [
    "Это ничего не дало. Попробуем взять среднюю цену за квадратный метр по району"
   ]
  },
  {
   "cell_type": "code",
   "execution_count": 28,
   "metadata": {},
   "outputs": [],
   "source": [
    "data['price_per_square'] = data.Price / data.Square\n",
    "price_per_square_by_District = data.groupby(\n",
    "    ['DistrictId']\n",
    ")['price_per_square'].mean().reset_index().rename(\n",
    "    columns={'price_per_square': 'District_square_price'})"
   ]
  },
  {
   "cell_type": "markdown",
   "metadata": {},
   "source": [
    "Добавим признак `District_square_price` к датасету"
   ]
  },
  {
   "cell_type": "code",
   "execution_count": 29,
   "metadata": {},
   "outputs": [],
   "source": [
    "def add_distr_sq_price(df):\n",
    "    dqp_mean = price_per_square_by_District['District_square_price'].mean()\n",
    "    df.reset_index(inplace=True)\n",
    "    df = pd.merge(df,price_per_square_by_District,on='DistrictId',how='left')\n",
    "    df['District_square_price'] = df['District_square_price'].fillna(dqp_mean)\n",
    "    \n",
    "    if 'price_per_square' in df.keys():\n",
    "        df.drop(['price_per_square'], axis=1, inplace=True)\n",
    "\n",
    "    return df.drop(['DistrictId'], axis=1).set_index('Id')"
   ]
  },
  {
   "cell_type": "code",
   "execution_count": 30,
   "metadata": {},
   "outputs": [],
   "source": [
    "# def add_distr_sq_price(df):\n",
    "#     # Среднее значение цена по всем районам\n",
    "#     dqp_mean = price_per_square_by_District['District_square_price'].mean()\n",
    "#     df.reset_index(inplace=True)\n",
    "#     df=pd.merge(df,price_per_square_by_District,on='DistrictId',how='left')\n",
    "#     df['District_square_price'] = df['District_square_price'].fillna(dqp_mean)\n",
    "#     return df.drop(['DistrictId'], axis=1)"
   ]
  },
  {
   "cell_type": "code",
   "execution_count": 31,
   "metadata": {},
   "outputs": [],
   "source": [
    "# data = add_distr_sq_price(data)"
   ]
  },
  {
   "cell_type": "markdown",
   "metadata": {},
   "source": [
    "#### Оценим признаки `Floor` `HouseFloor`\n",
    "Очистим выпадающие записи"
   ]
  },
  {
   "cell_type": "code",
   "execution_count": 32,
   "metadata": {},
   "outputs": [
    {
     "data": {
      "text/plain": [
       "17.0     1749\n",
       "9.0      1044\n",
       "12.0      797\n",
       "5.0       764\n",
       "14.0      476\n",
       "16.0      423\n",
       "1.0       388\n",
       "25.0      287\n",
       "22.0      257\n",
       "0.0       195\n",
       "24.0      127\n",
       "8.0       110\n",
       "10.0      109\n",
       "15.0       95\n",
       "4.0        95\n",
       "3.0        92\n",
       "19.0       90\n",
       "20.0       84\n",
       "18.0       65\n",
       "6.0        43\n",
       "7.0        36\n",
       "2.0        36\n",
       "23.0       27\n",
       "21.0       25\n",
       "11.0       22\n",
       "13.0       18\n",
       "30.0       18\n",
       "27.0        5\n",
       "40.0        5\n",
       "32.0        4\n",
       "37.0        2\n",
       "99.0        2\n",
       "39.0        2\n",
       "31.0        1\n",
       "29.0        1\n",
       "44.0        1\n",
       "47.0        1\n",
       "36.0        1\n",
       "48.0        1\n",
       "117.0       1\n",
       "28.0        1\n",
       "Name: HouseFloor, dtype: int64"
      ]
     },
     "execution_count": 32,
     "metadata": {},
     "output_type": "execute_result"
    }
   ],
   "source": [
    "floor_data = data[['Floor','HouseFloor']]\n",
    "floor_data['HouseFloor'].value_counts()"
   ]
  },
  {
   "cell_type": "markdown",
   "metadata": {},
   "source": [
    "Давайте посмотрим на дома выше 30 этажей"
   ]
  },
  {
   "cell_type": "code",
   "execution_count": 33,
   "metadata": {},
   "outputs": [],
   "source": [
    "def create_first_last_floor_columns(data):\n",
    "    data['is_first_floor'] = (data.Floor == 1).astype(int)\n",
    "    data['is_last_floor'] = (data.Floor >= data.HouseFloor).astype(int)\n",
    "    return data"
   ]
  },
  {
   "cell_type": "code",
   "execution_count": 34,
   "metadata": {},
   "outputs": [],
   "source": [
    "# data = create_first_last_floor_columns(data)"
   ]
  },
  {
   "cell_type": "markdown",
   "metadata": {},
   "source": [
    "#### KitchenSquare\n",
    "25% данных о размерах кухни составляют 1, что не похоже на правду. \n",
    "Если это так, то данным признаком следует пренебречь, так как он крайне неточен\n",
    "\n",
    "Для начала, построим гистограмму распределения квартир по площадям кухни"
   ]
  },
  {
   "cell_type": "code",
   "execution_count": 35,
   "metadata": {},
   "outputs": [
    {
     "data": {
      "text/plain": [
       "count    7500.000000\n",
       "mean        6.417333\n",
       "std        32.870226\n",
       "min         0.000000\n",
       "25%         1.000000\n",
       "50%         6.000000\n",
       "75%         9.000000\n",
       "max      2014.000000\n",
       "Name: KitchenSquare, dtype: float64"
      ]
     },
     "execution_count": 35,
     "metadata": {},
     "output_type": "execute_result"
    }
   ],
   "source": [
    "data.KitchenSquare.describe()"
   ]
  },
  {
   "cell_type": "code",
   "execution_count": 36,
   "metadata": {},
   "outputs": [],
   "source": [
    "data.loc[data.KitchenSquare == 2014, 'KitchenSquare'] = 1"
   ]
  },
  {
   "cell_type": "code",
   "execution_count": 37,
   "metadata": {},
   "outputs": [
    {
     "data": {
      "image/png": "[encoded data removed]",
      "text/plain": [
       "<Figure size 432x288 with 1 Axes>"
      ]
     },
     "metadata": {
      "needs_background": "light"
     },
     "output_type": "display_data"
    }
   ],
   "source": [
    "plt.hist(\n",
    "    data['KitchenSquare'].loc[data.KitchenSquare < 25], \n",
    "    bins=25\n",
    ")\n",
    "\n",
    "plt.xlabel('Площадь кухни')\n",
    "plt.ylabel('Количество квартир')\n",
    "plt.show();"
   ]
  },
  {
   "cell_type": "markdown",
   "metadata": {},
   "source": [
    "Давайте вычислим среднюю площадь квартиры, имеющую кухню площадью 1, а также общий процент таких квартир среди всей выборки"
   ]
  },
  {
   "cell_type": "code",
   "execution_count": 38,
   "metadata": {},
   "outputs": [],
   "source": [
    "square_with_tiny_kitchen = data.loc[data.KitchenSquare <= 1]['Square'].loc[data.Square < 100]"
   ]
  },
  {
   "cell_type": "code",
   "execution_count": 39,
   "metadata": {},
   "outputs": [
    {
     "data": {
      "text/plain": [
       "(57.89329212823305, 0.30706666666666665)"
      ]
     },
     "execution_count": 39,
     "metadata": {},
     "output_type": "execute_result"
    }
   ],
   "source": [
    "square_with_tiny_kitchen.mean(), square_with_tiny_kitchen.count() / data['Square'].count()"
   ]
  },
  {
   "cell_type": "markdown",
   "metadata": {},
   "source": [
    "_Я пробовал корректировать этот признак, искать закономерности, даже строить регрессиннные модели, но получал r2 близкий к нулю.\n",
    "Так что оставим признак как есть._"
   ]
  },
  {
   "cell_type": "markdown",
   "metadata": {},
   "source": [
    "#### Healthcare_1\n",
    "48% записей не имеют значения в признаке  `Healthcare_1`. \n",
    "Давайте развернем датасет - возьмем `Healthcare_1` в качестве целевого признака и построим модель для вычисления пустых значений"
   ]
  },
  {
   "cell_type": "code",
   "execution_count": 40,
   "metadata": {},
   "outputs": [],
   "source": [
    "# data = pd.get_dummies(data).set_index('Id')\n",
    "# health1_train = data[data.Healthcare_1.notnull()]\n",
    "# health1_test = data[data.Healthcare_1.isna()].drop(['Healthcare_1'], axis=1)"
   ]
  },
  {
   "cell_type": "code",
   "execution_count": 41,
   "metadata": {},
   "outputs": [],
   "source": [
    "# if not isfile('Healthcare1.model.pickle'):\n",
    "#     # Разобьем датасет\n",
    "#     X_train, X_test, y_train, y_test = split_data(health1_train, 'Healthcare_1')\n",
    "\n",
    "#     # Используем GridSearchCV для нахождения оптимального дерева решений\n",
    "#     decision_tree = GridSearchCV(estimator=DecisionTreeRegressor(random_state=42),\n",
    "#                        param_grid=[{'max_depth': np.arange(2,40)}],\n",
    "#                        scoring='r2',\n",
    "#                        n_jobs=-1,\n",
    "#                        cv=5)\n",
    "\n",
    "#     decision_tree.fit(X_train, y_train);\n",
    "#     y_pred = decision_tree.predict(X_test)\n",
    "#     test_r2 = r2_score(y_test, y_pred)\n",
    "    \n",
    "#     print(f'Оптимальная глубина дерева: {decision_tree.best_params_[\"max_depth\"]}')\n",
    "#     print(f'train r2: {decision_tree.best_score_:.4f}')\n",
    "#     print(f'test  r2: {test_r2:.4f}')\n",
    "          \n",
    "#     pickle.dump(decision_tree, open('Healthcare1.model.pickle', 'wb'))"
   ]
  },
  {
   "cell_type": "markdown",
   "metadata": {},
   "source": [
    "_Странная и непохожая на правду штуковина. Но различные методы дают схожий результат._\n",
    "\n",
    "Заполним пустые поля признака `Healthcare_1` изначального датасета "
   ]
  },
  {
   "cell_type": "code",
   "execution_count": 42,
   "metadata": {},
   "outputs": [],
   "source": [
    "# decision_tree = pickle.load(open('Healthcare1.model.pickle', 'rb'))\n",
    "# health1_test['Healthcare_1'] = decision_tree.predict(health1_test)"
   ]
  },
  {
   "cell_type": "code",
   "execution_count": 43,
   "metadata": {},
   "outputs": [],
   "source": [
    "#data.update(health1_test)"
   ]
  },
  {
   "cell_type": "markdown",
   "metadata": {},
   "source": [
    "### Модификация датасетов\n",
    "Напишем функцию которая чистит датасет, добавляет признаки"
   ]
  },
  {
   "cell_type": "code",
   "execution_count": 44,
   "metadata": {},
   "outputs": [],
   "source": [
    "def prepare_dataset(ds, is_train=False):\n",
    "    \"\"\"Готовит датает, очищая, добавляя признаки\"\"\"\n",
    "\n",
    "    # почистить Rooms\n",
    "    fill_rooms_with_mean(ds)\n",
    "    \n",
    "    # ! Выкинуть Square Только в тестовом\n",
    "    if is_train:\n",
    "        ds = drop_bad_square(ds)\n",
    "        \n",
    "    # почистить HouseYear\n",
    "    # По датасетам\n",
    "    \n",
    "    # нормализовать LifeSquare\n",
    "    ds = fill_na_life_square(ds)\n",
    "        \n",
    "    # Заменить DistrictId на District_square_price\n",
    "    ds = add_distr_sq_price(ds)\n",
    "\n",
    "    # добавить признаки is_first_floor is_last_floor\n",
    "    ds = create_first_last_floor_columns(ds)\n",
    "    \n",
    "    # убрать HealthSquare\n",
    "    ds.drop(['Healthcare_1'], axis=1, inplace=True)\n",
    "    \n",
    "    # get_dummies\n",
    "    ds = pd.get_dummies(ds)\n",
    "    \n",
    "    # Убрать целевой признак и разбить\n",
    "    if 'Price' in ds:\n",
    "        y = ds['Price']\n",
    "        ds.drop(['Price'], axis=1, inplace=True)\n",
    "        return ds, y\n",
    "    else:\n",
    "        return ds"
   ]
  },
  {
   "cell_type": "code",
   "execution_count": 45,
   "metadata": {},
   "outputs": [],
   "source": [
    "X_train, y_train= prepare_dataset(data, is_train=True)\n",
    "X_test, y_test = prepare_dataset(valid, is_train=False)"
   ]
  },
  {
   "cell_type": "code",
   "execution_count": 46,
   "metadata": {},
   "outputs": [
    {
     "data": {
      "text/plain": [
       "(2500,)"
      ]
     },
     "execution_count": 46,
     "metadata": {},
     "output_type": "execute_result"
    }
   ],
   "source": [
    "y_test.shape"
   ]
  },
  {
   "cell_type": "code",
   "execution_count": 47,
   "metadata": {},
   "outputs": [],
   "source": [
    "# valid_x valid_y\n",
    "# Заменяем невалидные записи квартир\n",
    "# fill_rooms_with_mean(valid_x)"
   ]
  },
  {
   "cell_type": "code",
   "execution_count": 48,
   "metadata": {},
   "outputs": [],
   "source": [
    "# Удаляем \n",
    "# valid_x.drop(valid_x[valid_x.Square < 10].index, inplace=True)\n",
    "\n",
    "# Заполняем пустые значения Life_Square\n",
    "# fill_na_life_square(valid_x)"
   ]
  },
  {
   "cell_type": "code",
   "execution_count": 49,
   "metadata": {},
   "outputs": [],
   "source": [
    "# Добавляем поле price_per_square_by_District\n",
    "# valid_x = add_distr_sq_price(valid_x, 'price_per_square_by_District.pickle')"
   ]
  },
  {
   "cell_type": "code",
   "execution_count": 50,
   "metadata": {},
   "outputs": [],
   "source": [
    "# Создаем признаки 'is_first_floor' 'is_last_floor'\n",
    "# valid_x = create_first_last_floor_columns(valid_x)"
   ]
  },
  {
   "cell_type": "markdown",
   "metadata": {},
   "source": [
    "### get_dummies"
   ]
  },
  {
   "cell_type": "code",
   "execution_count": 51,
   "metadata": {},
   "outputs": [],
   "source": [
    "# X_train = pd.get_dummies(data).drop(['Healthcare_1'], axis=1)\n",
    "# X_test = pd.get_dummies(valid_x).drop(['Healthcare_1'], axis=1)"
   ]
  },
  {
   "cell_type": "code",
   "execution_count": 52,
   "metadata": {},
   "outputs": [
    {
     "name": "stdout",
     "output_type": "stream",
     "text": [
      "<class 'pandas.core.frame.DataFrame'>\n",
      "Int64Index: 2500 entries, 3702 to 9413\n",
      "Data columns (total 22 columns):\n",
      "Rooms                    2500 non-null float64\n",
      "Square                   2500 non-null float64\n",
      "LifeSquare               2500 non-null float64\n",
      "KitchenSquare            2500 non-null float64\n",
      "Floor                    2500 non-null int64\n",
      "HouseFloor               2500 non-null float64\n",
      "HouseYear                2500 non-null int64\n",
      "Ecology_1                2500 non-null float64\n",
      "Social_1                 2500 non-null int64\n",
      "Social_2                 2500 non-null int64\n",
      "Social_3                 2500 non-null int64\n",
      "Helthcare_2              2500 non-null int64\n",
      "Shops_1                  2500 non-null int64\n",
      "District_square_price    2500 non-null float64\n",
      "is_first_floor           2500 non-null int64\n",
      "is_last_floor            2500 non-null int64\n",
      "Ecology_2_A              2500 non-null uint8\n",
      "Ecology_2_B              2500 non-null uint8\n",
      "Ecology_3_A              2500 non-null uint8\n",
      "Ecology_3_B              2500 non-null uint8\n",
      "Shops_2_A                2500 non-null uint8\n",
      "Shops_2_B                2500 non-null uint8\n",
      "dtypes: float64(7), int64(9), uint8(6)\n",
      "memory usage: 346.7 KB\n"
     ]
    }
   ],
   "source": [
    "X_test.info()"
   ]
  },
  {
   "cell_type": "markdown",
   "metadata": {},
   "source": [
    "### Обучение моделей и их применение"
   ]
  },
  {
   "cell_type": "code",
   "execution_count": 53,
   "metadata": {},
   "outputs": [],
   "source": [
    "# y_train = data_y\n",
    "# y_test = valid_y"
   ]
  },
  {
   "cell_type": "markdown",
   "metadata": {},
   "source": [
    "#### Разбиение на тренировочные и тестовые"
   ]
  },
  {
   "cell_type": "code",
   "execution_count": 54,
   "metadata": {},
   "outputs": [],
   "source": [
    "# ds = pd.get_dummies(data).drop(['Healthcare_1'], axis=1).set_index('Id')\n",
    "# ds = pd.get_dummies(data)"
   ]
  },
  {
   "cell_type": "code",
   "execution_count": 55,
   "metadata": {},
   "outputs": [],
   "source": [
    "for i in X_train.keys():\n",
    "    if i not in X_test.keys():\n",
    "        print(i)"
   ]
  },
  {
   "cell_type": "code",
   "execution_count": 56,
   "metadata": {},
   "outputs": [],
   "source": [
    "# X_train, X_test, y_train, y_test = split_data(ds, 'Price')"
   ]
  },
  {
   "cell_type": "markdown",
   "metadata": {},
   "source": [
    "Стандартизируем значения:"
   ]
  },
  {
   "cell_type": "code",
   "execution_count": 57,
   "metadata": {},
   "outputs": [],
   "source": [
    "from sklearn.preprocessing import StandardScaler\n",
    "scaler = StandardScaler()\n",
    "\n",
    "X_train_scaled = pd.DataFrame(\n",
    "    scaler.fit_transform(X_train),\n",
    "    columns=X_train.keys())\n",
    "X_test_scaled = pd.DataFrame(\n",
    "    scaler.fit_transform(X_test),\n",
    "    columns=X_test.keys())"
   ]
  },
  {
   "cell_type": "markdown",
   "metadata": {},
   "source": [
    "#### Линейная регрессия\n",
    "Обучим модель линейной регрессии"
   ]
  },
  {
   "cell_type": "code",
   "execution_count": 58,
   "metadata": {},
   "outputs": [
    {
     "data": {
      "text/plain": [
       "0.5648726797934225"
      ]
     },
     "execution_count": 58,
     "metadata": {},
     "output_type": "execute_result"
    }
   ],
   "source": [
    "from sklearn.linear_model import LinearRegression\n",
    "lr = LinearRegression()\n",
    "get_model_r2(X_train_scaled, y_train, X_test_scaled, y_test, lr)"
   ]
  },
  {
   "cell_type": "code",
   "execution_count": 59,
   "metadata": {},
   "outputs": [],
   "source": [
    "xgb = XGBRegressor(colsample_bytree=0.5, gamma=0.0, \n",
    "                             learning_rate=0.005, max_depth=7, \n",
    "                             min_child_weight=0.5, n_estimators=5800,\n",
    "                             reg_alpha=0.9, reg_lambda=0.99,\n",
    "                             subsample=0.99,seed=42, silent=1,\n",
    "                             random_state=42)"
   ]
  },
  {
   "cell_type": "code",
   "execution_count": 93,
   "metadata": {
    "scrolled": true
   },
   "outputs": [],
   "source": [
    "# ds = pd.get_dummies(data).drop(['Healthcare_1'], axis=1).set_index('Id')\n",
    "# get_model_r2(X_train, y_train, X_test, y_test, xgb)\n",
    "# 0.7548214320215614"
   ]
  },
  {
   "cell_type": "code",
   "execution_count": 94,
   "metadata": {},
   "outputs": [],
   "source": [
    "# ds = pd.get_dummies(data).set_index('Id')\n",
    "# get_model_r2(X_train, y_train, X_test, y_test, xgb)\n",
    "# 0.7556017998096649"
   ]
  },
  {
   "cell_type": "code",
   "execution_count": null,
   "metadata": {},
   "outputs": [],
   "source": [
    "get_model_r2(X_train, y_train, X_test, y_test, xgb)"
   ]
  },
  {
   "cell_type": "code",
   "execution_count": null,
   "metadata": {},
   "outputs": [],
   "source": [
    "X_train.shape[0]"
   ]
  },
  {
   "cell_type": "markdown",
   "metadata": {},
   "source": [
    "#### Примение T-SNE\n",
    "Попробуем перебрать параметр `learning_rates` чтобы найти идеальные условия для кластеризации"
   ]
  },
  {
   "cell_type": "code",
   "execution_count": 46,
   "metadata": {},
   "outputs": [],
   "source": [
    "def train_tsne(lr):\n",
    "    tsne = TSNE(n_components=2, learning_rate=lr, random_state=42)\n",
    "    return tsne.fit_transform(X_train_scaled)\n",
    "\n",
    "def get_good_tsne():\n",
    "    learning_rates = [10, 50, 100, 150, 300, 500, 800, 1000]\n",
    "    tsne_list = dict()\n",
    "    with Pool() as p:  \n",
    "        tsne_list = p.map(train_tsne, learning_rates)\n",
    "    return dict(zip(learning_rates, tsne_list))"
   ]
  },
  {
   "cell_type": "code",
   "execution_count": 47,
   "metadata": {},
   "outputs": [],
   "source": [
    "tsne_dict = get_good_tsne()"
   ]
  },
  {
   "cell_type": "code",
   "execution_count": 48,
   "metadata": {},
   "outputs": [
    {
     "data": {
      "image/png": "[encoded data removed]",
      "text/plain": [
       "<Figure size 576x4320 with 8 Axes>"
      ]
     },
     "metadata": {
      "needs_background": "light"
     },
     "output_type": "display_data"
    }
   ],
   "source": [
    "fig, ax = plt.subplots(len(tsne_dict),1)\n",
    "fig.set_figwidth(8)\n",
    "fig.set_figheight(60)\n",
    "fig.subplots_adjust(wspace=0.3, hspace=0.3)\n",
    "\n",
    "i = 0\n",
    "for lr, tsne_array in tsne_dict.items():\n",
    "    ax[i].scatter(tsne_array[:, 0], tsne_array[:, 1])\n",
    "    ax[i].set_title(f'learning_rates = {lr}')\n",
    "    i += 1"
   ]
  },
  {
   "cell_type": "markdown",
   "metadata": {},
   "source": [
    "По полученным графиком я не вижу явной возможности для кластеризации, так что исключим подобные алгоритмы.\n",
    "\n",
    "Но давайте попробуем разбить на 3 кластера:"
   ]
  },
  {
   "cell_type": "markdown",
   "metadata": {},
   "source": []
  },
  {
   "cell_type": "code",
   "execution_count": 49,
   "metadata": {},
   "outputs": [],
   "source": [
    "from sklearn.cluster import KMeans"
   ]
  },
  {
   "cell_type": "code",
   "execution_count": 50,
   "metadata": {},
   "outputs": [
    {
     "data": {
      "text/plain": [
       "0    1939\n",
       "2    1477\n",
       "1     409\n",
       "dtype: int64"
      ]
     },
     "execution_count": 50,
     "metadata": {},
     "output_type": "execute_result"
    }
   ],
   "source": [
    "kmeans = KMeans(n_clusters=3)\n",
    "labels_train = kmeans.fit_predict(X_train_scaled)\n",
    "pd.value_counts(labels_train)"
   ]
  },
  {
   "cell_type": "code",
   "execution_count": 51,
   "metadata": {},
   "outputs": [],
   "source": [
    "labels_train = kmeans.predict(X_train_scaled)"
   ]
  },
  {
   "cell_type": "code",
   "execution_count": 52,
   "metadata": {},
   "outputs": [
    {
     "data": {
      "image/png": "[encoded data removed]",
      "text/plain": [
       "<Figure size 432x288 with 1 Axes>"
      ]
     },
     "metadata": {
      "needs_background": "light"
     },
     "output_type": "display_data"
    }
   ],
   "source": [
    "plt.scatter(\n",
    "    tsne_dict[1000][:, 0],\n",
    "    tsne_dict[1000][:, 1],\n",
    "    c=labels_train\n",
    ");"
   ]
  },
  {
   "cell_type": "markdown",
   "metadata": {},
   "source": [
    "Так себе разбиение на кластеры, если честно"
   ]
  },
  {
   "cell_type": "markdown",
   "metadata": {},
   "source": [
    "#### PCA (Метод главных компонент)\n",
    "Попробуем выявить наиболее значимые признаки"
   ]
  },
  {
   "cell_type": "code",
   "execution_count": 197,
   "metadata": {},
   "outputs": [
    {
     "name": "stdout",
     "output_type": "stream",
     "text": [
      "Оценка линейной регрессии при разном количестве взятых признаков:\n",
      "при n = 1, \t r2 = 0.1774,\tacc = 0.23111763929357984\n",
      "при n = 2, \t r2 = 0.2462,\tacc = 0.32024577250534714\n",
      "при n = 3, \t r2 = 0.3438,\tacc = 0.40570681297297284\n",
      "при n = 4, \t r2 = 0.5728,\tacc = 0.48195643907292585\n",
      "при n = 5, \t r2 = 0.5874,\tacc = 0.5488455946207731\n",
      "при n = 6, \t r2 = 0.5891,\tacc = 0.6067773551591893\n",
      "при n = 7, \t r2 = 0.5919,\tacc = 0.6615383898540208\n",
      "при n = 8, \t r2 = 0.5974,\tacc = 0.7099048653658862\n",
      "при n = 9, \t r2 = 0.5981,\tacc = 0.7541733515644412\n",
      "при n = 10, \t r2 = 0.6067,\tacc = 0.7965622348579926\n",
      "при n = 11, \t r2 = 0.6067,\tacc = 0.8374697732112005\n",
      "при n = 12, \t r2 = 0.6067,\tacc = 0.8717932661760995\n",
      "при n = 13, \t r2 = 0.6085,\tacc = 0.9050900981871918\n",
      "при n = 14, \t r2 = 0.6077,\tacc = 0.9320251238810958\n",
      "при n = 15, \t r2 = 0.6076,\tacc = 0.9513325674810009\n",
      "при n = 16, \t r2 = 0.6522,\tacc = 0.9662831040976891\n",
      "при n = 17, \t r2 = 0.6544,\tacc = 0.977368782184006\n",
      "при n = 18, \t r2 = 0.6544,\tacc = 0.9873312287376723\n",
      "при n = 19, \t r2 = 0.6725,\tacc = 0.9954685594464078\n",
      "при n = 20, \t r2 = 0.6710,\tacc = 0.9993093713917002\n",
      "при n = 21, \t r2 = 0.6719,\tacc = 1.0\n",
      "при n = 22, \t r2 = 0.6719,\tacc = 1.0\n",
      "при n = 23, \t r2 = 0.6719,\tacc = 1.0\n",
      "при n = 24, \t r2 = 0.6719,\tacc = 1.0\n",
      "при n = 25, \t r2 = 0.6719,\tacc = 1.0\n"
     ]
    }
   ],
   "source": [
    "print(\"Оценка линейной регрессии при разном количестве взятых признаков:\")\n",
    "for n in range(1,X_train.shape[1] + 1):\n",
    "    pca = PCA(n_components=n, random_state=42)\n",
    "    X_train_mc = pca.fit_transform(X_train_scaled)\n",
    "    X_test_mc = pca.transform(X_test_scaled)\n",
    "    lr = LinearRegression()\n",
    "    r2 = get_model_r2(X_train_mc, y_train, X_test_mc, y_test, lr)\n",
    "    \n",
    "    print(f'при n = {n}, \\t r2 = {r2:.4f},\\tacc = {np.sum(pca.explained_variance_ratio_[:n])}')"
   ]
  },
  {
   "cell_type": "markdown",
   "metadata": {},
   "source": [
    "Мы видим что лучший результат достигается при $n = 19$"
   ]
  },
  {
   "cell_type": "code",
   "execution_count": 198,
   "metadata": {},
   "outputs": [
    {
     "data": {
      "text/plain": [
       "0.672546719760197"
      ]
     },
     "execution_count": 198,
     "metadata": {},
     "output_type": "execute_result"
    }
   ],
   "source": [
    "pca = PCA(n_components=19, random_state=42)\n",
    "\n",
    "X_train_mc = pca.fit_transform(X_train_scaled)\n",
    "\n",
    "X_test_mc = pca.transform(X_test_scaled)\n",
    "\n",
    "get_model_r2(X_train_mc, y_train, X_test_mc, y_test, lr)"
   ]
  },
  {
   "cell_type": "markdown",
   "metadata": {},
   "source": [
    "#### Дерево решений"
   ]
  },
  {
   "cell_type": "code",
   "execution_count": 199,
   "metadata": {},
   "outputs": [],
   "source": [
    "decision_tree = GridSearchCV(estimator=DecisionTreeRegressor(random_state=42),\n",
    "                   param_grid=[{'max_depth': np.arange(2,40)}],\n",
    "                   scoring='r2',\n",
    "                   n_jobs=-1,\n",
    "                   cv=5)"
   ]
  },
  {
   "cell_type": "code",
   "execution_count": 200,
   "metadata": {},
   "outputs": [],
   "source": [
    "decision_tree.fit(X_train_mc, y_train);"
   ]
  },
  {
   "cell_type": "code",
   "execution_count": 201,
   "metadata": {},
   "outputs": [
    {
     "name": "stdout",
     "output_type": "stream",
     "text": [
      "best max_depth: 5, \tbest r2:0.6601146607476543\n"
     ]
    }
   ],
   "source": [
    "print(f'best max_depth: {decision_tree.best_params_[\"max_depth\"]}, \\tbest r2:{decision_tree.best_score_}')"
   ]
  },
  {
   "cell_type": "code",
   "execution_count": 202,
   "metadata": {},
   "outputs": [
    {
     "data": {
      "text/plain": [
       "0.487934530607555"
      ]
     },
     "execution_count": 202,
     "metadata": {},
     "output_type": "execute_result"
    }
   ],
   "source": [
    "y_pred=decision_tree.predict(X_test_mc)\n",
    "r2_score(y_test, y_pred)"
   ]
  },
  {
   "cell_type": "code",
   "execution_count": 203,
   "metadata": {},
   "outputs": [],
   "source": [
    "def do_tree(max_depth):\n",
    "    model = DecisionTreeRegressor(max_depth=max_depth, random_state=42)\n",
    "    return get_model_r2(X_train_mc, y_train, X_test_mc, y_test, model)\n",
    "    \n",
    "def best_tree_score():\n",
    "    max_depths = np.arange(2,40)\n",
    "    with Pool() as p:  \n",
    "        tree_score_list = p.map(do_tree, max_depths)\n",
    "    return dict(zip(max_depths, tree_score_list))"
   ]
  },
  {
   "cell_type": "code",
   "execution_count": 204,
   "metadata": {},
   "outputs": [],
   "source": [
    "tree_dict = best_tree_score()"
   ]
  },
  {
   "cell_type": "code",
   "execution_count": 205,
   "metadata": {},
   "outputs": [
    {
     "name": "stdout",
     "output_type": "stream",
     "text": [
      "Оценка дерева решений с переменной глубиной \n",
      "max_depth: 2 \t r2: 0.4201\n",
      "max_depth: 3 \t r2: 0.4703\n",
      "max_depth: 4 \t r2: 0.4462\n",
      "max_depth: 5 \t r2: 0.4879\n",
      "max_depth: 6 \t r2: 0.5003\n",
      "max_depth: 7 \t r2: 0.4466\n",
      "max_depth: 8 \t r2: 0.3866\n",
      "max_depth: 9 \t r2: 0.4402\n",
      "max_depth: 10 \t r2: 0.3449\n",
      "max_depth: 11 \t r2: 0.3572\n",
      "max_depth: 12 \t r2: 0.3681\n",
      "max_depth: 13 \t r2: 0.3125\n",
      "max_depth: 14 \t r2: 0.2863\n",
      "max_depth: 15 \t r2: 0.2922\n",
      "max_depth: 16 \t r2: 0.2870\n",
      "max_depth: 17 \t r2: 0.2337\n",
      "max_depth: 18 \t r2: 0.3253\n",
      "max_depth: 19 \t r2: 0.2894\n",
      "max_depth: 20 \t r2: 0.2419\n",
      "max_depth: 21 \t r2: 0.2826\n",
      "max_depth: 22 \t r2: 0.2599\n",
      "max_depth: 23 \t r2: 0.2925\n",
      "max_depth: 24 \t r2: 0.2754\n",
      "max_depth: 25 \t r2: 0.2397\n",
      "max_depth: 26 \t r2: 0.2559\n",
      "max_depth: 27 \t r2: 0.2813\n",
      "max_depth: 28 \t r2: 0.2695\n",
      "max_depth: 29 \t r2: 0.2671\n",
      "max_depth: 30 \t r2: 0.2755\n",
      "max_depth: 31 \t r2: 0.3044\n",
      "max_depth: 32 \t r2: 0.3026\n",
      "max_depth: 33 \t r2: 0.2776\n",
      "max_depth: 34 \t r2: 0.2695\n",
      "max_depth: 35 \t r2: 0.2823\n",
      "max_depth: 36 \t r2: 0.2830\n",
      "max_depth: 37 \t r2: 0.2830\n",
      "max_depth: 38 \t r2: 0.2830\n",
      "max_depth: 39 \t r2: 0.2830\n"
     ]
    }
   ],
   "source": [
    "print(\"Оценка дерева решений с переменной глубиной \")\n",
    "for depth, r2 in tree_dict.items():\n",
    "    print(f'max_depth: {depth} \\t r2: {r2:.4f}')"
   ]
  },
  {
   "cell_type": "code",
   "execution_count": 62,
   "metadata": {},
   "outputs": [
    {
     "name": "stdout",
     "output_type": "stream",
     "text": [
      "\u001b[31mConfig not found\u001b[0m\r\n",
      "Please run: \u001b[1mtelegram-send --configure\u001b[0m\r\n",
      "\u001b[0m"
     ]
    }
   ],
   "source": [
    "!telegram-send 'Проверяй!'"
   ]
  },
  {
   "cell_type": "markdown",
   "metadata": {},
   "source": [
    "При вычислении регресси деревом решений глубины 6 мы получаем точность $r2 = 0.54$"
   ]
  },
  {
   "cell_type": "markdown",
   "metadata": {},
   "source": [
    "#### Случайный лес"
   ]
  },
  {
   "cell_type": "code",
   "execution_count": 63,
   "metadata": {},
   "outputs": [],
   "source": [
    "decision_tree = GridSearchCV(estimator=DecisionTreeRegressor(random_state=42),\n",
    "                   param_grid=[{'max_depth': np.arange(2,40)}],\n",
    "                   scoring='r2',\n",
    "                   n_jobs=-1,\n",
    "                   cv=5)"
   ]
  },
  {
   "cell_type": "code",
   "execution_count": 64,
   "metadata": {},
   "outputs": [],
   "source": [
    "def do_forest(max_depth):\n",
    "    model = RandomForestRegressor(n_estimators=1000, max_depth=max_depth, random_state=42)\n",
    "    return get_model_r2(X_train_mc, y_train, X_test_mc, y_test, model)\n",
    "    \n",
    "def best_forest_score():\n",
    "    max_depths = np.arange(15,31)\n",
    "    with Pool() as p:  \n",
    "        forest_score_list = p.map(do_forest, max_depths)\n",
    "    return dict(zip(max_depths, forest_score_list))"
   ]
  },
  {
   "cell_type": "code",
   "execution_count": 65,
   "metadata": {},
   "outputs": [],
   "source": [
    "forest_dict = best_forest_score()"
   ]
  },
  {
   "cell_type": "code",
   "execution_count": 66,
   "metadata": {},
   "outputs": [
    {
     "name": "stdout",
     "output_type": "stream",
     "text": [
      "\u001b[31mConfig not found\u001b[0m\r\n",
      "Please run: \u001b[1mtelegram-send --configure\u001b[0m\r\n",
      "\u001b[0m"
     ]
    }
   ],
   "source": [
    "!telegram-send \"Я сделялъ\""
   ]
  },
  {
   "cell_type": "code",
   "execution_count": 67,
   "metadata": {},
   "outputs": [
    {
     "name": "stdout",
     "output_type": "stream",
     "text": [
      "Оценка случайных деревьев с переменной глубиной \n",
      "max_depth: 15 \t r2: 0.7093\n",
      "max_depth: 16 \t r2: 0.7094\n",
      "max_depth: 17 \t r2: 0.7089\n",
      "max_depth: 18 \t r2: 0.7089\n",
      "max_depth: 19 \t r2: 0.7089\n",
      "max_depth: 20 \t r2: 0.7095\n",
      "max_depth: 21 \t r2: 0.7086\n",
      "max_depth: 22 \t r2: 0.7094\n",
      "max_depth: 23 \t r2: 0.7087\n",
      "max_depth: 24 \t r2: 0.7085\n",
      "max_depth: 25 \t r2: 0.7086\n",
      "max_depth: 26 \t r2: 0.7093\n",
      "max_depth: 27 \t r2: 0.7089\n",
      "max_depth: 28 \t r2: 0.7089\n",
      "max_depth: 29 \t r2: 0.7089\n",
      "max_depth: 30 \t r2: 0.7092\n"
     ]
    }
   ],
   "source": [
    "print(\"Оценка случайных деревьев с переменной глубиной \")\n",
    "for depth, r2 in forest_dict.items():\n",
    "    print(f'max_depth: {depth} \\t r2: {r2:.4f}')"
   ]
  },
  {
   "cell_type": "markdown",
   "metadata": {},
   "source": [
    "При вычислении регрессии случайным лесом глубиной 23 мы получаем точность $r2 = 0.7072$"
   ]
  },
  {
   "cell_type": "markdown",
   "metadata": {},
   "source": [
    "#### Расширенный случайный лес\n",
    "будем использовать также `GredSearchCV`"
   ]
  },
  {
   "cell_type": "code",
   "execution_count": 68,
   "metadata": {},
   "outputs": [],
   "source": [
    "parametrs = [{'n_estimators': [150,200,250,500,750,1000],\n",
    "              'max_features': [\"auto\", \"sqrt\", \"log2\"],\n",
    "              'max_depth': np.arange(10,25)}]"
   ]
  },
  {
   "cell_type": "code",
   "execution_count": 206,
   "metadata": {},
   "outputs": [],
   "source": [
    "clf = GridSearchCV(estimator=RandomForestRegressor(random_state=42),\n",
    "                   param_grid=parametrs,\n",
    "                   scoring='r2',\n",
    "                   n_jobs=-1,\n",
    "                   cv=5)"
   ]
  },
  {
   "cell_type": "code",
   "execution_count": 207,
   "metadata": {},
   "outputs": [
    {
     "ename": "KeyboardInterrupt",
     "evalue": "",
     "output_type": "error",
     "traceback": [
      "\u001b[0;31m---------------------------------------------------------------------------\u001b[0m",
      "\u001b[0;31mKeyboardInterrupt\u001b[0m                         Traceback (most recent call last)",
      "\u001b[0;32m<ipython-input-207-8c4ffc14818f>\u001b[0m in \u001b[0;36m<module>\u001b[0;34m\u001b[0m\n\u001b[0;32m----> 1\u001b[0;31m \u001b[0mclf\u001b[0m\u001b[0;34m.\u001b[0m\u001b[0mfit\u001b[0m\u001b[0;34m(\u001b[0m\u001b[0mX_train_mc\u001b[0m\u001b[0;34m,\u001b[0m \u001b[0my_train\u001b[0m\u001b[0;34m)\u001b[0m\u001b[0;34m\u001b[0m\u001b[0;34m\u001b[0m\u001b[0m\n\u001b[0m",
      "\u001b[0;32m~/anaconda3/lib/python3.7/site-packages/sklearn/model_selection/_search.py\u001b[0m in \u001b[0;36mfit\u001b[0;34m(self, X, y, groups, **fit_params)\u001b[0m\n\u001b[1;32m    720\u001b[0m                 \u001b[0;32mreturn\u001b[0m \u001b[0mresults_container\u001b[0m\u001b[0;34m[\u001b[0m\u001b[0;36m0\u001b[0m\u001b[0;34m]\u001b[0m\u001b[0;34m\u001b[0m\u001b[0;34m\u001b[0m\u001b[0m\n\u001b[1;32m    721\u001b[0m \u001b[0;34m\u001b[0m\u001b[0m\n\u001b[0;32m--> 722\u001b[0;31m             \u001b[0mself\u001b[0m\u001b[0;34m.\u001b[0m\u001b[0m_run_search\u001b[0m\u001b[0;34m(\u001b[0m\u001b[0mevaluate_candidates\u001b[0m\u001b[0;34m)\u001b[0m\u001b[0;34m\u001b[0m\u001b[0;34m\u001b[0m\u001b[0m\n\u001b[0m\u001b[1;32m    723\u001b[0m \u001b[0;34m\u001b[0m\u001b[0m\n\u001b[1;32m    724\u001b[0m         \u001b[0mresults\u001b[0m \u001b[0;34m=\u001b[0m \u001b[0mresults_container\u001b[0m\u001b[0;34m[\u001b[0m\u001b[0;36m0\u001b[0m\u001b[0;34m]\u001b[0m\u001b[0;34m\u001b[0m\u001b[0;34m\u001b[0m\u001b[0m\n",
      "\u001b[0;32m~/anaconda3/lib/python3.7/site-packages/sklearn/model_selection/_search.py\u001b[0m in \u001b[0;36m_run_search\u001b[0;34m(self, evaluate_candidates)\u001b[0m\n\u001b[1;32m   1189\u001b[0m     \u001b[0;32mdef\u001b[0m \u001b[0m_run_search\u001b[0m\u001b[0;34m(\u001b[0m\u001b[0mself\u001b[0m\u001b[0;34m,\u001b[0m \u001b[0mevaluate_candidates\u001b[0m\u001b[0;34m)\u001b[0m\u001b[0;34m:\u001b[0m\u001b[0;34m\u001b[0m\u001b[0;34m\u001b[0m\u001b[0m\n\u001b[1;32m   1190\u001b[0m         \u001b[0;34m\"\"\"Search all candidates in param_grid\"\"\"\u001b[0m\u001b[0;34m\u001b[0m\u001b[0;34m\u001b[0m\u001b[0m\n\u001b[0;32m-> 1191\u001b[0;31m         \u001b[0mevaluate_candidates\u001b[0m\u001b[0;34m(\u001b[0m\u001b[0mParameterGrid\u001b[0m\u001b[0;34m(\u001b[0m\u001b[0mself\u001b[0m\u001b[0;34m.\u001b[0m\u001b[0mparam_grid\u001b[0m\u001b[0;34m)\u001b[0m\u001b[0;34m)\u001b[0m\u001b[0;34m\u001b[0m\u001b[0;34m\u001b[0m\u001b[0m\n\u001b[0m\u001b[1;32m   1192\u001b[0m \u001b[0;34m\u001b[0m\u001b[0m\n\u001b[1;32m   1193\u001b[0m \u001b[0;34m\u001b[0m\u001b[0m\n",
      "\u001b[0;32m~/anaconda3/lib/python3.7/site-packages/sklearn/model_selection/_search.py\u001b[0m in \u001b[0;36mevaluate_candidates\u001b[0;34m(candidate_params)\u001b[0m\n\u001b[1;32m    709\u001b[0m                                \u001b[0;32mfor\u001b[0m \u001b[0mparameters\u001b[0m\u001b[0;34m,\u001b[0m \u001b[0;34m(\u001b[0m\u001b[0mtrain\u001b[0m\u001b[0;34m,\u001b[0m \u001b[0mtest\u001b[0m\u001b[0;34m)\u001b[0m\u001b[0;34m\u001b[0m\u001b[0;34m\u001b[0m\u001b[0m\n\u001b[1;32m    710\u001b[0m                                in product(candidate_params,\n\u001b[0;32m--> 711\u001b[0;31m                                           cv.split(X, y, groups)))\n\u001b[0m\u001b[1;32m    712\u001b[0m \u001b[0;34m\u001b[0m\u001b[0m\n\u001b[1;32m    713\u001b[0m                 \u001b[0mall_candidate_params\u001b[0m\u001b[0;34m.\u001b[0m\u001b[0mextend\u001b[0m\u001b[0;34m(\u001b[0m\u001b[0mcandidate_params\u001b[0m\u001b[0;34m)\u001b[0m\u001b[0;34m\u001b[0m\u001b[0;34m\u001b[0m\u001b[0m\n",
      "\u001b[0;32m~/anaconda3/lib/python3.7/site-packages/sklearn/externals/joblib/parallel.py\u001b[0m in \u001b[0;36m__call__\u001b[0;34m(self, iterable)\u001b[0m\n\u001b[1;32m    928\u001b[0m \u001b[0;34m\u001b[0m\u001b[0m\n\u001b[1;32m    929\u001b[0m             \u001b[0;32mwith\u001b[0m \u001b[0mself\u001b[0m\u001b[0;34m.\u001b[0m\u001b[0m_backend\u001b[0m\u001b[0;34m.\u001b[0m\u001b[0mretrieval_context\u001b[0m\u001b[0;34m(\u001b[0m\u001b[0;34m)\u001b[0m\u001b[0;34m:\u001b[0m\u001b[0;34m\u001b[0m\u001b[0;34m\u001b[0m\u001b[0m\n\u001b[0;32m--> 930\u001b[0;31m                 \u001b[0mself\u001b[0m\u001b[0;34m.\u001b[0m\u001b[0mretrieve\u001b[0m\u001b[0;34m(\u001b[0m\u001b[0;34m)\u001b[0m\u001b[0;34m\u001b[0m\u001b[0;34m\u001b[0m\u001b[0m\n\u001b[0m\u001b[1;32m    931\u001b[0m             \u001b[0;31m# Make sure that we get a last message telling us we are done\u001b[0m\u001b[0;34m\u001b[0m\u001b[0;34m\u001b[0m\u001b[0;34m\u001b[0m\u001b[0m\n\u001b[1;32m    932\u001b[0m             \u001b[0melapsed_time\u001b[0m \u001b[0;34m=\u001b[0m \u001b[0mtime\u001b[0m\u001b[0;34m.\u001b[0m\u001b[0mtime\u001b[0m\u001b[0;34m(\u001b[0m\u001b[0;34m)\u001b[0m \u001b[0;34m-\u001b[0m \u001b[0mself\u001b[0m\u001b[0;34m.\u001b[0m\u001b[0m_start_time\u001b[0m\u001b[0;34m\u001b[0m\u001b[0;34m\u001b[0m\u001b[0m\n",
      "\u001b[0;32m~/anaconda3/lib/python3.7/site-packages/sklearn/externals/joblib/parallel.py\u001b[0m in \u001b[0;36mretrieve\u001b[0;34m(self)\u001b[0m\n\u001b[1;32m    831\u001b[0m             \u001b[0;32mtry\u001b[0m\u001b[0;34m:\u001b[0m\u001b[0;34m\u001b[0m\u001b[0;34m\u001b[0m\u001b[0m\n\u001b[1;32m    832\u001b[0m                 \u001b[0;32mif\u001b[0m \u001b[0mgetattr\u001b[0m\u001b[0;34m(\u001b[0m\u001b[0mself\u001b[0m\u001b[0;34m.\u001b[0m\u001b[0m_backend\u001b[0m\u001b[0;34m,\u001b[0m \u001b[0;34m'supports_timeout'\u001b[0m\u001b[0;34m,\u001b[0m \u001b[0;32mFalse\u001b[0m\u001b[0;34m)\u001b[0m\u001b[0;34m:\u001b[0m\u001b[0;34m\u001b[0m\u001b[0;34m\u001b[0m\u001b[0m\n\u001b[0;32m--> 833\u001b[0;31m                     \u001b[0mself\u001b[0m\u001b[0;34m.\u001b[0m\u001b[0m_output\u001b[0m\u001b[0;34m.\u001b[0m\u001b[0mextend\u001b[0m\u001b[0;34m(\u001b[0m\u001b[0mjob\u001b[0m\u001b[0;34m.\u001b[0m\u001b[0mget\u001b[0m\u001b[0;34m(\u001b[0m\u001b[0mtimeout\u001b[0m\u001b[0;34m=\u001b[0m\u001b[0mself\u001b[0m\u001b[0;34m.\u001b[0m\u001b[0mtimeout\u001b[0m\u001b[0;34m)\u001b[0m\u001b[0;34m)\u001b[0m\u001b[0;34m\u001b[0m\u001b[0;34m\u001b[0m\u001b[0m\n\u001b[0m\u001b[1;32m    834\u001b[0m                 \u001b[0;32melse\u001b[0m\u001b[0;34m:\u001b[0m\u001b[0;34m\u001b[0m\u001b[0;34m\u001b[0m\u001b[0m\n\u001b[1;32m    835\u001b[0m                     \u001b[0mself\u001b[0m\u001b[0;34m.\u001b[0m\u001b[0m_output\u001b[0m\u001b[0;34m.\u001b[0m\u001b[0mextend\u001b[0m\u001b[0;34m(\u001b[0m\u001b[0mjob\u001b[0m\u001b[0;34m.\u001b[0m\u001b[0mget\u001b[0m\u001b[0;34m(\u001b[0m\u001b[0;34m)\u001b[0m\u001b[0;34m)\u001b[0m\u001b[0;34m\u001b[0m\u001b[0;34m\u001b[0m\u001b[0m\n",
      "\u001b[0;32m~/anaconda3/lib/python3.7/site-packages/sklearn/externals/joblib/_parallel_backends.py\u001b[0m in \u001b[0;36mwrap_future_result\u001b[0;34m(future, timeout)\u001b[0m\n\u001b[1;32m    519\u001b[0m         AsyncResults.get from multiprocessing.\"\"\"\n\u001b[1;32m    520\u001b[0m         \u001b[0;32mtry\u001b[0m\u001b[0;34m:\u001b[0m\u001b[0;34m\u001b[0m\u001b[0;34m\u001b[0m\u001b[0m\n\u001b[0;32m--> 521\u001b[0;31m             \u001b[0;32mreturn\u001b[0m \u001b[0mfuture\u001b[0m\u001b[0;34m.\u001b[0m\u001b[0mresult\u001b[0m\u001b[0;34m(\u001b[0m\u001b[0mtimeout\u001b[0m\u001b[0;34m=\u001b[0m\u001b[0mtimeout\u001b[0m\u001b[0;34m)\u001b[0m\u001b[0;34m\u001b[0m\u001b[0;34m\u001b[0m\u001b[0m\n\u001b[0m\u001b[1;32m    522\u001b[0m         \u001b[0;32mexcept\u001b[0m \u001b[0mLokyTimeoutError\u001b[0m\u001b[0;34m:\u001b[0m\u001b[0;34m\u001b[0m\u001b[0;34m\u001b[0m\u001b[0m\n\u001b[1;32m    523\u001b[0m             \u001b[0;32mraise\u001b[0m \u001b[0mTimeoutError\u001b[0m\u001b[0;34m(\u001b[0m\u001b[0;34m)\u001b[0m\u001b[0;34m\u001b[0m\u001b[0;34m\u001b[0m\u001b[0m\n",
      "\u001b[0;32m~/anaconda3/lib/python3.7/concurrent/futures/_base.py\u001b[0m in \u001b[0;36mresult\u001b[0;34m(self, timeout)\u001b[0m\n\u001b[1;32m    425\u001b[0m                 \u001b[0;32mreturn\u001b[0m \u001b[0mself\u001b[0m\u001b[0;34m.\u001b[0m\u001b[0m__get_result\u001b[0m\u001b[0;34m(\u001b[0m\u001b[0;34m)\u001b[0m\u001b[0;34m\u001b[0m\u001b[0;34m\u001b[0m\u001b[0m\n\u001b[1;32m    426\u001b[0m \u001b[0;34m\u001b[0m\u001b[0m\n\u001b[0;32m--> 427\u001b[0;31m             \u001b[0mself\u001b[0m\u001b[0;34m.\u001b[0m\u001b[0m_condition\u001b[0m\u001b[0;34m.\u001b[0m\u001b[0mwait\u001b[0m\u001b[0;34m(\u001b[0m\u001b[0mtimeout\u001b[0m\u001b[0;34m)\u001b[0m\u001b[0;34m\u001b[0m\u001b[0;34m\u001b[0m\u001b[0m\n\u001b[0m\u001b[1;32m    428\u001b[0m \u001b[0;34m\u001b[0m\u001b[0m\n\u001b[1;32m    429\u001b[0m             \u001b[0;32mif\u001b[0m \u001b[0mself\u001b[0m\u001b[0;34m.\u001b[0m\u001b[0m_state\u001b[0m \u001b[0;32min\u001b[0m \u001b[0;34m[\u001b[0m\u001b[0mCANCELLED\u001b[0m\u001b[0;34m,\u001b[0m \u001b[0mCANCELLED_AND_NOTIFIED\u001b[0m\u001b[0;34m]\u001b[0m\u001b[0;34m:\u001b[0m\u001b[0;34m\u001b[0m\u001b[0;34m\u001b[0m\u001b[0m\n",
      "\u001b[0;32m~/anaconda3/lib/python3.7/threading.py\u001b[0m in \u001b[0;36mwait\u001b[0;34m(self, timeout)\u001b[0m\n\u001b[1;32m    294\u001b[0m         \u001b[0;32mtry\u001b[0m\u001b[0;34m:\u001b[0m    \u001b[0;31m# restore state no matter what (e.g., KeyboardInterrupt)\u001b[0m\u001b[0;34m\u001b[0m\u001b[0;34m\u001b[0m\u001b[0m\n\u001b[1;32m    295\u001b[0m             \u001b[0;32mif\u001b[0m \u001b[0mtimeout\u001b[0m \u001b[0;32mis\u001b[0m \u001b[0;32mNone\u001b[0m\u001b[0;34m:\u001b[0m\u001b[0;34m\u001b[0m\u001b[0;34m\u001b[0m\u001b[0m\n\u001b[0;32m--> 296\u001b[0;31m                 \u001b[0mwaiter\u001b[0m\u001b[0;34m.\u001b[0m\u001b[0macquire\u001b[0m\u001b[0;34m(\u001b[0m\u001b[0;34m)\u001b[0m\u001b[0;34m\u001b[0m\u001b[0;34m\u001b[0m\u001b[0m\n\u001b[0m\u001b[1;32m    297\u001b[0m                 \u001b[0mgotit\u001b[0m \u001b[0;34m=\u001b[0m \u001b[0;32mTrue\u001b[0m\u001b[0;34m\u001b[0m\u001b[0;34m\u001b[0m\u001b[0m\n\u001b[1;32m    298\u001b[0m             \u001b[0;32melse\u001b[0m\u001b[0;34m:\u001b[0m\u001b[0;34m\u001b[0m\u001b[0;34m\u001b[0m\u001b[0m\n",
      "\u001b[0;31mKeyboardInterrupt\u001b[0m: "
     ]
    }
   ],
   "source": [
    "clf.fit(X_train_mc, y_train)"
   ]
  },
  {
   "cell_type": "code",
   "execution_count": 71,
   "metadata": {},
   "outputs": [
    {
     "data": {
      "text/plain": [
       "({'max_depth': 15, 'max_features': 'sqrt', 'n_estimators': 200},\n",
       " 0.790034250633083)"
      ]
     },
     "execution_count": 71,
     "metadata": {},
     "output_type": "execute_result"
    }
   ],
   "source": [
    "clf.best_params_, clf.best_score_"
   ]
  },
  {
   "cell_type": "markdown",
   "metadata": {},
   "source": [
    "Наилучшие парамедры для случайного леса:\n",
    "\n",
    "'max_depth': 21, 'max_features': 'sqrt', 'n_estimators': 750\n",
    "\n",
    "r2 = 0.719"
   ]
  },
  {
   "cell_type": "code",
   "execution_count": 84,
   "metadata": {},
   "outputs": [
    {
     "data": {
      "text/plain": [
       "0.7125869949316297"
      ]
     },
     "execution_count": 84,
     "metadata": {},
     "output_type": "execute_result"
    }
   ],
   "source": [
    "y_pred = clf.predict(X_test_mc)\n",
    "test_r2 = r2_score(y_test, y_pred)\n",
    "test_r2"
   ]
  },
  {
   "cell_type": "markdown",
   "metadata": {},
   "source": [
    "#### L1, L2 регуляризация"
   ]
  },
  {
   "cell_type": "code",
   "execution_count": 80,
   "metadata": {},
   "outputs": [],
   "source": [
    "test = pd.read_csv(test_path)"
   ]
  },
  {
   "cell_type": "code",
   "execution_count": 81,
   "metadata": {
    "scrolled": true
   },
   "outputs": [
    {
     "data": {
      "text/plain": [
       "0.0    2928\n",
       "1.0    1257\n",
       "3.0     320\n",
       "5.0     175\n",
       "2.0     102\n",
       "Name: Helthcare_2, dtype: int64"
      ]
     },
     "execution_count": 81,
     "metadata": {},
     "output_type": "execute_result"
    }
   ],
   "source": [
    "data.Helthcare_2.value_counts()"
   ]
  },
  {
   "cell_type": "code",
   "execution_count": null,
   "metadata": {},
   "outputs": [],
   "source": []
  }
 ],
 "metadata": {
  "kernelspec": {
   "display_name": "Python 3",
   "language": "python",
   "name": "python3"
  },
  "language_info": {
   "codemirror_mode": {
    "name": "ipython",
    "version": 3
   },
   "file_extension": ".py",
   "mimetype": "text/x-python",
   "name": "python",
   "nbconvert_exporter": "python",
   "pygments_lexer": "ipython3",
   "version": "3.7.1"
  }
 },
 "nbformat": 4,
 "nbformat_minor": 2
}
